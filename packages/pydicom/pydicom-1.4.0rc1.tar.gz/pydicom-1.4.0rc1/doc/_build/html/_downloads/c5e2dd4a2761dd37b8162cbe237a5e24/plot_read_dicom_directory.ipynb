{
  "cells": [
    {
      "cell_type": "code",
      "execution_count": null,
      "metadata": {
        "collapsed": false
      },
      "outputs": [],
      "source": [
        "%matplotlib inline"
      ]
    },
    {
      "cell_type": "markdown",
      "metadata": {},
      "source": [
        "\n# Read DICOM directory\n\n\nThis example shows how to read DICOM directory.\n"
      ]
    },
    {
      "cell_type": "code",
      "execution_count": null,
      "metadata": {
        "collapsed": false
      },
      "outputs": [],
      "source": [
        "# authors : Guillaume Lemaitre <g.lemaitre58@gmail.com>\n# license : MIT\n\nfrom os.path import dirname, join\nfrom pprint import pprint\n\nimport pydicom\nfrom pydicom.data import get_testdata_file\nfrom pydicom.filereader import read_dicomdir\n\n# fetch the path to the test data\nfilepath = get_testdata_file('DICOMDIR')\nprint('Path to the DICOM directory: {}'.format(filepath))\n# load the data\ndicom_dir = read_dicomdir(filepath)\nbase_dir = dirname(filepath)\n\n# go through the patient record and print information\nfor patient_record in dicom_dir.patient_records:\n    if (hasattr(patient_record, 'PatientID') and\n            hasattr(patient_record, 'PatientName')):\n        print(\"Patient: {}: {}\".format(patient_record.PatientID,\n                                       patient_record.PatientName))\n    studies = patient_record.children\n    # got through each serie\n    for study in studies:\n        print(\" \" * 4 + \"Study {}: {}: {}\".format(study.StudyID,\n                                                  study.StudyDate,\n                                                  study.StudyDescription))\n        all_series = study.children\n        # go through each serie\n        for series in all_series:\n            image_count = len(series.children)\n            plural = ('', 's')[image_count > 1]\n\n            # Write basic series info and image count\n\n            # Put N/A in if no Series Description\n            if 'SeriesDescription' not in series:\n                series.SeriesDescription = \"N/A\"\n            print(\" \" * 8 + \"Series {}: {}: {} ({} image{})\".format(\n                series.SeriesNumber, series.Modality, series.SeriesDescription,\n                image_count, plural))\n\n            # Open and read something from each image, for demonstration\n            # purposes. For simple quick overview of DICOMDIR, leave the\n            # following out\n            print(\" \" * 12 + \"Reading images...\")\n            image_records = series.children\n            image_filenames = [join(base_dir, *image_rec.ReferencedFileID)\n                               for image_rec in image_records]\n\n            datasets = [pydicom.dcmread(image_filename)\n                        for image_filename in image_filenames]\n\n            patient_names = set(ds.PatientName for ds in datasets)\n            patient_IDs = set(ds.PatientID for ds in datasets)\n\n            # List the image filenames\n            print(\"\\n\" + \" \" * 12 + \"Image filenames:\")\n            print(\" \" * 12, end=' ')\n            pprint(image_filenames, indent=12)\n\n            # Expect all images to have same patient name, id\n            # Show the set of all names, IDs found (should each have one)\n            print(\" \" * 12 + \"Patient Names in images..: {}\".format(\n                patient_names))\n            print(\" \" * 12 + \"Patient IDs in images..: {}\".format(\n                patient_IDs))"
      ]
    }
  ],
  "metadata": {
    "kernelspec": {
      "display_name": "Python 3",
      "language": "python",
      "name": "python3"
    },
    "language_info": {
      "codemirror_mode": {
        "name": "ipython",
        "version": 3
      },
      "file_extension": ".py",
      "mimetype": "text/x-python",
      "name": "python",
      "nbconvert_exporter": "python",
      "pygments_lexer": "ipython3",
      "version": "3.8.0"
    }
  },
  "nbformat": 4,
  "nbformat_minor": 0
}
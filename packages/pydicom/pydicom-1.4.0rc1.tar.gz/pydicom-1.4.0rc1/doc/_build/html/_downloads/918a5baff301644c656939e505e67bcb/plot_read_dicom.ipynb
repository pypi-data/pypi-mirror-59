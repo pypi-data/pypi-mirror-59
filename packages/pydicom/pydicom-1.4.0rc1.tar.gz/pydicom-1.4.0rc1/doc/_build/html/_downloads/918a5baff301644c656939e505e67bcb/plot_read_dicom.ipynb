{
  "cells": [
    {
      "cell_type": "code",
      "execution_count": null,
      "metadata": {
        "collapsed": false
      },
      "outputs": [],
      "source": [
        "%matplotlib inline"
      ]
    },
    {
      "cell_type": "markdown",
      "metadata": {},
      "source": [
        "\n# Read DICOM and ploting using matplotlib\n\n\nThis example illustrates how to open a DICOM file, print some dataset\ninformation, and show it using matplotlib.\n"
      ]
    },
    {
      "cell_type": "code",
      "execution_count": null,
      "metadata": {
        "collapsed": false
      },
      "outputs": [],
      "source": [
        "# authors : Guillaume Lemaitre <g.lemaitre58@gmail.com>\n# license : MIT\n\nimport matplotlib.pyplot as plt\nimport pydicom\nfrom pydicom.data import get_testdata_files\n\nprint(__doc__)\n\nfilename = get_testdata_files('CT_small.dcm')[0]\ndataset = pydicom.dcmread(filename)\n\n# Normal mode:\nprint()\nprint(\"Filename.........:\", filename)\nprint(\"Storage type.....:\", dataset.SOPClassUID)\nprint()\n\npat_name = dataset.PatientName\ndisplay_name = pat_name.family_name + \", \" + pat_name.given_name\nprint(\"Patient's name...:\", display_name)\nprint(\"Patient id.......:\", dataset.PatientID)\nprint(\"Modality.........:\", dataset.Modality)\nprint(\"Study Date.......:\", dataset.StudyDate)\n\nif 'PixelData' in dataset:\n    rows = int(dataset.Rows)\n    cols = int(dataset.Columns)\n    print(\"Image size.......: {rows:d} x {cols:d}, {size:d} bytes\".format(\n        rows=rows, cols=cols, size=len(dataset.PixelData)))\n    if 'PixelSpacing' in dataset:\n        print(\"Pixel spacing....:\", dataset.PixelSpacing)\n\n# use .get() if not sure the item exists, and want a default value if missing\nprint(\"Slice location...:\", dataset.get('SliceLocation', \"(missing)\"))\n\n# plot the image using matplotlib\nplt.imshow(dataset.pixel_array, cmap=plt.cm.bone)\nplt.show()"
      ]
    }
  ],
  "metadata": {
    "kernelspec": {
      "display_name": "Python 3",
      "language": "python",
      "name": "python3"
    },
    "language_info": {
      "codemirror_mode": {
        "name": "ipython",
        "version": 3
      },
      "file_extension": ".py",
      "mimetype": "text/x-python",
      "name": "python",
      "nbconvert_exporter": "python",
      "pygments_lexer": "ipython3",
      "version": "3.8.0"
    }
  },
  "nbformat": 4,
  "nbformat_minor": 0
}
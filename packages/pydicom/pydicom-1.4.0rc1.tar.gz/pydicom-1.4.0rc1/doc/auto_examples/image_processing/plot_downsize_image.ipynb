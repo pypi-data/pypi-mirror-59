{
  "cells": [
    {
      "cell_type": "code",
      "execution_count": null,
      "metadata": {
        "collapsed": false
      },
      "outputs": [],
      "source": [
        "%matplotlib inline"
      ]
    },
    {
      "cell_type": "markdown",
      "metadata": {},
      "source": [
        "\n# Downsize MRI image using pydicom\n\n\nThis example shows how to downsize an MR image from $512  imes 512$ to\n$64       imes 64$. The downsizing is performed by taking the central section\ninstead of averagin the pixels. Finally, the image is store as a dicom image.\n\n<div class=\"alert alert-info\"><h4>Note</h4><p>This example requires the Numpy library to manipulate the pixel data.</p></div>\n"
      ]
    },
    {
      "cell_type": "code",
      "execution_count": null,
      "metadata": {
        "collapsed": false
      },
      "outputs": [],
      "source": [
        "# authors : Guillaume Lemaitre <g.lemaitre58@gmail.com>\n# license : MIT\n\nimport pydicom\nfrom pydicom.data import get_testdata_files\n\nprint(__doc__)\n\n# FIXME: add a full-sized MR image in the testing data\nfilename = get_testdata_files('MR_small.dcm')[0]\nds = pydicom.dcmread(filename)\n\n# get the pixel information into a numpy array\ndata = ds.pixel_array\nprint('The image has {} x {} voxels'.format(data.shape[0],\n                                            data.shape[1]))\ndata_downsampling = data[::8, ::8]\nprint('The downsampled image has {} x {} voxels'.format(\n    data_downsampling.shape[0], data_downsampling.shape[1]))\n\n# copy the data back to the original data set\nds.PixelData = data_downsampling.tobytes()\n# update the information regarding the shape of the data array\nds.Rows, ds.Columns = data_downsampling.shape\n\n# print the image information given in the dataset\nprint('The information of the data set after downsampling: \\n')\nprint(ds)"
      ]
    }
  ],
  "metadata": {
    "kernelspec": {
      "display_name": "Python 3",
      "language": "python",
      "name": "python3"
    },
    "language_info": {
      "codemirror_mode": {
        "name": "ipython",
        "version": 3
      },
      "file_extension": ".py",
      "mimetype": "text/x-python",
      "name": "python",
      "nbconvert_exporter": "python",
      "pygments_lexer": "ipython3",
      "version": "3.8.0"
    }
  },
  "nbformat": 4,
  "nbformat_minor": 0
}
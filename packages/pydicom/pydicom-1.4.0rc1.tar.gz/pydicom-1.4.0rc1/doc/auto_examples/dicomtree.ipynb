{
  "cells": [
    {
      "cell_type": "code",
      "execution_count": null,
      "metadata": {
        "collapsed": false
      },
      "outputs": [],
      "source": [
        "%matplotlib inline"
      ]
    },
    {
      "cell_type": "markdown",
      "metadata": {},
      "source": [
        "\n# Show a dicom file using hierarchical tree\n\nShow a dicom file using a hierarchical tree in a graphical window.\n\nsudo apt install tix-dev\nsudo pip install -U pydicom\npython3 dicomtree.py file.dcm\nOr in file browser, right click on file.dcm, open with custom command:\npython3 dicomtree.py\n"
      ]
    },
    {
      "cell_type": "code",
      "execution_count": null,
      "metadata": {
        "collapsed": false
      },
      "outputs": [],
      "source": [
        "from __future__ import print_function\n\nfrom pydicom import compat\n\nif compat.in_py2:\n    import Tix as tkinter_tix\nelse:\n    import tkinter.tix as tkinter_tix\n\nprint(__doc__)\n\nusage = \"Usage: python dicomtree.py dicom_filename\"\n\n\ndef RunTree(w, filename):\n    top = tkinter_tix.Frame(w, relief=tkinter_tix.RAISED, bd=1)\n    tree = tkinter_tix.Tree(top, options=\"hlist.columns 2\")\n    tree.pack(expand=1, fill=tkinter_tix.BOTH, padx=10, pady=10,\n              side=tkinter_tix.LEFT)\n    # print(tree.hlist.keys())   # use to see the available configure() options\n    tree.hlist.configure(bg='white', font='Courier 10', indent=30)\n    tree.hlist.configure(selectbackground='light yellow', gap=150)\n\n    box = tkinter_tix.ButtonBox(w, orientation=tkinter_tix.HORIZONTAL)\n    # box.add('ok', text='Ok', underline=0, command=w.destroy, width=6)\n    box.add('exit', text='Exit', underline=0, command=w.destroy, width=6)\n    box.pack(side=tkinter_tix.BOTTOM, fill=tkinter_tix.X)\n    top.pack(side=tkinter_tix.TOP, fill=tkinter_tix.BOTH, expand=1)\n    # https://stackoverflow.com/questions/17355902/python-tkinter-binding-mousewheel-to-scrollbar\n    tree.bind_all('<MouseWheel>', lambda event:  # Wheel in Windows\n                  tree.hlist.yview_scroll(int(-1 * event.delta / 120.),\n                                          \"units\"))\n    tree.bind_all('<Button-4>', lambda event:  # Wheel up in Linux\n                  tree.hlist.yview_scroll(int(-1), \"units\"))\n    tree.bind_all('<Button-5>', lambda event:  # Wheel down in Linux\n                  tree.hlist.yview_scroll(int(+1), \"units\"))\n\n    show_file(filename, tree)\n\n\ndef show_file(filename, tree):\n    tree.hlist.add(\"root\", text=filename)\n    ds = pydicom.dcmread(sys.argv[1])\n    ds.decode()  # change strings to unicode\n    recurse_tree(tree, ds, \"root\", False)\n    tree.autosetmode()\n\n\ndef recurse_tree(tree, dataset, parent, hide=False):\n    # order the dicom tags\n    for data_element in dataset:\n        node_id = parent + \".\" + hex(id(data_element))\n        if isinstance(data_element.value, compat.text_type):\n            tree.hlist.add(node_id, text=compat.text_type(data_element))\n        else:\n            tree.hlist.add(node_id, text=str(data_element))\n        if hide:\n            tree.hlist.hide_entry(node_id)\n        if data_element.VR == \"SQ\":  # a sequence\n            for i, dataset in enumerate(data_element.value):\n                item_id = node_id + \".\" + str(i + 1)\n                sq_item_description = data_element.name.replace(\n                    \" Sequence\", \"\")  # XXX not i18n\n                item_text = \"{0:s} {1:d}\".format(sq_item_description, i + 1)\n                tree.hlist.add(item_id, text=item_text)\n                tree.hlist.hide_entry(item_id)\n                recurse_tree(tree, dataset, item_id, hide=True)\n\n\nif __name__ == '__main__':\n    import sys\n    import pydicom\n\n    if len(sys.argv) != 2:\n        print(\"Please supply a dicom file name:\\n\")\n        print(usage)\n        sys.exit(-1)\n    root = tkinter_tix.Tk()\n    root.geometry(\"{0:d}x{1:d}+{2:d}+{3:d}\".format(1200, 900, 0, 0))\n    root.title(\"DICOM tree viewer - \" + sys.argv[1])\n\n    RunTree(root, sys.argv[1])\n    root.mainloop()"
      ]
    }
  ],
  "metadata": {
    "kernelspec": {
      "display_name": "Python 3",
      "language": "python",
      "name": "python3"
    },
    "language_info": {
      "codemirror_mode": {
        "name": "ipython",
        "version": 3
      },
      "file_extension": ".py",
      "mimetype": "text/x-python",
      "name": "python",
      "nbconvert_exporter": "python",
      "pygments_lexer": "ipython3",
      "version": "3.8.0"
    }
  },
  "nbformat": 4,
  "nbformat_minor": 0
}
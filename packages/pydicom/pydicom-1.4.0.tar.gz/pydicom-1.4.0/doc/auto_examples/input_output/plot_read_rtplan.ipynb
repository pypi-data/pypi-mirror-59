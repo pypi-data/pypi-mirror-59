{
  "cells": [
    {
      "cell_type": "code",
      "execution_count": null,
      "metadata": {
        "collapsed": false
      },
      "outputs": [],
      "source": [
        "%matplotlib inline"
      ]
    },
    {
      "cell_type": "markdown",
      "metadata": {},
      "source": [
        "\n# Read RTPLAN DICOM and list information\n\n\nGiven an RTPLAN DICOM file, list basic info for the beams in it.\n"
      ]
    },
    {
      "cell_type": "code",
      "execution_count": null,
      "metadata": {
        "collapsed": false
      },
      "outputs": [],
      "source": [
        "# authors : Guillaume Lemaitre <g.lemaitre58@gmail.com>\n# license : MIT\n\nfrom __future__ import print_function\n\nimport pydicom\nfrom pydicom.data import get_testdata_files\n\nprint(__doc__)\n\n\ndef list_beams(plan_dataset):\n    \"\"\"Summarizes the RTPLAN beam information in the dataset.\"\"\"\n    lines = [\"{name:^13s} {num:^8s} {gantry:^8s} {ssd:^11s}\".format(\n        name=\"Beam name\", num=\"Number\", gantry=\"Gantry\", ssd=\"SSD (cm)\")]\n    for beam in plan_dataset.BeamSequence:\n        cp0 = beam.ControlPointSequence[0]\n        SSD = float(cp0.SourceToSurfaceDistance / 10)\n        lines.append(\"{b.BeamName:^13s} {b.BeamNumber:8d} \"\n                     \"{gantry:8.1f} {ssd:8.1f}\".format(b=beam,\n                                                       gantry=cp0.GantryAngle,\n                                                       ssd=SSD))\n    return \"\\n\".join(lines)\n\n\nfilename = get_testdata_files('rtplan.dcm')[0]\ndataset = pydicom.dcmread(filename)\nprint(list_beams(dataset))"
      ]
    }
  ],
  "metadata": {
    "kernelspec": {
      "display_name": "Python 3",
      "language": "python",
      "name": "python3"
    },
    "language_info": {
      "codemirror_mode": {
        "name": "ipython",
        "version": 3
      },
      "file_extension": ".py",
      "mimetype": "text/x-python",
      "name": "python",
      "nbconvert_exporter": "python",
      "pygments_lexer": "ipython3",
      "version": "3.8.0"
    }
  },
  "nbformat": 4,
  "nbformat_minor": 0
}
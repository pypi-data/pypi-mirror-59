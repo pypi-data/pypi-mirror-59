{
  "cells": [
    {
      "cell_type": "code",
      "execution_count": null,
      "metadata": {
        "collapsed": false
      },
      "outputs": [],
      "source": [
        "%matplotlib inline"
      ]
    },
    {
      "cell_type": "markdown",
      "metadata": {},
      "source": [
        "\n# Write DICOM data\n\n\nThis example shows how to write a DICOM file from scratch using pydicom. This\nexample does not produce a DICOM standards compliant file as written, you will\nhave to change UIDs to valid values and add all required DICOM data elements.\n"
      ]
    },
    {
      "cell_type": "code",
      "execution_count": null,
      "metadata": {
        "collapsed": false
      },
      "outputs": [],
      "source": [
        "# authors : Guillaume Lemaitre <g.lemaitre58@gmail.com>\n# license : MIT\n\nimport os\nimport tempfile\nimport datetime\n\nimport pydicom\nfrom pydicom.dataset import Dataset, FileDataset\n\n# Create some temporary filenames\nsuffix = '.dcm'\nfilename_little_endian = tempfile.NamedTemporaryFile(suffix=suffix).name\nfilename_big_endian = tempfile.NamedTemporaryFile(suffix=suffix).name\n\nprint(\"Setting file meta information...\")\n# Populate required values for file meta information\nfile_meta = Dataset()\nfile_meta.MediaStorageSOPClassUID = '1.2.840.10008.5.1.4.1.1.2'\nfile_meta.MediaStorageSOPInstanceUID = \"1.2.3\"\nfile_meta.ImplementationClassUID = \"1.2.3.4\"\n\nprint(\"Setting dataset values...\")\n# Create the FileDataset instance (initially no data elements, but file_meta\n# supplied)\nds = FileDataset(filename_little_endian, {},\n                 file_meta=file_meta, preamble=b\"\\0\" * 128)\n\n# Add the data elements -- not trying to set all required here. Check DICOM\n# standard\nds.PatientName = \"Test^Firstname\"\nds.PatientID = \"123456\"\n\n# Set the transfer syntax\nds.is_little_endian = True\nds.is_implicit_VR = True\n\n# Set creation date/time\ndt = datetime.datetime.now()\nds.ContentDate = dt.strftime('%Y%m%d')\ntimeStr = dt.strftime('%H%M%S.%f')  # long format with micro seconds\nds.ContentTime = timeStr\n\nprint(\"Writing test file\", filename_little_endian)\nds.save_as(filename_little_endian)\nprint(\"File saved.\")\n\n# Write as a different transfer syntax XXX shouldn't need this but pydicom\n# 0.9.5 bug not recognizing transfer syntax\nds.file_meta.TransferSyntaxUID = pydicom.uid.ExplicitVRBigEndian\nds.is_little_endian = False\nds.is_implicit_VR = False\n\nprint(\"Writing test file as Big Endian Explicit VR\", filename_big_endian)\nds.save_as(filename_big_endian)\n\n# reopen the data just for checking\nfor filename in (filename_little_endian, filename_big_endian):\n    print('Load file {} ...'.format(filename))\n    ds = pydicom.dcmread(filename)\n    print(ds)\n\n    # remove the created file\n    print('Remove file {} ...'.format(filename))\n    os.remove(filename)"
      ]
    }
  ],
  "metadata": {
    "kernelspec": {
      "display_name": "Python 3",
      "language": "python",
      "name": "python3"
    },
    "language_info": {
      "codemirror_mode": {
        "name": "ipython",
        "version": 3
      },
      "file_extension": ".py",
      "mimetype": "text/x-python",
      "name": "python",
      "nbconvert_exporter": "python",
      "pygments_lexer": "ipython3",
      "version": "3.8.0"
    }
  },
  "nbformat": 4,
  "nbformat_minor": 0
}
{
  "cells": [
    {
      "cell_type": "code",
      "execution_count": null,
      "metadata": {
        "collapsed": false
      },
      "outputs": [],
      "source": [
        "%matplotlib inline"
      ]
    },
    {
      "cell_type": "markdown",
      "metadata": {},
      "source": [
        "\n# Add dictionary items in the standard DICOM dictionary\n\n\nThis examples illustrates how to add dictionary items to the 'standard' DICOM\ndictionary dynamically.\n\n<div class=\"alert alert-danger\"><h4>Warning</h4><p>Note that this is not a recommended solution in general but it is useful as\n   a demonstration or for in-house programs only, or to get around elements\n   missing from pydicom's DICOM dictionaries.</p></div>\n"
      ]
    },
    {
      "cell_type": "code",
      "execution_count": null,
      "metadata": {
        "collapsed": false
      },
      "outputs": [],
      "source": [
        "# authors : Darcy Mason\n#           Guillaume Lemaitre <g.lemaitre58@gmail.com>\n# license : MIT\n\nfrom __future__ import print_function\n\nfrom pydicom.datadict import DicomDictionary, keyword_dict\nfrom pydicom.dataset import Dataset\n\nprint(__doc__)\n\n# Define items as (VR, VM, description, is_retired flag, keyword)\n#   Leave is_retired flag blank.\nnew_dict_items = {\n    0x10011001: ('UL', '1', \"Test One\", '', 'TestOne'),\n    0x10011002: ('OB', '1', \"Test Two\", '', 'TestTwo'),\n    0x10011003: ('UI', '1', \"Test Three\", '', 'TestThree'),\n}\n\n# Update the dictionary itself\nDicomDictionary.update(new_dict_items)\n\n# Update the reverse mapping from name to tag\nnew_names_dict = dict([(val[4], tag) for tag, val in\n                       new_dict_items.items()])\nkeyword_dict.update(new_names_dict)\n\n# Test that it is working\nds = Dataset()  # or could get one from dcmread, etc\n\nds.TestOne = 42\nds.TestTwo = '12345'\nds.TestThree = '1.2.3.4.5'\n\nprint(ds.top())"
      ]
    }
  ],
  "metadata": {
    "kernelspec": {
      "display_name": "Python 3",
      "language": "python",
      "name": "python3"
    },
    "language_info": {
      "codemirror_mode": {
        "name": "ipython",
        "version": 3
      },
      "file_extension": ".py",
      "mimetype": "text/x-python",
      "name": "python",
      "nbconvert_exporter": "python",
      "pygments_lexer": "ipython3",
      "version": "3.8.0"
    }
  },
  "nbformat": 4,
  "nbformat_minor": 0
}
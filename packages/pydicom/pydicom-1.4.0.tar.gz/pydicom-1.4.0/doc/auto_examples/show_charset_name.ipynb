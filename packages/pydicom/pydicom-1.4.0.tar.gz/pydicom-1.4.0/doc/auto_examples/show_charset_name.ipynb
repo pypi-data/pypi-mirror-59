{
  "cells": [
    {
      "cell_type": "code",
      "execution_count": null,
      "metadata": {
        "collapsed": false
      },
      "outputs": [],
      "source": [
        "%matplotlib inline"
      ]
    },
    {
      "cell_type": "markdown",
      "metadata": {},
      "source": [
        "\n# Display unicode person names\n\n\nVery simple app to display unicode person names.\n"
      ]
    },
    {
      "cell_type": "code",
      "execution_count": null,
      "metadata": {
        "collapsed": false
      },
      "outputs": [],
      "source": [
        "# authors : Guillaume Lemaitre <g.lemaitre58@gmail.com>\n# license : MIT\n\nfrom pydicom import compat\nfrom pydicom.valuerep import PersonNameUnicode\n\nif compat.in_py2:\n    import Tkinter as tkinter\nelse:\n    import tkinter\n\nprint(__doc__)\n\ndefault_encoding = 'iso8859'\n\nroot = tkinter.Tk()\n# root.geometry(\"%dx%d%+d%+d\" % (800, 600, 0, 0))\n\nperson_names = [\n    PersonNameUnicode(\n        b\"Yamada^Tarou=\\033$B;3ED\\033(B^\\033$BB@O:\"\n        b\"\\033(B=\\033$B$d$^$@\\033(B^\\033$B$?$m$&\\033(B\",\n        [default_encoding, 'iso2022_jp']),  # DICOM standard 2008-PS3.5 H.3 p98\n    PersonNameUnicode(\n        b\"Wang^XiaoDong=\\xcd\\xf5\\x5e\\xd0\\xa1\\xb6\\xab=\",\n        [default_encoding, 'GB18030']),  # DICOM standard 2008-PS3.5 J.3 p 105\n    PersonNameUnicode(\n        b\"Wang^XiaoDong=\\xe7\\x8e\\x8b\\x5e\\xe5\\xb0\\x8f\\xe6\\x9d\\xb1=\",\n        [default_encoding, 'UTF-8']),  # DICOM standard 2008-PS3.5 J.1 p 104\n    PersonNameUnicode(\n        b\"Hong^Gildong=\\033$)C\\373\\363^\\033$)C\\321\\316\\324\\327=\"\n        b\"\\033$)C\\310\\253^\\033$)C\\261\\346\\265\\277\",\n        [default_encoding, 'euc_kr']),  # DICOM standard 2008-PS3.5 I.2 p 101\n]\nfor person_name in person_names:\n    label = tkinter.Label(text=person_name)\n    label.pack()\nroot.mainloop()"
      ]
    }
  ],
  "metadata": {
    "kernelspec": {
      "display_name": "Python 3",
      "language": "python",
      "name": "python3"
    },
    "language_info": {
      "codemirror_mode": {
        "name": "ipython",
        "version": 3
      },
      "file_extension": ".py",
      "mimetype": "text/x-python",
      "name": "python",
      "nbconvert_exporter": "python",
      "pygments_lexer": "ipython3",
      "version": "3.8.0"
    }
  },
  "nbformat": 4,
  "nbformat_minor": 0
}
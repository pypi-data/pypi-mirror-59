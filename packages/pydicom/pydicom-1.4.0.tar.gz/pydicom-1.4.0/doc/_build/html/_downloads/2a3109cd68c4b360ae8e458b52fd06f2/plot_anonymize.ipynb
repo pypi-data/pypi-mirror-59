{
  "cells": [
    {
      "cell_type": "code",
      "execution_count": null,
      "metadata": {
        "collapsed": false
      },
      "outputs": [],
      "source": [
        "%matplotlib inline"
      ]
    },
    {
      "cell_type": "markdown",
      "metadata": {},
      "source": [
        "\n# Anonymize DICOM data\n\n\nThis example is a starting point to anonymize DICOM data.\n\nIt shows how to read data and replace tags: person names, patient id,\noptionally remove curves and private tags, and write the results in a new file.\n"
      ]
    },
    {
      "cell_type": "code",
      "execution_count": null,
      "metadata": {
        "collapsed": false
      },
      "outputs": [],
      "source": [
        "# authors : Guillaume Lemaitre <g.lemaitre58@gmail.com>\n# license : MIT\n\nfrom __future__ import print_function\n\nimport tempfile\n\nimport pydicom\nfrom pydicom.data import get_testdata_files\n\nprint(__doc__)"
      ]
    },
    {
      "cell_type": "markdown",
      "metadata": {},
      "source": [
        "Anonymize a single file\n##############################################################################\n\n"
      ]
    },
    {
      "cell_type": "code",
      "execution_count": null,
      "metadata": {
        "collapsed": false
      },
      "outputs": [],
      "source": [
        "filename = get_testdata_files('MR_small.dcm')[0]\ndataset = pydicom.dcmread(filename)\n\ndata_elements = ['PatientID',\n                 'PatientBirthDate']\nfor de in data_elements:\n    print(dataset.data_element(de))"
      ]
    },
    {
      "cell_type": "markdown",
      "metadata": {},
      "source": [
        "We can define a callback function to find all tags corresponding to a person\nnames inside the dataset. We can also define a callback function to remove\ncurves tags.\n\n"
      ]
    },
    {
      "cell_type": "code",
      "execution_count": null,
      "metadata": {
        "collapsed": false
      },
      "outputs": [],
      "source": [
        "def person_names_callback(dataset, data_element):\n    if data_element.VR == \"PN\":\n        data_element.value = \"anonymous\"\n\n\ndef curves_callback(dataset, data_element):\n    if data_element.tag.group & 0xFF00 == 0x5000:\n        del dataset[data_element.tag]"
      ]
    },
    {
      "cell_type": "markdown",
      "metadata": {},
      "source": [
        "We can use the different callback function to iterate through the dataset but\nalso some other tags such that patient ID, etc.\n\n"
      ]
    },
    {
      "cell_type": "code",
      "execution_count": null,
      "metadata": {
        "collapsed": false
      },
      "outputs": [],
      "source": [
        "dataset.PatientID = \"id\"\ndataset.walk(person_names_callback)\ndataset.walk(curves_callback)"
      ]
    },
    {
      "cell_type": "markdown",
      "metadata": {},
      "source": [
        "pydicom allows to remove private tags using ``remove_private_tags`` method\n\n"
      ]
    },
    {
      "cell_type": "code",
      "execution_count": null,
      "metadata": {
        "collapsed": false
      },
      "outputs": [],
      "source": [
        "dataset.remove_private_tags()"
      ]
    },
    {
      "cell_type": "markdown",
      "metadata": {},
      "source": [
        "Data elements of type 3 (optional) can be easily deleted using ``del`` or\n``delattr``.\n\n"
      ]
    },
    {
      "cell_type": "code",
      "execution_count": null,
      "metadata": {
        "collapsed": false
      },
      "outputs": [],
      "source": [
        "if 'OtherPatientIDs' in dataset:\n    delattr(dataset, 'OtherPatientIDs')\n\nif 'OtherPatientIDsSequence' in dataset:\n    del dataset.OtherPatientIDsSequence"
      ]
    },
    {
      "cell_type": "markdown",
      "metadata": {},
      "source": [
        "For data elements of type 2, this is possible to blank it by assigning a\nblank string.\n\n"
      ]
    },
    {
      "cell_type": "code",
      "execution_count": null,
      "metadata": {
        "collapsed": false
      },
      "outputs": [],
      "source": [
        "tag = 'PatientBirthDate'\nif tag in dataset:\n    dataset.data_element(tag).value = '19000101'"
      ]
    },
    {
      "cell_type": "markdown",
      "metadata": {},
      "source": [
        "Finally, this is possible to store the image\n\n"
      ]
    },
    {
      "cell_type": "code",
      "execution_count": null,
      "metadata": {
        "collapsed": false
      },
      "outputs": [],
      "source": [
        "data_elements = ['PatientID',\n                 'PatientBirthDate']\nfor de in data_elements:\n    print(dataset.data_element(de))\n\noutput_filename = tempfile.NamedTemporaryFile().name\ndataset.save_as(output_filename)"
      ]
    }
  ],
  "metadata": {
    "kernelspec": {
      "display_name": "Python 3",
      "language": "python",
      "name": "python3"
    },
    "language_info": {
      "codemirror_mode": {
        "name": "ipython",
        "version": 3
      },
      "file_extension": ".py",
      "mimetype": "text/x-python",
      "name": "python",
      "nbconvert_exporter": "python",
      "pygments_lexer": "ipython3",
      "version": "3.8.0"
    }
  },
  "nbformat": 4,
  "nbformat_minor": 0
}
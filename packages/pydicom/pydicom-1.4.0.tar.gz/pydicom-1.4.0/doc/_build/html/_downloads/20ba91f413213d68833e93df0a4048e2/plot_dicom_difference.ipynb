{
  "cells": [
    {
      "cell_type": "code",
      "execution_count": null,
      "metadata": {
        "collapsed": false
      },
      "outputs": [],
      "source": [
        "%matplotlib inline"
      ]
    },
    {
      "cell_type": "markdown",
      "metadata": {},
      "source": [
        "\n# Analyse differences between DICOM files\n\n\nThis examples illustrates how to find the differences between two DICOM files.\n"
      ]
    },
    {
      "cell_type": "code",
      "execution_count": null,
      "metadata": {
        "collapsed": false
      },
      "outputs": [],
      "source": [
        "# authors : Guillaume Lemaitre <g.lemaitre58@gmail.com>\n# license : MIT\n\nimport difflib\n\nimport pydicom\nfrom pydicom.data import get_testdata_files\n\nprint(__doc__)\n\nfilename_mr = get_testdata_files('MR_small.dcm')[0]\nfilename_ct = get_testdata_files('CT_small.dcm')[0]\n\ndatasets = tuple([pydicom.dcmread(filename, force=True)\n                  for filename in (filename_mr, filename_ct)])\n\n# difflib compare functions require a list of lines, each terminated with\n# newline character massage the string representation of each dicom dataset\n# into this form:\nrep = []\nfor dataset in datasets:\n    lines = str(dataset).split(\"\\n\")\n    lines = [line + \"\\n\" for line in lines]  # add the newline to end\n    rep.append(lines)\n\n\ndiff = difflib.Differ()\nfor line in diff.compare(rep[0], rep[1]):\n    if line[0] != \"?\":\n        print(line)"
      ]
    }
  ],
  "metadata": {
    "kernelspec": {
      "display_name": "Python 3",
      "language": "python",
      "name": "python3"
    },
    "language_info": {
      "codemirror_mode": {
        "name": "ipython",
        "version": 3
      },
      "file_extension": ".py",
      "mimetype": "text/x-python",
      "name": "python",
      "nbconvert_exporter": "python",
      "pygments_lexer": "ipython3",
      "version": "3.8.0"
    }
  },
  "nbformat": 4,
  "nbformat_minor": 0
}
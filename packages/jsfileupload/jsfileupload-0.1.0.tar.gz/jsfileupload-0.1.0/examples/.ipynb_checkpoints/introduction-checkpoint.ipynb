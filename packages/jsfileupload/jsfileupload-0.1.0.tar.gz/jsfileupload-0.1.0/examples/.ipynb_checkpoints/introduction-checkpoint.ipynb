{
 "cells": [
  {
   "cell_type": "markdown",
   "metadata": {},
   "source": [
    "# Introduction"
   ]
  },
  {
   "cell_type": "code",
   "execution_count": 1,
   "metadata": {},
   "outputs": [],
   "source": [
    "import jsfileupload\n",
    "from ipywidgets import Output"
   ]
  },
  {
   "cell_type": "code",
   "execution_count": 2,
   "metadata": {},
   "outputs": [],
   "source": [
    "# Upload to the examples subdirectory.\n",
    "upload_url = 'http://localhost:8888/api/contents/examples/' \n",
    "token = '<insert-your-token>'\n",
    "\n",
    "uploader = jsfileupload.FileUpload(upload_url=upload_url, \n",
    "                                   token=token, \n",
    "                                   multiple=True,\n",
    "                                   button_style='primary',\n",
    "                                   layout={'border':'solid blue 1px'})"
   ]
  },
  {
   "cell_type": "code",
   "execution_count": 3,
   "metadata": {},
   "outputs": [],
   "source": [
    "out = Output()\n",
    "@out.capture()\n",
    "def observe_responses(change):\n",
    "    print(\"Upload progress: {}\".format(change['owner'].responses))\n",
    "    \n",
    "@out.capture()\n",
    "def observe_finish(change):\n",
    "    print(\"Finished upload: {}\".format(change['owner'].finished))\n",
    "\n",
    "uploader.observe(observe_responses, 'responses')\n",
    "uploader.observe(observe_finish, 'finished')"
   ]
  },
  {
   "cell_type": "code",
   "execution_count": 4,
   "metadata": {},
   "outputs": [
    {
     "data": {
      "application/vnd.jupyter.widget-view+json": {
       "model_id": "b18cd48242c84a28bdccbea95a849e20",
       "version_major": 2,
       "version_minor": 0
      },
      "text/plain": [
       "FileUpload(value=None, button_style='primary', description='Browse', layout=Layout(border='solid blue 1px'), m…"
      ]
     },
     "metadata": {},
     "output_type": "display_data"
    },
    {
     "data": {
      "application/vnd.jupyter.widget-view+json": {
       "model_id": "c1662b6ce67441f2832a7942f4af87f3",
       "version_major": 2,
       "version_minor": 0
      },
      "text/plain": [
       "Output()"
      ]
     },
     "metadata": {},
     "output_type": "display_data"
    }
   ],
   "source": [
    "display(uploader)\n",
    "display(out)"
   ]
  },
  {
   "cell_type": "code",
   "execution_count": null,
   "metadata": {},
   "outputs": [],
   "source": [
    "# Select some files to upload, then run\n",
    "uploader.upload()"
   ]
  }
 ],
 "metadata": {
  "kernelspec": {
   "display_name": "Python 3",
   "language": "python",
   "name": "python3"
  },
  "language_info": {
   "codemirror_mode": {
    "name": "ipython",
    "version": 3
   },
   "file_extension": ".py",
   "mimetype": "text/x-python",
   "name": "python",
   "nbconvert_exporter": "python",
   "pygments_lexer": "ipython3",
   "version": "3.6.8"
  }
 },
 "nbformat": 4,
 "nbformat_minor": 2
}

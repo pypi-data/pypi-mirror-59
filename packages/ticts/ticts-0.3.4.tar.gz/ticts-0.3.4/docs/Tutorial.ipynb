{
 "cells": [
  {
   "cell_type": "markdown",
   "metadata": {
    "toc-hr-collapsed": false
   },
   "source": [
    "# Tutorial - Overview of TicTs\n",
    "---"
   ]
  },
  {
   "cell_type": "markdown",
   "metadata": {
    "toc-hr-collapsed": false
   },
   "source": [
    "## Design\n",
    "\n",
    "TimeSeries object internally make use of [Sorted Dict](http://www.grantjenks.com/docs/sortedcontainers/sorteddict.html) of *sortedcontainers* python library to ensure good performances.\n",
    "    \n",
    "- designed to **feel like** manipulating a **pandas.Series** in the unevenly-spaced timeseries world.\n",
    "- time intervals are considered **left closed** and **right open**.\n",
    "- ensure timezone localization.\n",
    "\n",
    "Let's see the potential !"
   ]
  },
  {
   "cell_type": "code",
   "execution_count": 26,
   "metadata": {},
   "outputs": [
    {
     "data": {
      "text/html": [
       "\n",
       "    <div class=\"bk-root\">\n",
       "        <a href=\"https://bokeh.pydata.org\" target=\"_blank\" class=\"bk-logo bk-logo-small bk-logo-notebook\"></a>\n",
       "        <span id=\"4187\">Loading BokehJS ...</span>\n",
       "    </div>"
      ]
     },
     "metadata": {},
     "output_type": "display_data"
    },
    {
     "data": {
      "application/javascript": [
       "\n",
       "(function(root) {\n",
       "  function now() {\n",
       "    return new Date();\n",
       "  }\n",
       "\n",
       "  var force = true;\n",
       "\n",
       "  if (typeof root._bokeh_onload_callbacks === \"undefined\" || force === true) {\n",
       "    root._bokeh_onload_callbacks = [];\n",
       "    root._bokeh_is_loading = undefined;\n",
       "  }\n",
       "\n",
       "  var JS_MIME_TYPE = 'application/javascript';\n",
       "  var HTML_MIME_TYPE = 'text/html';\n",
       "  var EXEC_MIME_TYPE = 'application/vnd.bokehjs_exec.v0+json';\n",
       "  var CLASS_NAME = 'output_bokeh rendered_html';\n",
       "\n",
       "  /**\n",
       "   * Render data to the DOM node\n",
       "   */\n",
       "  function render(props, node) {\n",
       "    var script = document.createElement(\"script\");\n",
       "    node.appendChild(script);\n",
       "  }\n",
       "\n",
       "  /**\n",
       "   * Handle when an output is cleared or removed\n",
       "   */\n",
       "  function handleClearOutput(event, handle) {\n",
       "    var cell = handle.cell;\n",
       "\n",
       "    var id = cell.output_area._bokeh_element_id;\n",
       "    var server_id = cell.output_area._bokeh_server_id;\n",
       "    // Clean up Bokeh references\n",
       "    if (id != null && id in Bokeh.index) {\n",
       "      Bokeh.index[id].model.document.clear();\n",
       "      delete Bokeh.index[id];\n",
       "    }\n",
       "\n",
       "    if (server_id !== undefined) {\n",
       "      // Clean up Bokeh references\n",
       "      var cmd = \"from bokeh.io.state import curstate; print(curstate().uuid_to_server['\" + server_id + \"'].get_sessions()[0].document.roots[0]._id)\";\n",
       "      cell.notebook.kernel.execute(cmd, {\n",
       "        iopub: {\n",
       "          output: function(msg) {\n",
       "            var id = msg.content.text.trim();\n",
       "            if (id in Bokeh.index) {\n",
       "              Bokeh.index[id].model.document.clear();\n",
       "              delete Bokeh.index[id];\n",
       "            }\n",
       "          }\n",
       "        }\n",
       "      });\n",
       "      // Destroy server and session\n",
       "      var cmd = \"import bokeh.io.notebook as ion; ion.destroy_server('\" + server_id + \"')\";\n",
       "      cell.notebook.kernel.execute(cmd);\n",
       "    }\n",
       "  }\n",
       "\n",
       "  /**\n",
       "   * Handle when a new output is added\n",
       "   */\n",
       "  function handleAddOutput(event, handle) {\n",
       "    var output_area = handle.output_area;\n",
       "    var output = handle.output;\n",
       "\n",
       "    // limit handleAddOutput to display_data with EXEC_MIME_TYPE content only\n",
       "    if ((output.output_type != \"display_data\") || (!output.data.hasOwnProperty(EXEC_MIME_TYPE))) {\n",
       "      return\n",
       "    }\n",
       "\n",
       "    var toinsert = output_area.element.find(\".\" + CLASS_NAME.split(' ')[0]);\n",
       "\n",
       "    if (output.metadata[EXEC_MIME_TYPE][\"id\"] !== undefined) {\n",
       "      toinsert[toinsert.length - 1].firstChild.textContent = output.data[JS_MIME_TYPE];\n",
       "      // store reference to embed id on output_area\n",
       "      output_area._bokeh_element_id = output.metadata[EXEC_MIME_TYPE][\"id\"];\n",
       "    }\n",
       "    if (output.metadata[EXEC_MIME_TYPE][\"server_id\"] !== undefined) {\n",
       "      var bk_div = document.createElement(\"div\");\n",
       "      bk_div.innerHTML = output.data[HTML_MIME_TYPE];\n",
       "      var script_attrs = bk_div.children[0].attributes;\n",
       "      for (var i = 0; i < script_attrs.length; i++) {\n",
       "        toinsert[toinsert.length - 1].firstChild.setAttribute(script_attrs[i].name, script_attrs[i].value);\n",
       "      }\n",
       "      // store reference to server id on output_area\n",
       "      output_area._bokeh_server_id = output.metadata[EXEC_MIME_TYPE][\"server_id\"];\n",
       "    }\n",
       "  }\n",
       "\n",
       "  function register_renderer(events, OutputArea) {\n",
       "\n",
       "    function append_mime(data, metadata, element) {\n",
       "      // create a DOM node to render to\n",
       "      var toinsert = this.create_output_subarea(\n",
       "        metadata,\n",
       "        CLASS_NAME,\n",
       "        EXEC_MIME_TYPE\n",
       "      );\n",
       "      this.keyboard_manager.register_events(toinsert);\n",
       "      // Render to node\n",
       "      var props = {data: data, metadata: metadata[EXEC_MIME_TYPE]};\n",
       "      render(props, toinsert[toinsert.length - 1]);\n",
       "      element.append(toinsert);\n",
       "      return toinsert\n",
       "    }\n",
       "\n",
       "    /* Handle when an output is cleared or removed */\n",
       "    events.on('clear_output.CodeCell', handleClearOutput);\n",
       "    events.on('delete.Cell', handleClearOutput);\n",
       "\n",
       "    /* Handle when a new output is added */\n",
       "    events.on('output_added.OutputArea', handleAddOutput);\n",
       "\n",
       "    /**\n",
       "     * Register the mime type and append_mime function with output_area\n",
       "     */\n",
       "    OutputArea.prototype.register_mime_type(EXEC_MIME_TYPE, append_mime, {\n",
       "      /* Is output safe? */\n",
       "      safe: true,\n",
       "      /* Index of renderer in `output_area.display_order` */\n",
       "      index: 0\n",
       "    });\n",
       "  }\n",
       "\n",
       "  // register the mime type if in Jupyter Notebook environment and previously unregistered\n",
       "  if (root.Jupyter !== undefined) {\n",
       "    var events = require('base/js/events');\n",
       "    var OutputArea = require('notebook/js/outputarea').OutputArea;\n",
       "\n",
       "    if (OutputArea.prototype.mime_types().indexOf(EXEC_MIME_TYPE) == -1) {\n",
       "      register_renderer(events, OutputArea);\n",
       "    }\n",
       "  }\n",
       "\n",
       "  \n",
       "  if (typeof (root._bokeh_timeout) === \"undefined\" || force === true) {\n",
       "    root._bokeh_timeout = Date.now() + 5000;\n",
       "    root._bokeh_failed_load = false;\n",
       "  }\n",
       "\n",
       "  var NB_LOAD_WARNING = {'data': {'text/html':\n",
       "     \"<div style='background-color: #fdd'>\\n\"+\n",
       "     \"<p>\\n\"+\n",
       "     \"BokehJS does not appear to have successfully loaded. If loading BokehJS from CDN, this \\n\"+\n",
       "     \"may be due to a slow or bad network connection. Possible fixes:\\n\"+\n",
       "     \"</p>\\n\"+\n",
       "     \"<ul>\\n\"+\n",
       "     \"<li>re-rerun `output_notebook()` to attempt to load from CDN again, or</li>\\n\"+\n",
       "     \"<li>use INLINE resources instead, as so:</li>\\n\"+\n",
       "     \"</ul>\\n\"+\n",
       "     \"<code>\\n\"+\n",
       "     \"from bokeh.resources import INLINE\\n\"+\n",
       "     \"output_notebook(resources=INLINE)\\n\"+\n",
       "     \"</code>\\n\"+\n",
       "     \"</div>\"}};\n",
       "\n",
       "  function display_loaded() {\n",
       "    var el = document.getElementById(\"4187\");\n",
       "    if (el != null) {\n",
       "      el.textContent = \"BokehJS is loading...\";\n",
       "    }\n",
       "    if (root.Bokeh !== undefined) {\n",
       "      if (el != null) {\n",
       "        el.textContent = \"BokehJS \" + root.Bokeh.version + \" successfully loaded.\";\n",
       "      }\n",
       "    } else if (Date.now() < root._bokeh_timeout) {\n",
       "      setTimeout(display_loaded, 100)\n",
       "    }\n",
       "  }\n",
       "\n",
       "\n",
       "  function run_callbacks() {\n",
       "    try {\n",
       "      root._bokeh_onload_callbacks.forEach(function(callback) {\n",
       "        if (callback != null)\n",
       "          callback();\n",
       "      });\n",
       "    } finally {\n",
       "      delete root._bokeh_onload_callbacks\n",
       "    }\n",
       "    console.debug(\"Bokeh: all callbacks have finished\");\n",
       "  }\n",
       "\n",
       "  function load_libs(css_urls, js_urls, callback) {\n",
       "    if (css_urls == null) css_urls = [];\n",
       "    if (js_urls == null) js_urls = [];\n",
       "\n",
       "    root._bokeh_onload_callbacks.push(callback);\n",
       "    if (root._bokeh_is_loading > 0) {\n",
       "      console.debug(\"Bokeh: BokehJS is being loaded, scheduling callback at\", now());\n",
       "      return null;\n",
       "    }\n",
       "    if (js_urls == null || js_urls.length === 0) {\n",
       "      run_callbacks();\n",
       "      return null;\n",
       "    }\n",
       "    console.debug(\"Bokeh: BokehJS not loaded, scheduling load and callback at\", now());\n",
       "    root._bokeh_is_loading = css_urls.length + js_urls.length;\n",
       "\n",
       "    function on_load() {\n",
       "      root._bokeh_is_loading--;\n",
       "      if (root._bokeh_is_loading === 0) {\n",
       "        console.debug(\"Bokeh: all BokehJS libraries/stylesheets loaded\");\n",
       "        run_callbacks()\n",
       "      }\n",
       "    }\n",
       "\n",
       "    function on_error() {\n",
       "      console.error(\"failed to load \" + url);\n",
       "    }\n",
       "\n",
       "    for (var i = 0; i < css_urls.length; i++) {\n",
       "      var url = css_urls[i];\n",
       "      const element = document.createElement(\"link\");\n",
       "      element.onload = on_load;\n",
       "      element.onerror = on_error;\n",
       "      element.rel = \"stylesheet\";\n",
       "      element.type = \"text/css\";\n",
       "      element.href = url;\n",
       "      console.debug(\"Bokeh: injecting link tag for BokehJS stylesheet: \", url);\n",
       "      document.body.appendChild(element);\n",
       "    }\n",
       "\n",
       "    for (var i = 0; i < js_urls.length; i++) {\n",
       "      var url = js_urls[i];\n",
       "      var element = document.createElement('script');\n",
       "      element.onload = on_load;\n",
       "      element.onerror = on_error;\n",
       "      element.async = false;\n",
       "      element.src = url;\n",
       "      console.debug(\"Bokeh: injecting script tag for BokehJS library: \", url);\n",
       "      document.head.appendChild(element);\n",
       "    }\n",
       "  };var element = document.getElementById(\"4187\");\n",
       "  if (element == null) {\n",
       "    console.error(\"Bokeh: ERROR: autoload.js configured with elementid '4187' but no matching script tag was found. \")\n",
       "    return false;\n",
       "  }\n",
       "\n",
       "  function inject_raw_css(css) {\n",
       "    const element = document.createElement(\"style\");\n",
       "    element.appendChild(document.createTextNode(css));\n",
       "    document.body.appendChild(element);\n",
       "  }\n",
       "\n",
       "  var js_urls = [\"https://cdn.pydata.org/bokeh/release/bokeh-1.3.1.min.js\", \"https://cdn.pydata.org/bokeh/release/bokeh-widgets-1.3.1.min.js\", \"https://cdn.pydata.org/bokeh/release/bokeh-tables-1.3.1.min.js\", \"https://cdn.pydata.org/bokeh/release/bokeh-gl-1.3.1.min.js\"];\n",
       "  var css_urls = [];\n",
       "\n",
       "  var inline_js = [\n",
       "    function(Bokeh) {\n",
       "      Bokeh.set_log_level(\"info\");\n",
       "    },\n",
       "    \n",
       "    function(Bokeh) {\n",
       "      \n",
       "    },\n",
       "    function(Bokeh) {} // ensure no trailing comma for IE\n",
       "  ];\n",
       "\n",
       "  function run_inline_js() {\n",
       "    \n",
       "    if ((root.Bokeh !== undefined) || (force === true)) {\n",
       "      for (var i = 0; i < inline_js.length; i++) {\n",
       "        inline_js[i].call(root, root.Bokeh);\n",
       "      }if (force === true) {\n",
       "        display_loaded();\n",
       "      }} else if (Date.now() < root._bokeh_timeout) {\n",
       "      setTimeout(run_inline_js, 100);\n",
       "    } else if (!root._bokeh_failed_load) {\n",
       "      console.log(\"Bokeh: BokehJS failed to load within specified timeout.\");\n",
       "      root._bokeh_failed_load = true;\n",
       "    } else if (force !== true) {\n",
       "      var cell = $(document.getElementById(\"4187\")).parents('.cell').data().cell;\n",
       "      cell.output_area.append_execute_result(NB_LOAD_WARNING)\n",
       "    }\n",
       "\n",
       "  }\n",
       "\n",
       "  if (root._bokeh_is_loading === 0) {\n",
       "    console.debug(\"Bokeh: BokehJS loaded, going straight to plotting\");\n",
       "    run_inline_js();\n",
       "  } else {\n",
       "    load_libs(css_urls, js_urls, function() {\n",
       "      console.debug(\"Bokeh: BokehJS plotting callback run at\", now());\n",
       "      run_inline_js();\n",
       "    });\n",
       "  }\n",
       "}(window));"
      ],
      "application/vnd.bokehjs_load.v0+json": "\n(function(root) {\n  function now() {\n    return new Date();\n  }\n\n  var force = true;\n\n  if (typeof root._bokeh_onload_callbacks === \"undefined\" || force === true) {\n    root._bokeh_onload_callbacks = [];\n    root._bokeh_is_loading = undefined;\n  }\n\n  \n\n  \n  if (typeof (root._bokeh_timeout) === \"undefined\" || force === true) {\n    root._bokeh_timeout = Date.now() + 5000;\n    root._bokeh_failed_load = false;\n  }\n\n  var NB_LOAD_WARNING = {'data': {'text/html':\n     \"<div style='background-color: #fdd'>\\n\"+\n     \"<p>\\n\"+\n     \"BokehJS does not appear to have successfully loaded. If loading BokehJS from CDN, this \\n\"+\n     \"may be due to a slow or bad network connection. Possible fixes:\\n\"+\n     \"</p>\\n\"+\n     \"<ul>\\n\"+\n     \"<li>re-rerun `output_notebook()` to attempt to load from CDN again, or</li>\\n\"+\n     \"<li>use INLINE resources instead, as so:</li>\\n\"+\n     \"</ul>\\n\"+\n     \"<code>\\n\"+\n     \"from bokeh.resources import INLINE\\n\"+\n     \"output_notebook(resources=INLINE)\\n\"+\n     \"</code>\\n\"+\n     \"</div>\"}};\n\n  function display_loaded() {\n    var el = document.getElementById(\"4187\");\n    if (el != null) {\n      el.textContent = \"BokehJS is loading...\";\n    }\n    if (root.Bokeh !== undefined) {\n      if (el != null) {\n        el.textContent = \"BokehJS \" + root.Bokeh.version + \" successfully loaded.\";\n      }\n    } else if (Date.now() < root._bokeh_timeout) {\n      setTimeout(display_loaded, 100)\n    }\n  }\n\n\n  function run_callbacks() {\n    try {\n      root._bokeh_onload_callbacks.forEach(function(callback) {\n        if (callback != null)\n          callback();\n      });\n    } finally {\n      delete root._bokeh_onload_callbacks\n    }\n    console.debug(\"Bokeh: all callbacks have finished\");\n  }\n\n  function load_libs(css_urls, js_urls, callback) {\n    if (css_urls == null) css_urls = [];\n    if (js_urls == null) js_urls = [];\n\n    root._bokeh_onload_callbacks.push(callback);\n    if (root._bokeh_is_loading > 0) {\n      console.debug(\"Bokeh: BokehJS is being loaded, scheduling callback at\", now());\n      return null;\n    }\n    if (js_urls == null || js_urls.length === 0) {\n      run_callbacks();\n      return null;\n    }\n    console.debug(\"Bokeh: BokehJS not loaded, scheduling load and callback at\", now());\n    root._bokeh_is_loading = css_urls.length + js_urls.length;\n\n    function on_load() {\n      root._bokeh_is_loading--;\n      if (root._bokeh_is_loading === 0) {\n        console.debug(\"Bokeh: all BokehJS libraries/stylesheets loaded\");\n        run_callbacks()\n      }\n    }\n\n    function on_error() {\n      console.error(\"failed to load \" + url);\n    }\n\n    for (var i = 0; i < css_urls.length; i++) {\n      var url = css_urls[i];\n      const element = document.createElement(\"link\");\n      element.onload = on_load;\n      element.onerror = on_error;\n      element.rel = \"stylesheet\";\n      element.type = \"text/css\";\n      element.href = url;\n      console.debug(\"Bokeh: injecting link tag for BokehJS stylesheet: \", url);\n      document.body.appendChild(element);\n    }\n\n    for (var i = 0; i < js_urls.length; i++) {\n      var url = js_urls[i];\n      var element = document.createElement('script');\n      element.onload = on_load;\n      element.onerror = on_error;\n      element.async = false;\n      element.src = url;\n      console.debug(\"Bokeh: injecting script tag for BokehJS library: \", url);\n      document.head.appendChild(element);\n    }\n  };var element = document.getElementById(\"4187\");\n  if (element == null) {\n    console.error(\"Bokeh: ERROR: autoload.js configured with elementid '4187' but no matching script tag was found. \")\n    return false;\n  }\n\n  function inject_raw_css(css) {\n    const element = document.createElement(\"style\");\n    element.appendChild(document.createTextNode(css));\n    document.body.appendChild(element);\n  }\n\n  var js_urls = [\"https://cdn.pydata.org/bokeh/release/bokeh-1.3.1.min.js\", \"https://cdn.pydata.org/bokeh/release/bokeh-widgets-1.3.1.min.js\", \"https://cdn.pydata.org/bokeh/release/bokeh-tables-1.3.1.min.js\", \"https://cdn.pydata.org/bokeh/release/bokeh-gl-1.3.1.min.js\"];\n  var css_urls = [];\n\n  var inline_js = [\n    function(Bokeh) {\n      Bokeh.set_log_level(\"info\");\n    },\n    \n    function(Bokeh) {\n      \n    },\n    function(Bokeh) {} // ensure no trailing comma for IE\n  ];\n\n  function run_inline_js() {\n    \n    if ((root.Bokeh !== undefined) || (force === true)) {\n      for (var i = 0; i < inline_js.length; i++) {\n        inline_js[i].call(root, root.Bokeh);\n      }if (force === true) {\n        display_loaded();\n      }} else if (Date.now() < root._bokeh_timeout) {\n      setTimeout(run_inline_js, 100);\n    } else if (!root._bokeh_failed_load) {\n      console.log(\"Bokeh: BokehJS failed to load within specified timeout.\");\n      root._bokeh_failed_load = true;\n    } else if (force !== true) {\n      var cell = $(document.getElementById(\"4187\")).parents('.cell').data().cell;\n      cell.output_area.append_execute_result(NB_LOAD_WARNING)\n    }\n\n  }\n\n  if (root._bokeh_is_loading === 0) {\n    console.debug(\"Bokeh: BokehJS loaded, going straight to plotting\");\n    run_inline_js();\n  } else {\n    load_libs(css_urls, js_urls, function() {\n      console.debug(\"Bokeh: BokehJS plotting callback run at\", now());\n      run_inline_js();\n    });\n  }\n}(window));"
     },
     "metadata": {},
     "output_type": "display_data"
    }
   ],
   "source": [
    "from ticts import TimeSeries\n",
    "from pandas import Timestamp  # Let's agree, it's the best to manipulate datetime objects.\n",
    "\n",
    "from bokeh.io import output_notebook\n",
    "output_notebook()  # in notebook plots output"
   ]
  },
  {
   "cell_type": "markdown",
   "metadata": {
    "toc-hr-collapsed": false
   },
   "source": [
    "## Overview\n",
    "-----"
   ]
  },
  {
   "cell_type": "code",
   "execution_count": 27,
   "metadata": {},
   "outputs": [],
   "source": [
    "dct = {\n",
    "  '2019-01-01': 10,\n",
    "  '2019-01-01 00:10:00': 20,\n",
    "  '2019-01-01 00:15:00': 10,\n",
    "}\n",
    "ts = TimeSeries(dct)"
   ]
  },
  {
   "cell_type": "code",
   "execution_count": 28,
   "metadata": {},
   "outputs": [
    {
     "name": "stdout",
     "output_type": "stream",
     "text": [
      "<TimeSeries>\n",
      "2019-01-01T00:00:00+00:00: 10,\n",
      "2019-01-01T00:10:00+00:00: 20,\n",
      "2019-01-01T00:15:00+00:00: 10,\n"
     ]
    }
   ],
   "source": [
    "# Let's see it:\n",
    "print(ts)"
   ]
  },
  {
   "cell_type": "code",
   "execution_count": 29,
   "metadata": {},
   "outputs": [
    {
     "data": {
      "text/html": [
       "\n",
       "\n",
       "\n",
       "\n",
       "\n",
       "\n",
       "  <div class=\"bk-root\" id=\"6d6ba3f3-17f9-4014-b289-2880b1c95389\" data-root-id=\"4188\"></div>\n"
      ]
     },
     "metadata": {},
     "output_type": "display_data"
    },
    {
     "data": {
      "application/javascript": [
       "(function(root) {\n",
       "  function embed_document(root) {\n",
       "    \n",
       "  var docs_json = {\"29e3fb21-5984-4de9-b335-d36c8a606364\":{\"roots\":{\"references\":[{\"attributes\":{\"below\":[{\"id\":\"4199\",\"type\":\"DatetimeAxis\"}],\"center\":[{\"id\":\"4203\",\"type\":\"Grid\"},{\"id\":\"4208\",\"type\":\"Grid\"}],\"left\":[{\"id\":\"4204\",\"type\":\"LinearAxis\"}],\"plot_height\":220,\"plot_width\":400,\"renderers\":[{\"id\":\"4225\",\"type\":\"GlyphRenderer\"},{\"id\":\"4230\",\"type\":\"GlyphRenderer\"}],\"title\":{\"id\":\"4189\",\"type\":\"Title\"},\"toolbar\":{\"id\":\"4215\",\"type\":\"Toolbar\"},\"x_range\":{\"id\":\"4191\",\"type\":\"DataRange1d\"},\"x_scale\":{\"id\":\"4195\",\"type\":\"LinearScale\"},\"y_range\":{\"id\":\"4193\",\"type\":\"DataRange1d\"},\"y_scale\":{\"id\":\"4197\",\"type\":\"LinearScale\"}},\"id\":\"4188\",\"subtype\":\"Figure\",\"type\":\"Plot\"},{\"attributes\":{\"active_drag\":\"auto\",\"active_inspect\":\"auto\",\"active_multi\":null,\"active_scroll\":\"auto\",\"active_tap\":\"auto\",\"tools\":[{\"id\":\"4209\",\"type\":\"PanTool\"},{\"id\":\"4210\",\"type\":\"WheelZoomTool\"},{\"id\":\"4211\",\"type\":\"BoxZoomTool\"},{\"id\":\"4212\",\"type\":\"SaveTool\"},{\"id\":\"4213\",\"type\":\"ResetTool\"},{\"id\":\"4214\",\"type\":\"HelpTool\"}]},\"id\":\"4215\",\"type\":\"Toolbar\"},{\"attributes\":{\"source\":{\"id\":\"4222\",\"type\":\"ColumnDataSource\"}},\"id\":\"4226\",\"type\":\"CDSView\"},{\"attributes\":{},\"id\":\"4494\",\"type\":\"Selection\"},{\"attributes\":{},\"id\":\"4209\",\"type\":\"PanTool\"},{\"attributes\":{\"base\":24,\"mantissas\":[1,2,4,6,8,12],\"max_interval\":43200000.0,\"min_interval\":3600000.0,\"num_minor_ticks\":0},\"id\":\"4481\",\"type\":\"AdaptiveTicker\"},{\"attributes\":{},\"id\":\"4195\",\"type\":\"LinearScale\"},{\"attributes\":{\"source\":{\"id\":\"4227\",\"type\":\"ColumnDataSource\"}},\"id\":\"4231\",\"type\":\"CDSView\"},{\"attributes\":{\"days\":[1,15]},\"id\":\"4485\",\"type\":\"DaysTicker\"},{\"attributes\":{\"dimension\":1,\"ticker\":{\"id\":\"4205\",\"type\":\"BasicTicker\"}},\"id\":\"4208\",\"type\":\"Grid\"},{\"attributes\":{\"text\":\"value\"},\"id\":\"4189\",\"type\":\"Title\"},{\"attributes\":{\"fill_color\":{\"value\":\"red\"},\"line_color\":{\"value\":\"#1f77b4\"},\"size\":{\"units\":\"screen\",\"value\":6},\"x\":{\"field\":\"x\"},\"y\":{\"field\":\"y\"}},\"id\":\"4228\",\"type\":\"Circle\"},{\"attributes\":{},\"id\":\"4490\",\"type\":\"YearsTicker\"},{\"attributes\":{\"data_source\":{\"id\":\"4222\",\"type\":\"ColumnDataSource\"},\"glyph\":{\"id\":\"4223\",\"type\":\"Step\"},\"hover_glyph\":null,\"muted_glyph\":null,\"nonselection_glyph\":{\"id\":\"4224\",\"type\":\"Step\"},\"selection_glyph\":null,\"view\":{\"id\":\"4226\",\"type\":\"CDSView\"}},\"id\":\"4225\",\"type\":\"GlyphRenderer\"},{\"attributes\":{},\"id\":\"4197\",\"type\":\"LinearScale\"},{\"attributes\":{\"days\":[1,4,7,10,13,16,19,22,25,28]},\"id\":\"4483\",\"type\":\"DaysTicker\"},{\"attributes\":{\"months\":[0,6]},\"id\":\"4489\",\"type\":\"MonthsTicker\"},{\"attributes\":{\"base\":60,\"mantissas\":[1,2,5,10,15,20,30],\"max_interval\":1800000.0,\"min_interval\":1000.0,\"num_minor_ticks\":0},\"id\":\"4480\",\"type\":\"AdaptiveTicker\"},{\"attributes\":{\"data_source\":{\"id\":\"4227\",\"type\":\"ColumnDataSource\"},\"glyph\":{\"id\":\"4228\",\"type\":\"Circle\"},\"hover_glyph\":null,\"muted_glyph\":null,\"nonselection_glyph\":{\"id\":\"4229\",\"type\":\"Circle\"},\"selection_glyph\":null,\"view\":{\"id\":\"4231\",\"type\":\"CDSView\"}},\"id\":\"4230\",\"type\":\"GlyphRenderer\"},{\"attributes\":{\"line_alpha\":{\"value\":0.1},\"line_color\":{\"value\":\"#1f77b4\"},\"line_dash\":[4,4],\"line_width\":{\"value\":2},\"mode\":\"after\",\"x\":{\"field\":\"x\"},\"y\":{\"field\":\"y\"}},\"id\":\"4224\",\"type\":\"Step\"},{\"attributes\":{\"mantissas\":[1,2,5],\"max_interval\":500.0,\"num_minor_ticks\":0},\"id\":\"4479\",\"type\":\"AdaptiveTicker\"},{\"attributes\":{},\"id\":\"4491\",\"type\":\"UnionRenderers\"},{\"attributes\":{},\"id\":\"4477\",\"type\":\"BasicTickFormatter\"},{\"attributes\":{},\"id\":\"4213\",\"type\":\"ResetTool\"},{\"attributes\":{\"callback\":null},\"id\":\"4191\",\"type\":\"DataRange1d\"},{\"attributes\":{\"num_minor_ticks\":5,\"tickers\":[{\"id\":\"4479\",\"type\":\"AdaptiveTicker\"},{\"id\":\"4480\",\"type\":\"AdaptiveTicker\"},{\"id\":\"4481\",\"type\":\"AdaptiveTicker\"},{\"id\":\"4482\",\"type\":\"DaysTicker\"},{\"id\":\"4483\",\"type\":\"DaysTicker\"},{\"id\":\"4484\",\"type\":\"DaysTicker\"},{\"id\":\"4485\",\"type\":\"DaysTicker\"},{\"id\":\"4486\",\"type\":\"MonthsTicker\"},{\"id\":\"4487\",\"type\":\"MonthsTicker\"},{\"id\":\"4488\",\"type\":\"MonthsTicker\"},{\"id\":\"4489\",\"type\":\"MonthsTicker\"},{\"id\":\"4490\",\"type\":\"YearsTicker\"}]},\"id\":\"4200\",\"type\":\"DatetimeTicker\"},{\"attributes\":{\"months\":[0,2,4,6,8,10]},\"id\":\"4487\",\"type\":\"MonthsTicker\"},{\"attributes\":{\"days\":[1,2,3,4,5,6,7,8,9,10,11,12,13,14,15,16,17,18,19,20,21,22,23,24,25,26,27,28,29,30,31]},\"id\":\"4482\",\"type\":\"DaysTicker\"},{\"attributes\":{},\"id\":\"4492\",\"type\":\"Selection\"},{\"attributes\":{\"ticker\":{\"id\":\"4200\",\"type\":\"DatetimeTicker\"}},\"id\":\"4203\",\"type\":\"Grid\"},{\"attributes\":{\"callback\":null,\"data\":{\"x\":[1546300800000.0,1546301400000.0,1546301700000.0],\"y\":[10,20,10]},\"selected\":{\"id\":\"4494\",\"type\":\"Selection\"},\"selection_policy\":{\"id\":\"4493\",\"type\":\"UnionRenderers\"}},\"id\":\"4227\",\"type\":\"ColumnDataSource\"},{\"attributes\":{},\"id\":\"4475\",\"type\":\"DatetimeTickFormatter\"},{\"attributes\":{\"callback\":null},\"id\":\"4193\",\"type\":\"DataRange1d\"},{\"attributes\":{\"bottom_units\":\"screen\",\"fill_alpha\":{\"value\":0.5},\"fill_color\":{\"value\":\"lightgrey\"},\"left_units\":\"screen\",\"level\":\"overlay\",\"line_alpha\":{\"value\":1.0},\"line_color\":{\"value\":\"black\"},\"line_dash\":[4,4],\"line_width\":{\"value\":2},\"render_mode\":\"css\",\"right_units\":\"screen\",\"top_units\":\"screen\"},\"id\":\"4495\",\"type\":\"BoxAnnotation\"},{\"attributes\":{},\"id\":\"4212\",\"type\":\"SaveTool\"},{\"attributes\":{\"formatter\":{\"id\":\"4477\",\"type\":\"BasicTickFormatter\"},\"ticker\":{\"id\":\"4205\",\"type\":\"BasicTicker\"}},\"id\":\"4204\",\"type\":\"LinearAxis\"},{\"attributes\":{\"fill_alpha\":{\"value\":0.1},\"fill_color\":{\"value\":\"#1f77b4\"},\"line_alpha\":{\"value\":0.1},\"line_color\":{\"value\":\"#1f77b4\"},\"size\":{\"units\":\"screen\",\"value\":6},\"x\":{\"field\":\"x\"},\"y\":{\"field\":\"y\"}},\"id\":\"4229\",\"type\":\"Circle\"},{\"attributes\":{},\"id\":\"4214\",\"type\":\"HelpTool\"},{\"attributes\":{\"months\":[0,4,8]},\"id\":\"4488\",\"type\":\"MonthsTicker\"},{\"attributes\":{},\"id\":\"4205\",\"type\":\"BasicTicker\"},{\"attributes\":{},\"id\":\"4493\",\"type\":\"UnionRenderers\"},{\"attributes\":{\"months\":[0,1,2,3,4,5,6,7,8,9,10,11]},\"id\":\"4486\",\"type\":\"MonthsTicker\"},{\"attributes\":{\"overlay\":{\"id\":\"4495\",\"type\":\"BoxAnnotation\"}},\"id\":\"4211\",\"type\":\"BoxZoomTool\"},{\"attributes\":{\"days\":[1,8,15,22]},\"id\":\"4484\",\"type\":\"DaysTicker\"},{\"attributes\":{\"callback\":null,\"data\":{\"x\":[1546300800000.0,1546301400000.0,1546301700000.0],\"y\":[10,20,10]},\"selected\":{\"id\":\"4492\",\"type\":\"Selection\"},\"selection_policy\":{\"id\":\"4491\",\"type\":\"UnionRenderers\"}},\"id\":\"4222\",\"type\":\"ColumnDataSource\"},{\"attributes\":{\"axis_label\":\"timestamp\",\"formatter\":{\"id\":\"4475\",\"type\":\"DatetimeTickFormatter\"},\"ticker\":{\"id\":\"4200\",\"type\":\"DatetimeTicker\"}},\"id\":\"4199\",\"type\":\"DatetimeAxis\"},{\"attributes\":{},\"id\":\"4210\",\"type\":\"WheelZoomTool\"},{\"attributes\":{\"line_color\":{\"value\":\"#1f77b4\"},\"line_dash\":[4,4],\"line_width\":{\"value\":2},\"mode\":\"after\",\"x\":{\"field\":\"x\"},\"y\":{\"field\":\"y\"}},\"id\":\"4223\",\"type\":\"Step\"}],\"root_ids\":[\"4188\"]},\"title\":\"Bokeh Application\",\"version\":\"1.3.1\"}};\n",
       "  var render_items = [{\"docid\":\"29e3fb21-5984-4de9-b335-d36c8a606364\",\"roots\":{\"4188\":\"6d6ba3f3-17f9-4014-b289-2880b1c95389\"}}];\n",
       "  root.Bokeh.embed.embed_items_notebook(docs_json, render_items);\n",
       "\n",
       "  }\n",
       "  if (root.Bokeh !== undefined) {\n",
       "    embed_document(root);\n",
       "  } else {\n",
       "    var attempts = 0;\n",
       "    var timer = setInterval(function(root) {\n",
       "      if (root.Bokeh !== undefined) {\n",
       "        embed_document(root);\n",
       "        clearInterval(timer);\n",
       "      }\n",
       "      attempts++;\n",
       "      if (attempts > 100) {\n",
       "        console.log(\"Bokeh: ERROR: Unable to run BokehJS code because BokehJS library is missing\");\n",
       "        clearInterval(timer);\n",
       "      }\n",
       "    }, 10, root)\n",
       "  }\n",
       "})(window);"
      ],
      "application/vnd.bokehjs_exec.v0+json": ""
     },
     "metadata": {
      "application/vnd.bokehjs_exec.v0+json": {
       "id": "4188"
      }
     },
     "output_type": "display_data"
    },
    {
     "data": {
      "text/html": [
       "<div style=\"display: table;\"><div style=\"display: table-row;\"><div style=\"display: table-cell;\"><b title=\"bokeh.plotting.figure.Figure\">Figure</b>(</div><div style=\"display: table-cell;\">id&nbsp;=&nbsp;'4188', <span id=\"4629\" style=\"cursor: pointer;\">&hellip;)</span></div></div><div class=\"4628\" style=\"display: none;\"><div style=\"display: table-cell;\"></div><div style=\"display: table-cell;\">above&nbsp;=&nbsp;[],</div></div><div class=\"4628\" style=\"display: none;\"><div style=\"display: table-cell;\"></div><div style=\"display: table-cell;\">align&nbsp;=&nbsp;'start',</div></div><div class=\"4628\" style=\"display: none;\"><div style=\"display: table-cell;\"></div><div style=\"display: table-cell;\">aspect_ratio&nbsp;=&nbsp;None,</div></div><div class=\"4628\" style=\"display: none;\"><div style=\"display: table-cell;\"></div><div style=\"display: table-cell;\">aspect_scale&nbsp;=&nbsp;1,</div></div><div class=\"4628\" style=\"display: none;\"><div style=\"display: table-cell;\"></div><div style=\"display: table-cell;\">background&nbsp;=&nbsp;None,</div></div><div class=\"4628\" style=\"display: none;\"><div style=\"display: table-cell;\"></div><div style=\"display: table-cell;\">background_fill_alpha&nbsp;=&nbsp;{'value': 1.0},</div></div><div class=\"4628\" style=\"display: none;\"><div style=\"display: table-cell;\"></div><div style=\"display: table-cell;\">background_fill_color&nbsp;=&nbsp;{'value': '#ffffff'},</div></div><div class=\"4628\" style=\"display: none;\"><div style=\"display: table-cell;\"></div><div style=\"display: table-cell;\">below&nbsp;=&nbsp;[DatetimeAxis(id='4199', ...)],</div></div><div class=\"4628\" style=\"display: none;\"><div style=\"display: table-cell;\"></div><div style=\"display: table-cell;\">border_fill_alpha&nbsp;=&nbsp;{'value': 1.0},</div></div><div class=\"4628\" style=\"display: none;\"><div style=\"display: table-cell;\"></div><div style=\"display: table-cell;\">border_fill_color&nbsp;=&nbsp;{'value': '#ffffff'},</div></div><div class=\"4628\" style=\"display: none;\"><div style=\"display: table-cell;\"></div><div style=\"display: table-cell;\">center&nbsp;=&nbsp;[Grid(id='4203', ...), Grid(id='4208', ...)],</div></div><div class=\"4628\" style=\"display: none;\"><div style=\"display: table-cell;\"></div><div style=\"display: table-cell;\">css_classes&nbsp;=&nbsp;[],</div></div><div class=\"4628\" style=\"display: none;\"><div style=\"display: table-cell;\"></div><div style=\"display: table-cell;\">disabled&nbsp;=&nbsp;False,</div></div><div class=\"4628\" style=\"display: none;\"><div style=\"display: table-cell;\"></div><div style=\"display: table-cell;\">extra_x_ranges&nbsp;=&nbsp;{},</div></div><div class=\"4628\" style=\"display: none;\"><div style=\"display: table-cell;\"></div><div style=\"display: table-cell;\">extra_y_ranges&nbsp;=&nbsp;{},</div></div><div class=\"4628\" style=\"display: none;\"><div style=\"display: table-cell;\"></div><div style=\"display: table-cell;\">frame_height&nbsp;=&nbsp;None,</div></div><div class=\"4628\" style=\"display: none;\"><div style=\"display: table-cell;\"></div><div style=\"display: table-cell;\">frame_width&nbsp;=&nbsp;None,</div></div><div class=\"4628\" style=\"display: none;\"><div style=\"display: table-cell;\"></div><div style=\"display: table-cell;\">height&nbsp;=&nbsp;None,</div></div><div class=\"4628\" style=\"display: none;\"><div style=\"display: table-cell;\"></div><div style=\"display: table-cell;\">height_policy&nbsp;=&nbsp;'auto',</div></div><div class=\"4628\" style=\"display: none;\"><div style=\"display: table-cell;\"></div><div style=\"display: table-cell;\">hidpi&nbsp;=&nbsp;True,</div></div><div class=\"4628\" style=\"display: none;\"><div style=\"display: table-cell;\"></div><div style=\"display: table-cell;\">js_event_callbacks&nbsp;=&nbsp;{},</div></div><div class=\"4628\" style=\"display: none;\"><div style=\"display: table-cell;\"></div><div style=\"display: table-cell;\">js_property_callbacks&nbsp;=&nbsp;{},</div></div><div class=\"4628\" style=\"display: none;\"><div style=\"display: table-cell;\"></div><div style=\"display: table-cell;\">left&nbsp;=&nbsp;[LinearAxis(id='4204', ...)],</div></div><div class=\"4628\" style=\"display: none;\"><div style=\"display: table-cell;\"></div><div style=\"display: table-cell;\">lod_factor&nbsp;=&nbsp;10,</div></div><div class=\"4628\" style=\"display: none;\"><div style=\"display: table-cell;\"></div><div style=\"display: table-cell;\">lod_interval&nbsp;=&nbsp;300,</div></div><div class=\"4628\" style=\"display: none;\"><div style=\"display: table-cell;\"></div><div style=\"display: table-cell;\">lod_threshold&nbsp;=&nbsp;2000,</div></div><div class=\"4628\" style=\"display: none;\"><div style=\"display: table-cell;\"></div><div style=\"display: table-cell;\">lod_timeout&nbsp;=&nbsp;500,</div></div><div class=\"4628\" style=\"display: none;\"><div style=\"display: table-cell;\"></div><div style=\"display: table-cell;\">margin&nbsp;=&nbsp;(0, 0, 0, 0),</div></div><div class=\"4628\" style=\"display: none;\"><div style=\"display: table-cell;\"></div><div style=\"display: table-cell;\">match_aspect&nbsp;=&nbsp;False,</div></div><div class=\"4628\" style=\"display: none;\"><div style=\"display: table-cell;\"></div><div style=\"display: table-cell;\">max_height&nbsp;=&nbsp;None,</div></div><div class=\"4628\" style=\"display: none;\"><div style=\"display: table-cell;\"></div><div style=\"display: table-cell;\">max_width&nbsp;=&nbsp;None,</div></div><div class=\"4628\" style=\"display: none;\"><div style=\"display: table-cell;\"></div><div style=\"display: table-cell;\">min_border&nbsp;=&nbsp;5,</div></div><div class=\"4628\" style=\"display: none;\"><div style=\"display: table-cell;\"></div><div style=\"display: table-cell;\">min_border_bottom&nbsp;=&nbsp;None,</div></div><div class=\"4628\" style=\"display: none;\"><div style=\"display: table-cell;\"></div><div style=\"display: table-cell;\">min_border_left&nbsp;=&nbsp;None,</div></div><div class=\"4628\" style=\"display: none;\"><div style=\"display: table-cell;\"></div><div style=\"display: table-cell;\">min_border_right&nbsp;=&nbsp;None,</div></div><div class=\"4628\" style=\"display: none;\"><div style=\"display: table-cell;\"></div><div style=\"display: table-cell;\">min_border_top&nbsp;=&nbsp;None,</div></div><div class=\"4628\" style=\"display: none;\"><div style=\"display: table-cell;\"></div><div style=\"display: table-cell;\">min_height&nbsp;=&nbsp;None,</div></div><div class=\"4628\" style=\"display: none;\"><div style=\"display: table-cell;\"></div><div style=\"display: table-cell;\">min_width&nbsp;=&nbsp;None,</div></div><div class=\"4628\" style=\"display: none;\"><div style=\"display: table-cell;\"></div><div style=\"display: table-cell;\">name&nbsp;=&nbsp;None,</div></div><div class=\"4628\" style=\"display: none;\"><div style=\"display: table-cell;\"></div><div style=\"display: table-cell;\">outline_line_alpha&nbsp;=&nbsp;{'value': 1.0},</div></div><div class=\"4628\" style=\"display: none;\"><div style=\"display: table-cell;\"></div><div style=\"display: table-cell;\">outline_line_cap&nbsp;=&nbsp;'butt',</div></div><div class=\"4628\" style=\"display: none;\"><div style=\"display: table-cell;\"></div><div style=\"display: table-cell;\">outline_line_color&nbsp;=&nbsp;{'value': '#e5e5e5'},</div></div><div class=\"4628\" style=\"display: none;\"><div style=\"display: table-cell;\"></div><div style=\"display: table-cell;\">outline_line_dash&nbsp;=&nbsp;[],</div></div><div class=\"4628\" style=\"display: none;\"><div style=\"display: table-cell;\"></div><div style=\"display: table-cell;\">outline_line_dash_offset&nbsp;=&nbsp;0,</div></div><div class=\"4628\" style=\"display: none;\"><div style=\"display: table-cell;\"></div><div style=\"display: table-cell;\">outline_line_join&nbsp;=&nbsp;'bevel',</div></div><div class=\"4628\" style=\"display: none;\"><div style=\"display: table-cell;\"></div><div style=\"display: table-cell;\">outline_line_width&nbsp;=&nbsp;{'value': 1},</div></div><div class=\"4628\" style=\"display: none;\"><div style=\"display: table-cell;\"></div><div style=\"display: table-cell;\">output_backend&nbsp;=&nbsp;'canvas',</div></div><div class=\"4628\" style=\"display: none;\"><div style=\"display: table-cell;\"></div><div style=\"display: table-cell;\">plot_height&nbsp;=&nbsp;220,</div></div><div class=\"4628\" style=\"display: none;\"><div style=\"display: table-cell;\"></div><div style=\"display: table-cell;\">plot_width&nbsp;=&nbsp;400,</div></div><div class=\"4628\" style=\"display: none;\"><div style=\"display: table-cell;\"></div><div style=\"display: table-cell;\">renderers&nbsp;=&nbsp;[GlyphRenderer(id='4225', ...), GlyphRenderer(id='4230', ...)],</div></div><div class=\"4628\" style=\"display: none;\"><div style=\"display: table-cell;\"></div><div style=\"display: table-cell;\">reset_policy&nbsp;=&nbsp;'standard',</div></div><div class=\"4628\" style=\"display: none;\"><div style=\"display: table-cell;\"></div><div style=\"display: table-cell;\">right&nbsp;=&nbsp;[],</div></div><div class=\"4628\" style=\"display: none;\"><div style=\"display: table-cell;\"></div><div style=\"display: table-cell;\">sizing_mode&nbsp;=&nbsp;None,</div></div><div class=\"4628\" style=\"display: none;\"><div style=\"display: table-cell;\"></div><div style=\"display: table-cell;\">subscribed_events&nbsp;=&nbsp;[],</div></div><div class=\"4628\" style=\"display: none;\"><div style=\"display: table-cell;\"></div><div style=\"display: table-cell;\">tags&nbsp;=&nbsp;[],</div></div><div class=\"4628\" style=\"display: none;\"><div style=\"display: table-cell;\"></div><div style=\"display: table-cell;\">title&nbsp;=&nbsp;Title(id='4189', ...),</div></div><div class=\"4628\" style=\"display: none;\"><div style=\"display: table-cell;\"></div><div style=\"display: table-cell;\">title_location&nbsp;=&nbsp;'above',</div></div><div class=\"4628\" style=\"display: none;\"><div style=\"display: table-cell;\"></div><div style=\"display: table-cell;\">toolbar&nbsp;=&nbsp;Toolbar(id='4215', ...),</div></div><div class=\"4628\" style=\"display: none;\"><div style=\"display: table-cell;\"></div><div style=\"display: table-cell;\">toolbar_location&nbsp;=&nbsp;'right',</div></div><div class=\"4628\" style=\"display: none;\"><div style=\"display: table-cell;\"></div><div style=\"display: table-cell;\">toolbar_sticky&nbsp;=&nbsp;True,</div></div><div class=\"4628\" style=\"display: none;\"><div style=\"display: table-cell;\"></div><div style=\"display: table-cell;\">visible&nbsp;=&nbsp;True,</div></div><div class=\"4628\" style=\"display: none;\"><div style=\"display: table-cell;\"></div><div style=\"display: table-cell;\">width&nbsp;=&nbsp;None,</div></div><div class=\"4628\" style=\"display: none;\"><div style=\"display: table-cell;\"></div><div style=\"display: table-cell;\">width_policy&nbsp;=&nbsp;'auto',</div></div><div class=\"4628\" style=\"display: none;\"><div style=\"display: table-cell;\"></div><div style=\"display: table-cell;\">x_range&nbsp;=&nbsp;DataRange1d(id='4191', ...),</div></div><div class=\"4628\" style=\"display: none;\"><div style=\"display: table-cell;\"></div><div style=\"display: table-cell;\">x_scale&nbsp;=&nbsp;LinearScale(id='4195', ...),</div></div><div class=\"4628\" style=\"display: none;\"><div style=\"display: table-cell;\"></div><div style=\"display: table-cell;\">y_range&nbsp;=&nbsp;DataRange1d(id='4193', ...),</div></div><div class=\"4628\" style=\"display: none;\"><div style=\"display: table-cell;\"></div><div style=\"display: table-cell;\">y_scale&nbsp;=&nbsp;LinearScale(id='4197', ...))</div></div></div>\n",
       "<script>\n",
       "(function() {\n",
       "  var expanded = false;\n",
       "  var ellipsis = document.getElementById(\"4629\");\n",
       "  ellipsis.addEventListener(\"click\", function() {\n",
       "    var rows = document.getElementsByClassName(\"4628\");\n",
       "    for (var i = 0; i < rows.length; i++) {\n",
       "      var el = rows[i];\n",
       "      el.style.display = expanded ? \"none\" : \"table-row\";\n",
       "    }\n",
       "    ellipsis.innerHTML = expanded ? \"&hellip;)\" : \"&lsaquo;&lsaquo;&lsaquo;\";\n",
       "    expanded = !expanded;\n",
       "  });\n",
       "})();\n",
       "</script>\n"
      ],
      "text/plain": [
       "Figure(id='4188', ...)"
      ]
     },
     "execution_count": 29,
     "metadata": {},
     "output_type": "execute_result"
    }
   ],
   "source": [
    "# If bokeh is installed, you got access to `iplot` method\n",
    "ts.iplot(plot_width=400, plot_height=220, show=True)"
   ]
  },
  {
   "cell_type": "code",
   "execution_count": 30,
   "metadata": {},
   "outputs": [
    {
     "data": {
      "text/plain": [
       "20"
      ]
     },
     "execution_count": 30,
     "metadata": {},
     "output_type": "execute_result"
    }
   ],
   "source": [
    "# Can access any timestamp, if the timestamp is not part of the keys, it will get the previous value\n",
    "ts['2019-01-01 00:13:00']"
   ]
  },
  {
   "cell_type": "markdown",
   "metadata": {
    "toc-hr-collapsed": true
   },
   "source": [
    "## Operations\n",
    "-----"
   ]
  },
  {
   "cell_type": "code",
   "execution_count": 31,
   "metadata": {},
   "outputs": [],
   "source": [
    "start = Timestamp('2018-12-31 23:57:00')\n",
    "end = Timestamp('2019-01-01 00:20:00')\n",
    "kwargs_plot = dict(plot_width=400, plot_height=220, x_range=(start, end), y_range=(-5, 37))"
   ]
  },
  {
   "cell_type": "code",
   "execution_count": 32,
   "metadata": {},
   "outputs": [],
   "source": [
    "# Let's define another one\n",
    "ts2 = TimeSeries(default=0)\n",
    "ts2['2019-01-01 00:07:00'] = -1\n",
    "ts2['2019-01-01 00:10:00'] = 5\n",
    "ts2['2019-01-01 00:12:00'] = 14"
   ]
  },
  {
   "cell_type": "code",
   "execution_count": 33,
   "metadata": {},
   "outputs": [
    {
     "name": "stdout",
     "output_type": "stream",
     "text": [
      "<TimeSeries>\n",
      "2019-01-01T00:00:00+00:00: 10,\n",
      "2019-01-01T00:07:00+00:00: 9,\n",
      "2019-01-01T00:10:00+00:00: 25,\n",
      "2019-01-01T00:12:00+00:00: 34,\n",
      "2019-01-01T00:15:00+00:00: 24,\n"
     ]
    }
   ],
   "source": [
    "sum_ts = ts + ts2  # realize the sum of step functions\n",
    "print(sum_ts)"
   ]
  },
  {
   "cell_type": "code",
   "execution_count": 34,
   "metadata": {},
   "outputs": [
    {
     "data": {
      "text/html": [
       "\n",
       "\n",
       "\n",
       "\n",
       "\n",
       "\n",
       "  <div class=\"bk-root\" id=\"50a17b9b-ba48-4cf2-b52a-5dec36549701\" data-root-id=\"4763\"></div>\n"
      ]
     },
     "metadata": {},
     "output_type": "display_data"
    },
    {
     "data": {
      "application/javascript": [
       "(function(root) {\n",
       "  function embed_document(root) {\n",
       "    \n",
       "  var docs_json = {\"db59b3b4-a00a-4f93-9a68-4e31e0ea1f16\":{\"roots\":{\"references\":[{\"attributes\":{\"children\":[{\"id\":\"4631\",\"subtype\":\"Figure\",\"type\":\"Plot\"},{\"id\":\"4675\",\"subtype\":\"Figure\",\"type\":\"Plot\"},{\"id\":\"4719\",\"subtype\":\"Figure\",\"type\":\"Plot\"}]},\"id\":\"4763\",\"type\":\"Row\"},{\"attributes\":{\"below\":[{\"id\":\"4642\",\"type\":\"DatetimeAxis\"}],\"center\":[{\"id\":\"4646\",\"type\":\"Grid\"},{\"id\":\"4651\",\"type\":\"Grid\"}],\"left\":[{\"id\":\"4647\",\"type\":\"LinearAxis\"}],\"plot_height\":220,\"plot_width\":400,\"renderers\":[{\"id\":\"4668\",\"type\":\"GlyphRenderer\"},{\"id\":\"4673\",\"type\":\"GlyphRenderer\"}],\"title\":{\"id\":\"4632\",\"type\":\"Title\"},\"toolbar\":{\"id\":\"4658\",\"type\":\"Toolbar\"},\"x_range\":{\"id\":\"4634\",\"type\":\"Range1d\"},\"x_scale\":{\"id\":\"4638\",\"type\":\"LinearScale\"},\"y_range\":{\"id\":\"4636\",\"type\":\"Range1d\"},\"y_scale\":{\"id\":\"4640\",\"type\":\"LinearScale\"}},\"id\":\"4631\",\"subtype\":\"Figure\",\"type\":\"Plot\"},{\"attributes\":{\"callback\":null,\"end\":1546302000000.0,\"start\":1546300620000.0},\"id\":\"4678\",\"type\":\"Range1d\"},{\"attributes\":{\"days\":[1,15]},\"id\":\"5066\",\"type\":\"DaysTicker\"},{\"attributes\":{},\"id\":\"4697\",\"type\":\"WheelZoomTool\"},{\"attributes\":{},\"id\":\"4692\",\"type\":\"BasicTicker\"},{\"attributes\":{},\"id\":\"4699\",\"type\":\"SaveTool\"},{\"attributes\":{\"axis_label\":\"timestamp\",\"formatter\":{\"id\":\"5035\",\"type\":\"DatetimeTickFormatter\"},\"ticker\":{\"id\":\"4687\",\"type\":\"DatetimeTicker\"}},\"id\":\"4686\",\"type\":\"DatetimeAxis\"},{\"attributes\":{\"text\":\"value\"},\"id\":\"4632\",\"type\":\"Title\"},{\"attributes\":{\"line_color\":{\"value\":\"#1f77b4\"},\"line_dash\":[4,4],\"line_width\":{\"value\":2},\"mode\":\"after\",\"x\":{\"field\":\"x\"},\"y\":{\"field\":\"y\"}},\"id\":\"4710\",\"type\":\"Step\"},{\"attributes\":{\"dimension\":1,\"ticker\":{\"id\":\"4692\",\"type\":\"BasicTicker\"}},\"id\":\"4695\",\"type\":\"Grid\"},{\"attributes\":{},\"id\":\"4696\",\"type\":\"PanTool\"},{\"attributes\":{\"formatter\":{\"id\":\"5037\",\"type\":\"BasicTickFormatter\"},\"ticker\":{\"id\":\"4692\",\"type\":\"BasicTicker\"}},\"id\":\"4691\",\"type\":\"LinearAxis\"},{\"attributes\":{\"line_alpha\":{\"value\":0.1},\"line_color\":{\"value\":\"#1f77b4\"},\"line_dash\":[4,4],\"line_width\":{\"value\":2},\"mode\":\"after\",\"x\":{\"field\":\"x\"},\"y\":{\"field\":\"y\"}},\"id\":\"4711\",\"type\":\"Step\"},{\"attributes\":{\"callback\":null,\"data\":{\"x\":[1546301220000.0,1546301400000.0,1546301520000.0],\"y\":[-1,5,14]},\"selected\":{\"id\":\"5073\",\"type\":\"Selection\"},\"selection_policy\":{\"id\":\"5072\",\"type\":\"UnionRenderers\"}},\"id\":\"4709\",\"type\":\"ColumnDataSource\"},{\"attributes\":{\"overlay\":{\"id\":\"5076\",\"type\":\"BoxAnnotation\"}},\"id\":\"4698\",\"type\":\"BoxZoomTool\"},{\"attributes\":{\"callback\":null,\"data\":{\"x\":[1546300800000.0,1546301400000.0,1546301700000.0],\"y\":[10,20,10]},\"selected\":{\"id\":\"5056\",\"type\":\"Selection\"},\"selection_policy\":{\"id\":\"5055\",\"type\":\"UnionRenderers\"}},\"id\":\"4665\",\"type\":\"ColumnDataSource\"},{\"attributes\":{\"num_minor_ticks\":5,\"tickers\":[{\"id\":\"5060\",\"type\":\"AdaptiveTicker\"},{\"id\":\"5061\",\"type\":\"AdaptiveTicker\"},{\"id\":\"5062\",\"type\":\"AdaptiveTicker\"},{\"id\":\"5063\",\"type\":\"DaysTicker\"},{\"id\":\"5064\",\"type\":\"DaysTicker\"},{\"id\":\"5065\",\"type\":\"DaysTicker\"},{\"id\":\"5066\",\"type\":\"DaysTicker\"},{\"id\":\"5067\",\"type\":\"MonthsTicker\"},{\"id\":\"5068\",\"type\":\"MonthsTicker\"},{\"id\":\"5069\",\"type\":\"MonthsTicker\"},{\"id\":\"5070\",\"type\":\"MonthsTicker\"},{\"id\":\"5071\",\"type\":\"YearsTicker\"}]},\"id\":\"4687\",\"type\":\"DatetimeTicker\"},{\"attributes\":{},\"id\":\"4700\",\"type\":\"ResetTool\"},{\"attributes\":{\"ticker\":{\"id\":\"4687\",\"type\":\"DatetimeTicker\"}},\"id\":\"4690\",\"type\":\"Grid\"},{\"attributes\":{\"fill_color\":{\"value\":\"red\"},\"line_color\":{\"value\":\"#1f77b4\"},\"size\":{\"units\":\"screen\",\"value\":6},\"x\":{\"field\":\"x\"},\"y\":{\"field\":\"y\"}},\"id\":\"4759\",\"type\":\"Circle\"},{\"attributes\":{\"months\":[0,1,2,3,4,5,6,7,8,9,10,11]},\"id\":\"5067\",\"type\":\"MonthsTicker\"},{\"attributes\":{\"fill_alpha\":{\"value\":0.1},\"fill_color\":{\"value\":\"#1f77b4\"},\"line_alpha\":{\"value\":0.1},\"line_color\":{\"value\":\"#1f77b4\"},\"size\":{\"units\":\"screen\",\"value\":6},\"x\":{\"field\":\"x\"},\"y\":{\"field\":\"y\"}},\"id\":\"4760\",\"type\":\"Circle\"},{\"attributes\":{\"months\":[0,2,4,6,8,10]},\"id\":\"5068\",\"type\":\"MonthsTicker\"},{\"attributes\":{},\"id\":\"4648\",\"type\":\"BasicTicker\"},{\"attributes\":{\"source\":{\"id\":\"4758\",\"type\":\"ColumnDataSource\"}},\"id\":\"4762\",\"type\":\"CDSView\"},{\"attributes\":{},\"id\":\"4745\",\"type\":\"HelpTool\"},{\"attributes\":{\"months\":[0,4,8]},\"id\":\"5069\",\"type\":\"MonthsTicker\"},{\"attributes\":{\"callback\":null,\"end\":1546302000000.0,\"start\":1546300620000.0},\"id\":\"4634\",\"type\":\"Range1d\"},{\"attributes\":{},\"id\":\"4701\",\"type\":\"HelpTool\"},{\"attributes\":{\"source\":{\"id\":\"4753\",\"type\":\"ColumnDataSource\"}},\"id\":\"4757\",\"type\":\"CDSView\"},{\"attributes\":{\"data_source\":{\"id\":\"4753\",\"type\":\"ColumnDataSource\"},\"glyph\":{\"id\":\"4754\",\"type\":\"Step\"},\"hover_glyph\":null,\"muted_glyph\":null,\"nonselection_glyph\":{\"id\":\"4755\",\"type\":\"Step\"},\"selection_glyph\":null,\"view\":{\"id\":\"4757\",\"type\":\"CDSView\"}},\"id\":\"4756\",\"type\":\"GlyphRenderer\"},{\"attributes\":{\"months\":[0,6]},\"id\":\"5070\",\"type\":\"MonthsTicker\"},{\"attributes\":{\"axis_label\":\"timestamp\",\"formatter\":{\"id\":\"5031\",\"type\":\"DatetimeTickFormatter\"},\"ticker\":{\"id\":\"4643\",\"type\":\"DatetimeTicker\"}},\"id\":\"4642\",\"type\":\"DatetimeAxis\"},{\"attributes\":{},\"id\":\"5071\",\"type\":\"YearsTicker\"},{\"attributes\":{\"dimension\":1,\"ticker\":{\"id\":\"4648\",\"type\":\"BasicTicker\"}},\"id\":\"4651\",\"type\":\"Grid\"},{\"attributes\":{\"callback\":null,\"data\":{\"x\":[1546301220000.0,1546301400000.0,1546301520000.0],\"y\":[-1,5,14]},\"selected\":{\"id\":\"5075\",\"type\":\"Selection\"},\"selection_policy\":{\"id\":\"5074\",\"type\":\"UnionRenderers\"}},\"id\":\"4714\",\"type\":\"ColumnDataSource\"},{\"attributes\":{},\"id\":\"5031\",\"type\":\"DatetimeTickFormatter\"},{\"attributes\":{},\"id\":\"4657\",\"type\":\"HelpTool\"},{\"attributes\":{},\"id\":\"5072\",\"type\":\"UnionRenderers\"},{\"attributes\":{\"ticker\":{\"id\":\"4643\",\"type\":\"DatetimeTicker\"}},\"id\":\"4646\",\"type\":\"Grid\"},{\"attributes\":{\"axis_label\":\"timestamp\",\"formatter\":{\"id\":\"5039\",\"type\":\"DatetimeTickFormatter\"},\"ticker\":{\"id\":\"4731\",\"type\":\"DatetimeTicker\"}},\"id\":\"4730\",\"type\":\"DatetimeAxis\"},{\"attributes\":{},\"id\":\"4744\",\"type\":\"ResetTool\"},{\"attributes\":{},\"id\":\"5033\",\"type\":\"BasicTickFormatter\"},{\"attributes\":{\"line_color\":{\"value\":\"#1f77b4\"},\"line_dash\":[4,4],\"line_width\":{\"value\":2},\"mode\":\"after\",\"x\":{\"field\":\"x\"},\"y\":{\"field\":\"y\"}},\"id\":\"4666\",\"type\":\"Step\"},{\"attributes\":{},\"id\":\"5073\",\"type\":\"Selection\"},{\"attributes\":{\"line_color\":{\"value\":\"#1f77b4\"},\"line_dash\":[4,4],\"line_width\":{\"value\":2},\"mode\":\"after\",\"x\":{\"field\":\"x\"},\"y\":{\"field\":\"y\"}},\"id\":\"4754\",\"type\":\"Step\"},{\"attributes\":{\"callback\":null,\"data\":{\"x\":[1546300800000.0,1546301220000.0,1546301400000.0,1546301520000.0,1546301700000.0],\"y\":[10,9,25,34,24]},\"selected\":{\"id\":\"5092\",\"type\":\"Selection\"},\"selection_policy\":{\"id\":\"5091\",\"type\":\"UnionRenderers\"}},\"id\":\"4758\",\"type\":\"ColumnDataSource\"},{\"attributes\":{},\"id\":\"5035\",\"type\":\"DatetimeTickFormatter\"},{\"attributes\":{},\"id\":\"5074\",\"type\":\"UnionRenderers\"},{\"attributes\":{},\"id\":\"4640\",\"type\":\"LinearScale\"},{\"attributes\":{},\"id\":\"4728\",\"type\":\"LinearScale\"},{\"attributes\":{},\"id\":\"4655\",\"type\":\"SaveTool\"},{\"attributes\":{\"num_minor_ticks\":5,\"tickers\":[{\"id\":\"5043\",\"type\":\"AdaptiveTicker\"},{\"id\":\"5044\",\"type\":\"AdaptiveTicker\"},{\"id\":\"5045\",\"type\":\"AdaptiveTicker\"},{\"id\":\"5046\",\"type\":\"DaysTicker\"},{\"id\":\"5047\",\"type\":\"DaysTicker\"},{\"id\":\"5048\",\"type\":\"DaysTicker\"},{\"id\":\"5049\",\"type\":\"DaysTicker\"},{\"id\":\"5050\",\"type\":\"MonthsTicker\"},{\"id\":\"5051\",\"type\":\"MonthsTicker\"},{\"id\":\"5052\",\"type\":\"MonthsTicker\"},{\"id\":\"5053\",\"type\":\"MonthsTicker\"},{\"id\":\"5054\",\"type\":\"YearsTicker\"}]},\"id\":\"4643\",\"type\":\"DatetimeTicker\"},{\"attributes\":{},\"id\":\"5037\",\"type\":\"BasicTickFormatter\"},{\"attributes\":{},\"id\":\"5075\",\"type\":\"Selection\"},{\"attributes\":{},\"id\":\"5039\",\"type\":\"DatetimeTickFormatter\"},{\"attributes\":{\"bottom_units\":\"screen\",\"fill_alpha\":{\"value\":0.5},\"fill_color\":{\"value\":\"lightgrey\"},\"left_units\":\"screen\",\"level\":\"overlay\",\"line_alpha\":{\"value\":1.0},\"line_color\":{\"value\":\"black\"},\"line_dash\":[4,4],\"line_width\":{\"value\":2},\"render_mode\":\"css\",\"right_units\":\"screen\",\"top_units\":\"screen\"},\"id\":\"5076\",\"type\":\"BoxAnnotation\"},{\"attributes\":{\"active_drag\":\"auto\",\"active_inspect\":\"auto\",\"active_multi\":null,\"active_scroll\":\"auto\",\"active_tap\":\"auto\",\"tools\":[{\"id\":\"4652\",\"type\":\"PanTool\"},{\"id\":\"4653\",\"type\":\"WheelZoomTool\"},{\"id\":\"4654\",\"type\":\"BoxZoomTool\"},{\"id\":\"4655\",\"type\":\"SaveTool\"},{\"id\":\"4656\",\"type\":\"ResetTool\"},{\"id\":\"4657\",\"type\":\"HelpTool\"}]},\"id\":\"4658\",\"type\":\"Toolbar\"},{\"attributes\":{},\"id\":\"5041\",\"type\":\"BasicTickFormatter\"},{\"attributes\":{\"mantissas\":[1,2,5],\"max_interval\":500.0,\"num_minor_ticks\":0},\"id\":\"5077\",\"type\":\"AdaptiveTicker\"},{\"attributes\":{\"mantissas\":[1,2,5],\"max_interval\":500.0,\"num_minor_ticks\":0},\"id\":\"5043\",\"type\":\"AdaptiveTicker\"},{\"attributes\":{},\"id\":\"4638\",\"type\":\"LinearScale\"},{\"attributes\":{\"text\":\"value\"},\"id\":\"4720\",\"type\":\"Title\"},{\"attributes\":{\"base\":60,\"mantissas\":[1,2,5,10,15,20,30],\"max_interval\":1800000.0,\"min_interval\":1000.0,\"num_minor_ticks\":0},\"id\":\"5078\",\"type\":\"AdaptiveTicker\"},{\"attributes\":{\"callback\":null,\"end\":37,\"start\":-5},\"id\":\"4636\",\"type\":\"Range1d\"},{\"attributes\":{},\"id\":\"4726\",\"type\":\"LinearScale\"},{\"attributes\":{},\"id\":\"4652\",\"type\":\"PanTool\"},{\"attributes\":{\"base\":60,\"mantissas\":[1,2,5,10,15,20,30],\"max_interval\":1800000.0,\"min_interval\":1000.0,\"num_minor_ticks\":0},\"id\":\"5044\",\"type\":\"AdaptiveTicker\"},{\"attributes\":{\"line_alpha\":{\"value\":0.1},\"line_color\":{\"value\":\"#1f77b4\"},\"line_dash\":[4,4],\"line_width\":{\"value\":2},\"mode\":\"after\",\"x\":{\"field\":\"x\"},\"y\":{\"field\":\"y\"}},\"id\":\"4667\",\"type\":\"Step\"},{\"attributes\":{\"base\":24,\"mantissas\":[1,2,4,6,8,12],\"max_interval\":43200000.0,\"min_interval\":3600000.0,\"num_minor_ticks\":0},\"id\":\"5079\",\"type\":\"AdaptiveTicker\"},{\"attributes\":{\"below\":[{\"id\":\"4730\",\"type\":\"DatetimeAxis\"}],\"center\":[{\"id\":\"4734\",\"type\":\"Grid\"},{\"id\":\"4739\",\"type\":\"Grid\"}],\"left\":[{\"id\":\"4735\",\"type\":\"LinearAxis\"}],\"plot_height\":220,\"plot_width\":400,\"renderers\":[{\"id\":\"4756\",\"type\":\"GlyphRenderer\"},{\"id\":\"4761\",\"type\":\"GlyphRenderer\"}],\"title\":{\"id\":\"4720\",\"type\":\"Title\"},\"toolbar\":{\"id\":\"4746\",\"type\":\"Toolbar\"},\"x_range\":{\"id\":\"4722\",\"type\":\"Range1d\"},\"x_scale\":{\"id\":\"4726\",\"type\":\"LinearScale\"},\"y_range\":{\"id\":\"4724\",\"type\":\"Range1d\"},\"y_scale\":{\"id\":\"4728\",\"type\":\"LinearScale\"}},\"id\":\"4719\",\"subtype\":\"Figure\",\"type\":\"Plot\"},{\"attributes\":{\"formatter\":{\"id\":\"5033\",\"type\":\"BasicTickFormatter\"},\"ticker\":{\"id\":\"4648\",\"type\":\"BasicTicker\"}},\"id\":\"4647\",\"type\":\"LinearAxis\"},{\"attributes\":{\"base\":24,\"mantissas\":[1,2,4,6,8,12],\"max_interval\":43200000.0,\"min_interval\":3600000.0,\"num_minor_ticks\":0},\"id\":\"5045\",\"type\":\"AdaptiveTicker\"},{\"attributes\":{\"days\":[1,2,3,4,5,6,7,8,9,10,11,12,13,14,15,16,17,18,19,20,21,22,23,24,25,26,27,28,29,30,31]},\"id\":\"5080\",\"type\":\"DaysTicker\"},{\"attributes\":{\"dimension\":1,\"ticker\":{\"id\":\"4736\",\"type\":\"BasicTicker\"}},\"id\":\"4739\",\"type\":\"Grid\"},{\"attributes\":{\"source\":{\"id\":\"4709\",\"type\":\"ColumnDataSource\"}},\"id\":\"4713\",\"type\":\"CDSView\"},{\"attributes\":{\"days\":[1,2,3,4,5,6,7,8,9,10,11,12,13,14,15,16,17,18,19,20,21,22,23,24,25,26,27,28,29,30,31]},\"id\":\"5046\",\"type\":\"DaysTicker\"},{\"attributes\":{\"source\":{\"id\":\"4665\",\"type\":\"ColumnDataSource\"}},\"id\":\"4669\",\"type\":\"CDSView\"},{\"attributes\":{\"days\":[1,4,7,10,13,16,19,22,25,28]},\"id\":\"5081\",\"type\":\"DaysTicker\"},{\"attributes\":{\"days\":[1,4,7,10,13,16,19,22,25,28]},\"id\":\"5047\",\"type\":\"DaysTicker\"},{\"attributes\":{\"days\":[1,8,15,22]},\"id\":\"5082\",\"type\":\"DaysTicker\"},{\"attributes\":{\"overlay\":{\"id\":\"5059\",\"type\":\"BoxAnnotation\"}},\"id\":\"4654\",\"type\":\"BoxZoomTool\"},{\"attributes\":{\"days\":[1,8,15,22]},\"id\":\"5048\",\"type\":\"DaysTicker\"},{\"attributes\":{\"days\":[1,15]},\"id\":\"5083\",\"type\":\"DaysTicker\"},{\"attributes\":{\"fill_color\":{\"value\":\"red\"},\"line_color\":{\"value\":\"#1f77b4\"},\"size\":{\"units\":\"screen\",\"value\":6},\"x\":{\"field\":\"x\"},\"y\":{\"field\":\"y\"}},\"id\":\"4671\",\"type\":\"Circle\"},{\"attributes\":{\"data_source\":{\"id\":\"4709\",\"type\":\"ColumnDataSource\"},\"glyph\":{\"id\":\"4710\",\"type\":\"Step\"},\"hover_glyph\":null,\"muted_glyph\":null,\"nonselection_glyph\":{\"id\":\"4711\",\"type\":\"Step\"},\"selection_glyph\":null,\"view\":{\"id\":\"4713\",\"type\":\"CDSView\"}},\"id\":\"4712\",\"type\":\"GlyphRenderer\"},{\"attributes\":{\"days\":[1,15]},\"id\":\"5049\",\"type\":\"DaysTicker\"},{\"attributes\":{\"months\":[0,1,2,3,4,5,6,7,8,9,10,11]},\"id\":\"5084\",\"type\":\"MonthsTicker\"},{\"attributes\":{},\"id\":\"4656\",\"type\":\"ResetTool\"},{\"attributes\":{\"fill_color\":{\"value\":\"red\"},\"line_color\":{\"value\":\"#1f77b4\"},\"size\":{\"units\":\"screen\",\"value\":6},\"x\":{\"field\":\"x\"},\"y\":{\"field\":\"y\"}},\"id\":\"4715\",\"type\":\"Circle\"},{\"attributes\":{\"months\":[0,1,2,3,4,5,6,7,8,9,10,11]},\"id\":\"5050\",\"type\":\"MonthsTicker\"},{\"attributes\":{\"months\":[0,2,4,6,8,10]},\"id\":\"5085\",\"type\":\"MonthsTicker\"},{\"attributes\":{\"active_drag\":\"auto\",\"active_inspect\":\"auto\",\"active_multi\":null,\"active_scroll\":\"auto\",\"active_tap\":\"auto\",\"tools\":[{\"id\":\"4696\",\"type\":\"PanTool\"},{\"id\":\"4697\",\"type\":\"WheelZoomTool\"},{\"id\":\"4698\",\"type\":\"BoxZoomTool\"},{\"id\":\"4699\",\"type\":\"SaveTool\"},{\"id\":\"4700\",\"type\":\"ResetTool\"},{\"id\":\"4701\",\"type\":\"HelpTool\"}]},\"id\":\"4702\",\"type\":\"Toolbar\"},{\"attributes\":{},\"id\":\"4653\",\"type\":\"WheelZoomTool\"},{\"attributes\":{\"months\":[0,2,4,6,8,10]},\"id\":\"5051\",\"type\":\"MonthsTicker\"},{\"attributes\":{\"months\":[0,4,8]},\"id\":\"5086\",\"type\":\"MonthsTicker\"},{\"attributes\":{\"months\":[0,4,8]},\"id\":\"5052\",\"type\":\"MonthsTicker\"},{\"attributes\":{\"months\":[0,6]},\"id\":\"5087\",\"type\":\"MonthsTicker\"},{\"attributes\":{\"fill_alpha\":{\"value\":0.1},\"fill_color\":{\"value\":\"#1f77b4\"},\"line_alpha\":{\"value\":0.1},\"line_color\":{\"value\":\"#1f77b4\"},\"size\":{\"units\":\"screen\",\"value\":6},\"x\":{\"field\":\"x\"},\"y\":{\"field\":\"y\"}},\"id\":\"4716\",\"type\":\"Circle\"},{\"attributes\":{\"months\":[0,6]},\"id\":\"5053\",\"type\":\"MonthsTicker\"},{\"attributes\":{},\"id\":\"5088\",\"type\":\"YearsTicker\"},{\"attributes\":{\"callback\":null,\"data\":{\"x\":[1546300800000.0,1546301400000.0,1546301700000.0],\"y\":[10,20,10]},\"selected\":{\"id\":\"5058\",\"type\":\"Selection\"},\"selection_policy\":{\"id\":\"5057\",\"type\":\"UnionRenderers\"}},\"id\":\"4670\",\"type\":\"ColumnDataSource\"},{\"attributes\":{\"data_source\":{\"id\":\"4758\",\"type\":\"ColumnDataSource\"},\"glyph\":{\"id\":\"4759\",\"type\":\"Circle\"},\"hover_glyph\":null,\"muted_glyph\":null,\"nonselection_glyph\":{\"id\":\"4760\",\"type\":\"Circle\"},\"selection_glyph\":null,\"view\":{\"id\":\"4762\",\"type\":\"CDSView\"}},\"id\":\"4761\",\"type\":\"GlyphRenderer\"},{\"attributes\":{},\"id\":\"5054\",\"type\":\"YearsTicker\"},{\"attributes\":{},\"id\":\"5089\",\"type\":\"UnionRenderers\"},{\"attributes\":{\"data_source\":{\"id\":\"4665\",\"type\":\"ColumnDataSource\"},\"glyph\":{\"id\":\"4666\",\"type\":\"Step\"},\"hover_glyph\":null,\"muted_glyph\":null,\"nonselection_glyph\":{\"id\":\"4667\",\"type\":\"Step\"},\"selection_glyph\":null,\"view\":{\"id\":\"4669\",\"type\":\"CDSView\"}},\"id\":\"4668\",\"type\":\"GlyphRenderer\"},{\"attributes\":{},\"id\":\"4743\",\"type\":\"SaveTool\"},{\"attributes\":{},\"id\":\"5055\",\"type\":\"UnionRenderers\"},{\"attributes\":{},\"id\":\"5090\",\"type\":\"Selection\"},{\"attributes\":{\"data_source\":{\"id\":\"4670\",\"type\":\"ColumnDataSource\"},\"glyph\":{\"id\":\"4671\",\"type\":\"Circle\"},\"hover_glyph\":null,\"muted_glyph\":null,\"nonselection_glyph\":{\"id\":\"4672\",\"type\":\"Circle\"},\"selection_glyph\":null,\"view\":{\"id\":\"4674\",\"type\":\"CDSView\"}},\"id\":\"4673\",\"type\":\"GlyphRenderer\"},{\"attributes\":{},\"id\":\"5056\",\"type\":\"Selection\"},{\"attributes\":{},\"id\":\"5091\",\"type\":\"UnionRenderers\"},{\"attributes\":{\"fill_alpha\":{\"value\":0.1},\"fill_color\":{\"value\":\"#1f77b4\"},\"line_alpha\":{\"value\":0.1},\"line_color\":{\"value\":\"#1f77b4\"},\"size\":{\"units\":\"screen\",\"value\":6},\"x\":{\"field\":\"x\"},\"y\":{\"field\":\"y\"}},\"id\":\"4672\",\"type\":\"Circle\"},{\"attributes\":{},\"id\":\"5057\",\"type\":\"UnionRenderers\"},{\"attributes\":{},\"id\":\"5092\",\"type\":\"Selection\"},{\"attributes\":{},\"id\":\"4684\",\"type\":\"LinearScale\"},{\"attributes\":{},\"id\":\"4741\",\"type\":\"WheelZoomTool\"},{\"attributes\":{},\"id\":\"5058\",\"type\":\"Selection\"},{\"attributes\":{\"bottom_units\":\"screen\",\"fill_alpha\":{\"value\":0.5},\"fill_color\":{\"value\":\"lightgrey\"},\"left_units\":\"screen\",\"level\":\"overlay\",\"line_alpha\":{\"value\":1.0},\"line_color\":{\"value\":\"black\"},\"line_dash\":[4,4],\"line_width\":{\"value\":2},\"render_mode\":\"css\",\"right_units\":\"screen\",\"top_units\":\"screen\"},\"id\":\"5093\",\"type\":\"BoxAnnotation\"},{\"attributes\":{\"overlay\":{\"id\":\"5093\",\"type\":\"BoxAnnotation\"}},\"id\":\"4742\",\"type\":\"BoxZoomTool\"},{\"attributes\":{\"bottom_units\":\"screen\",\"fill_alpha\":{\"value\":0.5},\"fill_color\":{\"value\":\"lightgrey\"},\"left_units\":\"screen\",\"level\":\"overlay\",\"line_alpha\":{\"value\":1.0},\"line_color\":{\"value\":\"black\"},\"line_dash\":[4,4],\"line_width\":{\"value\":2},\"render_mode\":\"css\",\"right_units\":\"screen\",\"top_units\":\"screen\"},\"id\":\"5059\",\"type\":\"BoxAnnotation\"},{\"attributes\":{\"formatter\":{\"id\":\"5041\",\"type\":\"BasicTickFormatter\"},\"ticker\":{\"id\":\"4736\",\"type\":\"BasicTicker\"}},\"id\":\"4735\",\"type\":\"LinearAxis\"},{\"attributes\":{\"source\":{\"id\":\"4714\",\"type\":\"ColumnDataSource\"}},\"id\":\"4718\",\"type\":\"CDSView\"},{\"attributes\":{\"mantissas\":[1,2,5],\"max_interval\":500.0,\"num_minor_ticks\":0},\"id\":\"5060\",\"type\":\"AdaptiveTicker\"},{\"attributes\":{\"num_minor_ticks\":5,\"tickers\":[{\"id\":\"5077\",\"type\":\"AdaptiveTicker\"},{\"id\":\"5078\",\"type\":\"AdaptiveTicker\"},{\"id\":\"5079\",\"type\":\"AdaptiveTicker\"},{\"id\":\"5080\",\"type\":\"DaysTicker\"},{\"id\":\"5081\",\"type\":\"DaysTicker\"},{\"id\":\"5082\",\"type\":\"DaysTicker\"},{\"id\":\"5083\",\"type\":\"DaysTicker\"},{\"id\":\"5084\",\"type\":\"MonthsTicker\"},{\"id\":\"5085\",\"type\":\"MonthsTicker\"},{\"id\":\"5086\",\"type\":\"MonthsTicker\"},{\"id\":\"5087\",\"type\":\"MonthsTicker\"},{\"id\":\"5088\",\"type\":\"YearsTicker\"}]},\"id\":\"4731\",\"type\":\"DatetimeTicker\"},{\"attributes\":{\"callback\":null,\"end\":37,\"start\":-5},\"id\":\"4680\",\"type\":\"Range1d\"},{\"attributes\":{\"base\":60,\"mantissas\":[1,2,5,10,15,20,30],\"max_interval\":1800000.0,\"min_interval\":1000.0,\"num_minor_ticks\":0},\"id\":\"5061\",\"type\":\"AdaptiveTicker\"},{\"attributes\":{\"text\":\"value\"},\"id\":\"4676\",\"type\":\"Title\"},{\"attributes\":{\"active_drag\":\"auto\",\"active_inspect\":\"auto\",\"active_multi\":null,\"active_scroll\":\"auto\",\"active_tap\":\"auto\",\"tools\":[{\"id\":\"4740\",\"type\":\"PanTool\"},{\"id\":\"4741\",\"type\":\"WheelZoomTool\"},{\"id\":\"4742\",\"type\":\"BoxZoomTool\"},{\"id\":\"4743\",\"type\":\"SaveTool\"},{\"id\":\"4744\",\"type\":\"ResetTool\"},{\"id\":\"4745\",\"type\":\"HelpTool\"}]},\"id\":\"4746\",\"type\":\"Toolbar\"},{\"attributes\":{},\"id\":\"4736\",\"type\":\"BasicTicker\"},{\"attributes\":{\"base\":24,\"mantissas\":[1,2,4,6,8,12],\"max_interval\":43200000.0,\"min_interval\":3600000.0,\"num_minor_ticks\":0},\"id\":\"5062\",\"type\":\"AdaptiveTicker\"},{\"attributes\":{\"ticker\":{\"id\":\"4731\",\"type\":\"DatetimeTicker\"}},\"id\":\"4734\",\"type\":\"Grid\"},{\"attributes\":{\"callback\":null,\"end\":37,\"start\":-5},\"id\":\"4724\",\"type\":\"Range1d\"},{\"attributes\":{},\"id\":\"4740\",\"type\":\"PanTool\"},{\"attributes\":{\"days\":[1,2,3,4,5,6,7,8,9,10,11,12,13,14,15,16,17,18,19,20,21,22,23,24,25,26,27,28,29,30,31]},\"id\":\"5063\",\"type\":\"DaysTicker\"},{\"attributes\":{\"below\":[{\"id\":\"4686\",\"type\":\"DatetimeAxis\"}],\"center\":[{\"id\":\"4690\",\"type\":\"Grid\"},{\"id\":\"4695\",\"type\":\"Grid\"}],\"left\":[{\"id\":\"4691\",\"type\":\"LinearAxis\"}],\"plot_height\":220,\"plot_width\":400,\"renderers\":[{\"id\":\"4712\",\"type\":\"GlyphRenderer\"},{\"id\":\"4717\",\"type\":\"GlyphRenderer\"}],\"title\":{\"id\":\"4676\",\"type\":\"Title\"},\"toolbar\":{\"id\":\"4702\",\"type\":\"Toolbar\"},\"x_range\":{\"id\":\"4678\",\"type\":\"Range1d\"},\"x_scale\":{\"id\":\"4682\",\"type\":\"LinearScale\"},\"y_range\":{\"id\":\"4680\",\"type\":\"Range1d\"},\"y_scale\":{\"id\":\"4684\",\"type\":\"LinearScale\"}},\"id\":\"4675\",\"subtype\":\"Figure\",\"type\":\"Plot\"},{\"attributes\":{\"callback\":null,\"end\":1546302000000.0,\"start\":1546300620000.0},\"id\":\"4722\",\"type\":\"Range1d\"},{\"attributes\":{\"days\":[1,4,7,10,13,16,19,22,25,28]},\"id\":\"5064\",\"type\":\"DaysTicker\"},{\"attributes\":{\"data_source\":{\"id\":\"4714\",\"type\":\"ColumnDataSource\"},\"glyph\":{\"id\":\"4715\",\"type\":\"Circle\"},\"hover_glyph\":null,\"muted_glyph\":null,\"nonselection_glyph\":{\"id\":\"4716\",\"type\":\"Circle\"},\"selection_glyph\":null,\"view\":{\"id\":\"4718\",\"type\":\"CDSView\"}},\"id\":\"4717\",\"type\":\"GlyphRenderer\"},{\"attributes\":{\"source\":{\"id\":\"4670\",\"type\":\"ColumnDataSource\"}},\"id\":\"4674\",\"type\":\"CDSView\"},{\"attributes\":{\"days\":[1,8,15,22]},\"id\":\"5065\",\"type\":\"DaysTicker\"},{\"attributes\":{\"line_alpha\":{\"value\":0.1},\"line_color\":{\"value\":\"#1f77b4\"},\"line_dash\":[4,4],\"line_width\":{\"value\":2},\"mode\":\"after\",\"x\":{\"field\":\"x\"},\"y\":{\"field\":\"y\"}},\"id\":\"4755\",\"type\":\"Step\"},{\"attributes\":{},\"id\":\"4682\",\"type\":\"LinearScale\"},{\"attributes\":{\"callback\":null,\"data\":{\"x\":[1546300800000.0,1546301220000.0,1546301400000.0,1546301520000.0,1546301700000.0],\"y\":[10,9,25,34,24]},\"selected\":{\"id\":\"5090\",\"type\":\"Selection\"},\"selection_policy\":{\"id\":\"5089\",\"type\":\"UnionRenderers\"}},\"id\":\"4753\",\"type\":\"ColumnDataSource\"}],\"root_ids\":[\"4763\"]},\"title\":\"Bokeh Application\",\"version\":\"1.3.1\"}};\n",
       "  var render_items = [{\"docid\":\"db59b3b4-a00a-4f93-9a68-4e31e0ea1f16\",\"roots\":{\"4763\":\"50a17b9b-ba48-4cf2-b52a-5dec36549701\"}}];\n",
       "  root.Bokeh.embed.embed_items_notebook(docs_json, render_items);\n",
       "\n",
       "  }\n",
       "  if (root.Bokeh !== undefined) {\n",
       "    embed_document(root);\n",
       "  } else {\n",
       "    var attempts = 0;\n",
       "    var timer = setInterval(function(root) {\n",
       "      if (root.Bokeh !== undefined) {\n",
       "        embed_document(root);\n",
       "        clearInterval(timer);\n",
       "      }\n",
       "      attempts++;\n",
       "      if (attempts > 100) {\n",
       "        console.log(\"Bokeh: ERROR: Unable to run BokehJS code because BokehJS library is missing\");\n",
       "        clearInterval(timer);\n",
       "      }\n",
       "    }, 10, root)\n",
       "  }\n",
       "})(window);"
      ],
      "application/vnd.bokehjs_exec.v0+json": ""
     },
     "metadata": {
      "application/vnd.bokehjs_exec.v0+json": {
       "id": "4763"
      }
     },
     "output_type": "display_data"
    }
   ],
   "source": [
    "# Let's visualize it\n",
    "from bokeh.layouts import row\n",
    "from bokeh.plotting import show\n",
    "\n",
    "figs =  ts.iplot(**kwargs_plot), ts2.iplot(**kwargs_plot), sum_ts.iplot(**kwargs_plot)\n",
    "show(row(*figs))"
   ]
  },
  {
   "cell_type": "markdown",
   "metadata": {
    "toc-hr-collapsed": true
   },
   "source": [
    "## Switching worlds\n",
    "\n",
    "From unevenly-spaced to evenly-spaced"
   ]
  },
  {
   "cell_type": "code",
   "execution_count": 35,
   "metadata": {},
   "outputs": [
    {
     "data": {
      "text/html": [
       "\n",
       "\n",
       "\n",
       "\n",
       "\n",
       "\n",
       "  <div class=\"bk-root\" id=\"6c489570-e46f-4a61-99b0-e54e783ee6b9\" data-root-id=\"5490\"></div>\n"
      ]
     },
     "metadata": {},
     "output_type": "display_data"
    },
    {
     "data": {
      "application/javascript": [
       "(function(root) {\n",
       "  function embed_document(root) {\n",
       "    \n",
       "  var docs_json = {\"75d9092b-3216-4a3c-a413-233f1cad1900\":{\"roots\":{\"references\":[{\"attributes\":{\"below\":[{\"id\":\"5501\",\"type\":\"DatetimeAxis\"}],\"center\":[{\"id\":\"5505\",\"type\":\"Grid\"},{\"id\":\"5510\",\"type\":\"Grid\"}],\"left\":[{\"id\":\"5506\",\"type\":\"LinearAxis\"}],\"plot_height\":220,\"plot_width\":400,\"renderers\":[{\"id\":\"5527\",\"type\":\"GlyphRenderer\"},{\"id\":\"5532\",\"type\":\"GlyphRenderer\"}],\"title\":{\"id\":\"5491\",\"type\":\"Title\"},\"toolbar\":{\"id\":\"5517\",\"type\":\"Toolbar\"},\"x_range\":{\"id\":\"5493\",\"type\":\"Range1d\"},\"x_scale\":{\"id\":\"5497\",\"type\":\"LinearScale\"},\"y_range\":{\"id\":\"5495\",\"type\":\"Range1d\"},\"y_scale\":{\"id\":\"5499\",\"type\":\"LinearScale\"}},\"id\":\"5490\",\"subtype\":\"Figure\",\"type\":\"Plot\"},{\"attributes\":{},\"id\":\"5867\",\"type\":\"BasicTickFormatter\"},{\"attributes\":{\"dimension\":1,\"ticker\":{\"id\":\"5507\",\"type\":\"BasicTicker\"}},\"id\":\"5510\",\"type\":\"Grid\"},{\"attributes\":{\"mantissas\":[1,2,5],\"max_interval\":500.0,\"num_minor_ticks\":0},\"id\":\"5869\",\"type\":\"AdaptiveTicker\"},{\"attributes\":{\"line_alpha\":{\"value\":0.1},\"line_color\":{\"value\":\"#1f77b4\"},\"line_dash\":[4,4],\"line_width\":{\"value\":2},\"mode\":\"after\",\"x\":{\"field\":\"x\"},\"y\":{\"field\":\"y\"}},\"id\":\"5526\",\"type\":\"Step\"},{\"attributes\":{\"line_color\":{\"value\":\"#1f77b4\"},\"line_dash\":[4,4],\"line_width\":{\"value\":2},\"mode\":\"after\",\"x\":{\"field\":\"x\"},\"y\":{\"field\":\"y\"}},\"id\":\"5525\",\"type\":\"Step\"},{\"attributes\":{\"base\":60,\"mantissas\":[1,2,5,10,15,20,30],\"max_interval\":1800000.0,\"min_interval\":1000.0,\"num_minor_ticks\":0},\"id\":\"5870\",\"type\":\"AdaptiveTicker\"},{\"attributes\":{\"active_drag\":\"auto\",\"active_inspect\":\"auto\",\"active_multi\":null,\"active_scroll\":\"auto\",\"active_tap\":\"auto\",\"tools\":[{\"id\":\"5511\",\"type\":\"PanTool\"},{\"id\":\"5512\",\"type\":\"WheelZoomTool\"},{\"id\":\"5513\",\"type\":\"BoxZoomTool\"},{\"id\":\"5514\",\"type\":\"SaveTool\"},{\"id\":\"5515\",\"type\":\"ResetTool\"},{\"id\":\"5516\",\"type\":\"HelpTool\"}]},\"id\":\"5517\",\"type\":\"Toolbar\"},{\"attributes\":{\"base\":24,\"mantissas\":[1,2,4,6,8,12],\"max_interval\":43200000.0,\"min_interval\":3600000.0,\"num_minor_ticks\":0},\"id\":\"5871\",\"type\":\"AdaptiveTicker\"},{\"attributes\":{\"callback\":null,\"end\":37,\"start\":-5},\"id\":\"5495\",\"type\":\"Range1d\"},{\"attributes\":{},\"id\":\"5511\",\"type\":\"PanTool\"},{\"attributes\":{\"days\":[1,2,3,4,5,6,7,8,9,10,11,12,13,14,15,16,17,18,19,20,21,22,23,24,25,26,27,28,29,30,31]},\"id\":\"5872\",\"type\":\"DaysTicker\"},{\"attributes\":{},\"id\":\"5512\",\"type\":\"WheelZoomTool\"},{\"attributes\":{\"days\":[1,4,7,10,13,16,19,22,25,28]},\"id\":\"5873\",\"type\":\"DaysTicker\"},{\"attributes\":{\"overlay\":{\"id\":\"5885\",\"type\":\"BoxAnnotation\"}},\"id\":\"5513\",\"type\":\"BoxZoomTool\"},{\"attributes\":{\"days\":[1,8,15,22]},\"id\":\"5874\",\"type\":\"DaysTicker\"},{\"attributes\":{},\"id\":\"5514\",\"type\":\"SaveTool\"},{\"attributes\":{\"days\":[1,15]},\"id\":\"5875\",\"type\":\"DaysTicker\"},{\"attributes\":{},\"id\":\"5515\",\"type\":\"ResetTool\"},{\"attributes\":{\"months\":[0,1,2,3,4,5,6,7,8,9,10,11]},\"id\":\"5876\",\"type\":\"MonthsTicker\"},{\"attributes\":{},\"id\":\"5516\",\"type\":\"HelpTool\"},{\"attributes\":{\"months\":[0,2,4,6,8,10]},\"id\":\"5877\",\"type\":\"MonthsTicker\"},{\"attributes\":{\"bottom_units\":\"screen\",\"fill_alpha\":{\"value\":0.5},\"fill_color\":{\"value\":\"lightgrey\"},\"left_units\":\"screen\",\"level\":\"overlay\",\"line_alpha\":{\"value\":1.0},\"line_color\":{\"value\":\"black\"},\"line_dash\":[4,4],\"line_width\":{\"value\":2},\"render_mode\":\"css\",\"right_units\":\"screen\",\"top_units\":\"screen\"},\"id\":\"5885\",\"type\":\"BoxAnnotation\"},{\"attributes\":{\"text\":\"value\"},\"id\":\"5491\",\"type\":\"Title\"},{\"attributes\":{},\"id\":\"5865\",\"type\":\"DatetimeTickFormatter\"},{\"attributes\":{\"months\":[0,4,8]},\"id\":\"5878\",\"type\":\"MonthsTicker\"},{\"attributes\":{},\"id\":\"5497\",\"type\":\"LinearScale\"},{\"attributes\":{\"data_source\":{\"id\":\"5524\",\"type\":\"ColumnDataSource\"},\"glyph\":{\"id\":\"5525\",\"type\":\"Step\"},\"hover_glyph\":null,\"muted_glyph\":null,\"nonselection_glyph\":{\"id\":\"5526\",\"type\":\"Step\"},\"selection_glyph\":null,\"view\":{\"id\":\"5528\",\"type\":\"CDSView\"}},\"id\":\"5527\",\"type\":\"GlyphRenderer\"},{\"attributes\":{},\"id\":\"5499\",\"type\":\"LinearScale\"},{\"attributes\":{\"callback\":null,\"data\":{\"x\":[1546300800000.0,1546300860000.0,1546300920000.0,1546300980000.0,1546301040000.0,1546301100000.0,1546301160000.0,1546301220000.0,1546301280000.0,1546301340000.0,1546301400000.0,1546301460000.0,1546301520000.0,1546301580000.0,1546301640000.0,1546301700000.0],\"y\":[10,10,10,10,10,10,10,10,10,10,20,20,20,20,20,10]},\"selected\":{\"id\":\"5882\",\"type\":\"Selection\"},\"selection_policy\":{\"id\":\"5881\",\"type\":\"UnionRenderers\"}},\"id\":\"5524\",\"type\":\"ColumnDataSource\"},{\"attributes\":{\"source\":{\"id\":\"5524\",\"type\":\"ColumnDataSource\"}},\"id\":\"5528\",\"type\":\"CDSView\"},{\"attributes\":{\"months\":[0,6]},\"id\":\"5879\",\"type\":\"MonthsTicker\"},{\"attributes\":{},\"id\":\"5880\",\"type\":\"YearsTicker\"},{\"attributes\":{\"callback\":null,\"data\":{\"x\":[1546300800000.0,1546300860000.0,1546300920000.0,1546300980000.0,1546301040000.0,1546301100000.0,1546301160000.0,1546301220000.0,1546301280000.0,1546301340000.0,1546301400000.0,1546301460000.0,1546301520000.0,1546301580000.0,1546301640000.0,1546301700000.0],\"y\":[10,10,10,10,10,10,10,10,10,10,20,20,20,20,20,10]},\"selected\":{\"id\":\"5884\",\"type\":\"Selection\"},\"selection_policy\":{\"id\":\"5883\",\"type\":\"UnionRenderers\"}},\"id\":\"5529\",\"type\":\"ColumnDataSource\"},{\"attributes\":{},\"id\":\"5507\",\"type\":\"BasicTicker\"},{\"attributes\":{},\"id\":\"5881\",\"type\":\"UnionRenderers\"},{\"attributes\":{\"fill_color\":{\"value\":\"red\"},\"line_color\":{\"value\":\"#1f77b4\"},\"size\":{\"units\":\"screen\",\"value\":6},\"x\":{\"field\":\"x\"},\"y\":{\"field\":\"y\"}},\"id\":\"5530\",\"type\":\"Circle\"},{\"attributes\":{\"fill_alpha\":{\"value\":0.1},\"fill_color\":{\"value\":\"#1f77b4\"},\"line_alpha\":{\"value\":0.1},\"line_color\":{\"value\":\"#1f77b4\"},\"size\":{\"units\":\"screen\",\"value\":6},\"x\":{\"field\":\"x\"},\"y\":{\"field\":\"y\"}},\"id\":\"5531\",\"type\":\"Circle\"},{\"attributes\":{},\"id\":\"5882\",\"type\":\"Selection\"},{\"attributes\":{\"axis_label\":\"timestamp\",\"formatter\":{\"id\":\"5865\",\"type\":\"DatetimeTickFormatter\"},\"ticker\":{\"id\":\"5502\",\"type\":\"DatetimeTicker\"}},\"id\":\"5501\",\"type\":\"DatetimeAxis\"},{\"attributes\":{},\"id\":\"5883\",\"type\":\"UnionRenderers\"},{\"attributes\":{\"data_source\":{\"id\":\"5529\",\"type\":\"ColumnDataSource\"},\"glyph\":{\"id\":\"5530\",\"type\":\"Circle\"},\"hover_glyph\":null,\"muted_glyph\":null,\"nonselection_glyph\":{\"id\":\"5531\",\"type\":\"Circle\"},\"selection_glyph\":null,\"view\":{\"id\":\"5533\",\"type\":\"CDSView\"}},\"id\":\"5532\",\"type\":\"GlyphRenderer\"},{\"attributes\":{\"num_minor_ticks\":5,\"tickers\":[{\"id\":\"5869\",\"type\":\"AdaptiveTicker\"},{\"id\":\"5870\",\"type\":\"AdaptiveTicker\"},{\"id\":\"5871\",\"type\":\"AdaptiveTicker\"},{\"id\":\"5872\",\"type\":\"DaysTicker\"},{\"id\":\"5873\",\"type\":\"DaysTicker\"},{\"id\":\"5874\",\"type\":\"DaysTicker\"},{\"id\":\"5875\",\"type\":\"DaysTicker\"},{\"id\":\"5876\",\"type\":\"MonthsTicker\"},{\"id\":\"5877\",\"type\":\"MonthsTicker\"},{\"id\":\"5878\",\"type\":\"MonthsTicker\"},{\"id\":\"5879\",\"type\":\"MonthsTicker\"},{\"id\":\"5880\",\"type\":\"YearsTicker\"}]},\"id\":\"5502\",\"type\":\"DatetimeTicker\"},{\"attributes\":{\"ticker\":{\"id\":\"5502\",\"type\":\"DatetimeTicker\"}},\"id\":\"5505\",\"type\":\"Grid\"},{\"attributes\":{\"formatter\":{\"id\":\"5867\",\"type\":\"BasicTickFormatter\"},\"ticker\":{\"id\":\"5507\",\"type\":\"BasicTicker\"}},\"id\":\"5506\",\"type\":\"LinearAxis\"},{\"attributes\":{},\"id\":\"5884\",\"type\":\"Selection\"},{\"attributes\":{\"source\":{\"id\":\"5529\",\"type\":\"ColumnDataSource\"}},\"id\":\"5533\",\"type\":\"CDSView\"},{\"attributes\":{\"callback\":null,\"end\":1546302000000.0,\"start\":1546300620000.0},\"id\":\"5493\",\"type\":\"Range1d\"}],\"root_ids\":[\"5490\"]},\"title\":\"Bokeh Application\",\"version\":\"1.3.1\"}};\n",
       "  var render_items = [{\"docid\":\"75d9092b-3216-4a3c-a413-233f1cad1900\",\"roots\":{\"5490\":\"6c489570-e46f-4a61-99b0-e54e783ee6b9\"}}];\n",
       "  root.Bokeh.embed.embed_items_notebook(docs_json, render_items);\n",
       "\n",
       "  }\n",
       "  if (root.Bokeh !== undefined) {\n",
       "    embed_document(root);\n",
       "  } else {\n",
       "    var attempts = 0;\n",
       "    var timer = setInterval(function(root) {\n",
       "      if (root.Bokeh !== undefined) {\n",
       "        embed_document(root);\n",
       "        clearInterval(timer);\n",
       "      }\n",
       "      attempts++;\n",
       "      if (attempts > 100) {\n",
       "        console.log(\"Bokeh: ERROR: Unable to run BokehJS code because BokehJS library is missing\");\n",
       "        clearInterval(timer);\n",
       "      }\n",
       "    }, 10, root)\n",
       "  }\n",
       "})(window);"
      ],
      "application/vnd.bokehjs_exec.v0+json": ""
     },
     "metadata": {
      "application/vnd.bokehjs_exec.v0+json": {
       "id": "5490"
      }
     },
     "output_type": "display_data"
    },
    {
     "data": {
      "text/html": [
       "<div style=\"display: table;\"><div style=\"display: table-row;\"><div style=\"display: table-cell;\"><b title=\"bokeh.plotting.figure.Figure\">Figure</b>(</div><div style=\"display: table-cell;\">id&nbsp;=&nbsp;'5490', <span id=\"6019\" style=\"cursor: pointer;\">&hellip;)</span></div></div><div class=\"6018\" style=\"display: none;\"><div style=\"display: table-cell;\"></div><div style=\"display: table-cell;\">above&nbsp;=&nbsp;[],</div></div><div class=\"6018\" style=\"display: none;\"><div style=\"display: table-cell;\"></div><div style=\"display: table-cell;\">align&nbsp;=&nbsp;'start',</div></div><div class=\"6018\" style=\"display: none;\"><div style=\"display: table-cell;\"></div><div style=\"display: table-cell;\">aspect_ratio&nbsp;=&nbsp;None,</div></div><div class=\"6018\" style=\"display: none;\"><div style=\"display: table-cell;\"></div><div style=\"display: table-cell;\">aspect_scale&nbsp;=&nbsp;1,</div></div><div class=\"6018\" style=\"display: none;\"><div style=\"display: table-cell;\"></div><div style=\"display: table-cell;\">background&nbsp;=&nbsp;None,</div></div><div class=\"6018\" style=\"display: none;\"><div style=\"display: table-cell;\"></div><div style=\"display: table-cell;\">background_fill_alpha&nbsp;=&nbsp;{'value': 1.0},</div></div><div class=\"6018\" style=\"display: none;\"><div style=\"display: table-cell;\"></div><div style=\"display: table-cell;\">background_fill_color&nbsp;=&nbsp;{'value': '#ffffff'},</div></div><div class=\"6018\" style=\"display: none;\"><div style=\"display: table-cell;\"></div><div style=\"display: table-cell;\">below&nbsp;=&nbsp;[DatetimeAxis(id='5501', ...)],</div></div><div class=\"6018\" style=\"display: none;\"><div style=\"display: table-cell;\"></div><div style=\"display: table-cell;\">border_fill_alpha&nbsp;=&nbsp;{'value': 1.0},</div></div><div class=\"6018\" style=\"display: none;\"><div style=\"display: table-cell;\"></div><div style=\"display: table-cell;\">border_fill_color&nbsp;=&nbsp;{'value': '#ffffff'},</div></div><div class=\"6018\" style=\"display: none;\"><div style=\"display: table-cell;\"></div><div style=\"display: table-cell;\">center&nbsp;=&nbsp;[Grid(id='5505', ...), Grid(id='5510', ...)],</div></div><div class=\"6018\" style=\"display: none;\"><div style=\"display: table-cell;\"></div><div style=\"display: table-cell;\">css_classes&nbsp;=&nbsp;[],</div></div><div class=\"6018\" style=\"display: none;\"><div style=\"display: table-cell;\"></div><div style=\"display: table-cell;\">disabled&nbsp;=&nbsp;False,</div></div><div class=\"6018\" style=\"display: none;\"><div style=\"display: table-cell;\"></div><div style=\"display: table-cell;\">extra_x_ranges&nbsp;=&nbsp;{},</div></div><div class=\"6018\" style=\"display: none;\"><div style=\"display: table-cell;\"></div><div style=\"display: table-cell;\">extra_y_ranges&nbsp;=&nbsp;{},</div></div><div class=\"6018\" style=\"display: none;\"><div style=\"display: table-cell;\"></div><div style=\"display: table-cell;\">frame_height&nbsp;=&nbsp;None,</div></div><div class=\"6018\" style=\"display: none;\"><div style=\"display: table-cell;\"></div><div style=\"display: table-cell;\">frame_width&nbsp;=&nbsp;None,</div></div><div class=\"6018\" style=\"display: none;\"><div style=\"display: table-cell;\"></div><div style=\"display: table-cell;\">height&nbsp;=&nbsp;None,</div></div><div class=\"6018\" style=\"display: none;\"><div style=\"display: table-cell;\"></div><div style=\"display: table-cell;\">height_policy&nbsp;=&nbsp;'auto',</div></div><div class=\"6018\" style=\"display: none;\"><div style=\"display: table-cell;\"></div><div style=\"display: table-cell;\">hidpi&nbsp;=&nbsp;True,</div></div><div class=\"6018\" style=\"display: none;\"><div style=\"display: table-cell;\"></div><div style=\"display: table-cell;\">js_event_callbacks&nbsp;=&nbsp;{},</div></div><div class=\"6018\" style=\"display: none;\"><div style=\"display: table-cell;\"></div><div style=\"display: table-cell;\">js_property_callbacks&nbsp;=&nbsp;{},</div></div><div class=\"6018\" style=\"display: none;\"><div style=\"display: table-cell;\"></div><div style=\"display: table-cell;\">left&nbsp;=&nbsp;[LinearAxis(id='5506', ...)],</div></div><div class=\"6018\" style=\"display: none;\"><div style=\"display: table-cell;\"></div><div style=\"display: table-cell;\">lod_factor&nbsp;=&nbsp;10,</div></div><div class=\"6018\" style=\"display: none;\"><div style=\"display: table-cell;\"></div><div style=\"display: table-cell;\">lod_interval&nbsp;=&nbsp;300,</div></div><div class=\"6018\" style=\"display: none;\"><div style=\"display: table-cell;\"></div><div style=\"display: table-cell;\">lod_threshold&nbsp;=&nbsp;2000,</div></div><div class=\"6018\" style=\"display: none;\"><div style=\"display: table-cell;\"></div><div style=\"display: table-cell;\">lod_timeout&nbsp;=&nbsp;500,</div></div><div class=\"6018\" style=\"display: none;\"><div style=\"display: table-cell;\"></div><div style=\"display: table-cell;\">margin&nbsp;=&nbsp;(0, 0, 0, 0),</div></div><div class=\"6018\" style=\"display: none;\"><div style=\"display: table-cell;\"></div><div style=\"display: table-cell;\">match_aspect&nbsp;=&nbsp;False,</div></div><div class=\"6018\" style=\"display: none;\"><div style=\"display: table-cell;\"></div><div style=\"display: table-cell;\">max_height&nbsp;=&nbsp;None,</div></div><div class=\"6018\" style=\"display: none;\"><div style=\"display: table-cell;\"></div><div style=\"display: table-cell;\">max_width&nbsp;=&nbsp;None,</div></div><div class=\"6018\" style=\"display: none;\"><div style=\"display: table-cell;\"></div><div style=\"display: table-cell;\">min_border&nbsp;=&nbsp;5,</div></div><div class=\"6018\" style=\"display: none;\"><div style=\"display: table-cell;\"></div><div style=\"display: table-cell;\">min_border_bottom&nbsp;=&nbsp;None,</div></div><div class=\"6018\" style=\"display: none;\"><div style=\"display: table-cell;\"></div><div style=\"display: table-cell;\">min_border_left&nbsp;=&nbsp;None,</div></div><div class=\"6018\" style=\"display: none;\"><div style=\"display: table-cell;\"></div><div style=\"display: table-cell;\">min_border_right&nbsp;=&nbsp;None,</div></div><div class=\"6018\" style=\"display: none;\"><div style=\"display: table-cell;\"></div><div style=\"display: table-cell;\">min_border_top&nbsp;=&nbsp;None,</div></div><div class=\"6018\" style=\"display: none;\"><div style=\"display: table-cell;\"></div><div style=\"display: table-cell;\">min_height&nbsp;=&nbsp;None,</div></div><div class=\"6018\" style=\"display: none;\"><div style=\"display: table-cell;\"></div><div style=\"display: table-cell;\">min_width&nbsp;=&nbsp;None,</div></div><div class=\"6018\" style=\"display: none;\"><div style=\"display: table-cell;\"></div><div style=\"display: table-cell;\">name&nbsp;=&nbsp;None,</div></div><div class=\"6018\" style=\"display: none;\"><div style=\"display: table-cell;\"></div><div style=\"display: table-cell;\">outline_line_alpha&nbsp;=&nbsp;{'value': 1.0},</div></div><div class=\"6018\" style=\"display: none;\"><div style=\"display: table-cell;\"></div><div style=\"display: table-cell;\">outline_line_cap&nbsp;=&nbsp;'butt',</div></div><div class=\"6018\" style=\"display: none;\"><div style=\"display: table-cell;\"></div><div style=\"display: table-cell;\">outline_line_color&nbsp;=&nbsp;{'value': '#e5e5e5'},</div></div><div class=\"6018\" style=\"display: none;\"><div style=\"display: table-cell;\"></div><div style=\"display: table-cell;\">outline_line_dash&nbsp;=&nbsp;[],</div></div><div class=\"6018\" style=\"display: none;\"><div style=\"display: table-cell;\"></div><div style=\"display: table-cell;\">outline_line_dash_offset&nbsp;=&nbsp;0,</div></div><div class=\"6018\" style=\"display: none;\"><div style=\"display: table-cell;\"></div><div style=\"display: table-cell;\">outline_line_join&nbsp;=&nbsp;'bevel',</div></div><div class=\"6018\" style=\"display: none;\"><div style=\"display: table-cell;\"></div><div style=\"display: table-cell;\">outline_line_width&nbsp;=&nbsp;{'value': 1},</div></div><div class=\"6018\" style=\"display: none;\"><div style=\"display: table-cell;\"></div><div style=\"display: table-cell;\">output_backend&nbsp;=&nbsp;'canvas',</div></div><div class=\"6018\" style=\"display: none;\"><div style=\"display: table-cell;\"></div><div style=\"display: table-cell;\">plot_height&nbsp;=&nbsp;220,</div></div><div class=\"6018\" style=\"display: none;\"><div style=\"display: table-cell;\"></div><div style=\"display: table-cell;\">plot_width&nbsp;=&nbsp;400,</div></div><div class=\"6018\" style=\"display: none;\"><div style=\"display: table-cell;\"></div><div style=\"display: table-cell;\">renderers&nbsp;=&nbsp;[GlyphRenderer(id='5527', ...), GlyphRenderer(id='5532', ...)],</div></div><div class=\"6018\" style=\"display: none;\"><div style=\"display: table-cell;\"></div><div style=\"display: table-cell;\">reset_policy&nbsp;=&nbsp;'standard',</div></div><div class=\"6018\" style=\"display: none;\"><div style=\"display: table-cell;\"></div><div style=\"display: table-cell;\">right&nbsp;=&nbsp;[],</div></div><div class=\"6018\" style=\"display: none;\"><div style=\"display: table-cell;\"></div><div style=\"display: table-cell;\">sizing_mode&nbsp;=&nbsp;None,</div></div><div class=\"6018\" style=\"display: none;\"><div style=\"display: table-cell;\"></div><div style=\"display: table-cell;\">subscribed_events&nbsp;=&nbsp;[],</div></div><div class=\"6018\" style=\"display: none;\"><div style=\"display: table-cell;\"></div><div style=\"display: table-cell;\">tags&nbsp;=&nbsp;[],</div></div><div class=\"6018\" style=\"display: none;\"><div style=\"display: table-cell;\"></div><div style=\"display: table-cell;\">title&nbsp;=&nbsp;Title(id='5491', ...),</div></div><div class=\"6018\" style=\"display: none;\"><div style=\"display: table-cell;\"></div><div style=\"display: table-cell;\">title_location&nbsp;=&nbsp;'above',</div></div><div class=\"6018\" style=\"display: none;\"><div style=\"display: table-cell;\"></div><div style=\"display: table-cell;\">toolbar&nbsp;=&nbsp;Toolbar(id='5517', ...),</div></div><div class=\"6018\" style=\"display: none;\"><div style=\"display: table-cell;\"></div><div style=\"display: table-cell;\">toolbar_location&nbsp;=&nbsp;'right',</div></div><div class=\"6018\" style=\"display: none;\"><div style=\"display: table-cell;\"></div><div style=\"display: table-cell;\">toolbar_sticky&nbsp;=&nbsp;True,</div></div><div class=\"6018\" style=\"display: none;\"><div style=\"display: table-cell;\"></div><div style=\"display: table-cell;\">visible&nbsp;=&nbsp;True,</div></div><div class=\"6018\" style=\"display: none;\"><div style=\"display: table-cell;\"></div><div style=\"display: table-cell;\">width&nbsp;=&nbsp;None,</div></div><div class=\"6018\" style=\"display: none;\"><div style=\"display: table-cell;\"></div><div style=\"display: table-cell;\">width_policy&nbsp;=&nbsp;'auto',</div></div><div class=\"6018\" style=\"display: none;\"><div style=\"display: table-cell;\"></div><div style=\"display: table-cell;\">x_range&nbsp;=&nbsp;Range1d(id='5493', ...),</div></div><div class=\"6018\" style=\"display: none;\"><div style=\"display: table-cell;\"></div><div style=\"display: table-cell;\">x_scale&nbsp;=&nbsp;LinearScale(id='5497', ...),</div></div><div class=\"6018\" style=\"display: none;\"><div style=\"display: table-cell;\"></div><div style=\"display: table-cell;\">y_range&nbsp;=&nbsp;Range1d(id='5495', ...),</div></div><div class=\"6018\" style=\"display: none;\"><div style=\"display: table-cell;\"></div><div style=\"display: table-cell;\">y_scale&nbsp;=&nbsp;LinearScale(id='5499', ...))</div></div></div>\n",
       "<script>\n",
       "(function() {\n",
       "  var expanded = false;\n",
       "  var ellipsis = document.getElementById(\"6019\");\n",
       "  ellipsis.addEventListener(\"click\", function() {\n",
       "    var rows = document.getElementsByClassName(\"6018\");\n",
       "    for (var i = 0; i < rows.length; i++) {\n",
       "      var el = rows[i];\n",
       "      el.style.display = expanded ? \"none\" : \"table-row\";\n",
       "    }\n",
       "    ellipsis.innerHTML = expanded ? \"&hellip;)\" : \"&lsaquo;&lsaquo;&lsaquo;\";\n",
       "    expanded = !expanded;\n",
       "  });\n",
       "})();\n",
       "</script>\n"
      ],
      "text/plain": [
       "Figure(id='5490', ...)"
      ]
     },
     "execution_count": 35,
     "metadata": {},
     "output_type": "execute_result"
    }
   ],
   "source": [
    "# Go back to Evenly Spaced timeseries\n",
    "evenly_ts = ts.sample(freq='1Min')\n",
    "evenly_ts.iplot(**kwargs_plot, show=True)"
   ]
  },
  {
   "cell_type": "code",
   "execution_count": 36,
   "metadata": {},
   "outputs": [
    {
     "data": {
      "text/html": [
       "\n",
       "\n",
       "\n",
       "\n",
       "\n",
       "\n",
       "  <div class=\"bk-root\" id=\"14e6b9a6-578b-42e2-a91f-62603931ce15\" data-root-id=\"6021\"></div>\n"
      ]
     },
     "metadata": {},
     "output_type": "display_data"
    },
    {
     "data": {
      "application/javascript": [
       "(function(root) {\n",
       "  function embed_document(root) {\n",
       "    \n",
       "  var docs_json = {\"2da2f1b0-39d2-49ca-a6cb-62a2ee2bf7f9\":{\"roots\":{\"references\":[{\"attributes\":{\"below\":[{\"id\":\"6032\",\"type\":\"DatetimeAxis\"}],\"center\":[{\"id\":\"6036\",\"type\":\"Grid\"},{\"id\":\"6041\",\"type\":\"Grid\"}],\"left\":[{\"id\":\"6037\",\"type\":\"LinearAxis\"}],\"plot_height\":220,\"plot_width\":400,\"renderers\":[{\"id\":\"6058\",\"type\":\"GlyphRenderer\"},{\"id\":\"6063\",\"type\":\"GlyphRenderer\"}],\"title\":{\"id\":\"6022\",\"type\":\"Title\"},\"toolbar\":{\"id\":\"6048\",\"type\":\"Toolbar\"},\"x_range\":{\"id\":\"6024\",\"type\":\"Range1d\"},\"x_scale\":{\"id\":\"6028\",\"type\":\"LinearScale\"},\"y_range\":{\"id\":\"6026\",\"type\":\"Range1d\"},\"y_scale\":{\"id\":\"6030\",\"type\":\"LinearScale\"}},\"id\":\"6021\",\"subtype\":\"Figure\",\"type\":\"Plot\"},{\"attributes\":{\"callback\":null,\"end\":1546302000000.0,\"start\":1546300620000.0},\"id\":\"6024\",\"type\":\"Range1d\"},{\"attributes\":{\"days\":[1,2,3,4,5,6,7,8,9,10,11,12,13,14,15,16,17,18,19,20,21,22,23,24,25,26,27,28,29,30,31]},\"id\":\"6425\",\"type\":\"DaysTicker\"},{\"attributes\":{\"bottom_units\":\"screen\",\"fill_alpha\":{\"value\":0.5},\"fill_color\":{\"value\":\"lightgrey\"},\"left_units\":\"screen\",\"level\":\"overlay\",\"line_alpha\":{\"value\":1.0},\"line_color\":{\"value\":\"black\"},\"line_dash\":[4,4],\"line_width\":{\"value\":2},\"render_mode\":\"css\",\"right_units\":\"screen\",\"top_units\":\"screen\"},\"id\":\"6438\",\"type\":\"BoxAnnotation\"},{\"attributes\":{\"text\":\"value\"},\"id\":\"6022\",\"type\":\"Title\"},{\"attributes\":{\"days\":[1,4,7,10,13,16,19,22,25,28]},\"id\":\"6426\",\"type\":\"DaysTicker\"},{\"attributes\":{\"active_drag\":\"auto\",\"active_inspect\":\"auto\",\"active_multi\":null,\"active_scroll\":\"auto\",\"active_tap\":\"auto\",\"tools\":[{\"id\":\"6042\",\"type\":\"PanTool\"},{\"id\":\"6043\",\"type\":\"WheelZoomTool\"},{\"id\":\"6044\",\"type\":\"BoxZoomTool\"},{\"id\":\"6045\",\"type\":\"SaveTool\"},{\"id\":\"6046\",\"type\":\"ResetTool\"},{\"id\":\"6047\",\"type\":\"HelpTool\"}]},\"id\":\"6048\",\"type\":\"Toolbar\"},{\"attributes\":{},\"id\":\"6042\",\"type\":\"PanTool\"},{\"attributes\":{\"days\":[1,8,15,22]},\"id\":\"6427\",\"type\":\"DaysTicker\"},{\"attributes\":{},\"id\":\"6420\",\"type\":\"BasicTickFormatter\"},{\"attributes\":{\"overlay\":{\"id\":\"6438\",\"type\":\"BoxAnnotation\"}},\"id\":\"6044\",\"type\":\"BoxZoomTool\"},{\"attributes\":{},\"id\":\"6045\",\"type\":\"SaveTool\"},{\"attributes\":{\"base\":60,\"mantissas\":[1,2,5,10,15,20,30],\"max_interval\":1800000.0,\"min_interval\":1000.0,\"num_minor_ticks\":0},\"id\":\"6423\",\"type\":\"AdaptiveTicker\"},{\"attributes\":{\"days\":[1,15]},\"id\":\"6428\",\"type\":\"DaysTicker\"},{\"attributes\":{},\"id\":\"6043\",\"type\":\"WheelZoomTool\"},{\"attributes\":{\"base\":24,\"mantissas\":[1,2,4,6,8,12],\"max_interval\":43200000.0,\"min_interval\":3600000.0,\"num_minor_ticks\":0},\"id\":\"6424\",\"type\":\"AdaptiveTicker\"},{\"attributes\":{\"months\":[0,1,2,3,4,5,6,7,8,9,10,11]},\"id\":\"6429\",\"type\":\"MonthsTicker\"},{\"attributes\":{\"callback\":null,\"data\":{\"x\":[1546300800000.0,1546301400000.0,1546301700000.0],\"y\":[10,20,10]},\"selected\":{\"id\":\"6435\",\"type\":\"Selection\"},\"selection_policy\":{\"id\":\"6434\",\"type\":\"UnionRenderers\"}},\"id\":\"6055\",\"type\":\"ColumnDataSource\"},{\"attributes\":{\"months\":[0,2,4,6,8,10]},\"id\":\"6430\",\"type\":\"MonthsTicker\"},{\"attributes\":{\"months\":[0,4,8]},\"id\":\"6431\",\"type\":\"MonthsTicker\"},{\"attributes\":{},\"id\":\"6047\",\"type\":\"HelpTool\"},{\"attributes\":{\"dimension\":1,\"ticker\":{\"id\":\"6038\",\"type\":\"BasicTicker\"}},\"id\":\"6041\",\"type\":\"Grid\"},{\"attributes\":{},\"id\":\"6046\",\"type\":\"ResetTool\"},{\"attributes\":{\"months\":[0,6]},\"id\":\"6432\",\"type\":\"MonthsTicker\"},{\"attributes\":{\"line_color\":{\"value\":\"#1f77b4\"},\"line_dash\":[4,4],\"line_width\":{\"value\":2},\"mode\":\"after\",\"x\":{\"field\":\"x\"},\"y\":{\"field\":\"y\"}},\"id\":\"6056\",\"type\":\"Step\"},{\"attributes\":{\"line_alpha\":{\"value\":0.1},\"line_color\":{\"value\":\"#1f77b4\"},\"line_dash\":[4,4],\"line_width\":{\"value\":2},\"mode\":\"after\",\"x\":{\"field\":\"x\"},\"y\":{\"field\":\"y\"}},\"id\":\"6057\",\"type\":\"Step\"},{\"attributes\":{\"data_source\":{\"id\":\"6055\",\"type\":\"ColumnDataSource\"},\"glyph\":{\"id\":\"6056\",\"type\":\"Step\"},\"hover_glyph\":null,\"muted_glyph\":null,\"nonselection_glyph\":{\"id\":\"6057\",\"type\":\"Step\"},\"selection_glyph\":null,\"view\":{\"id\":\"6059\",\"type\":\"CDSView\"}},\"id\":\"6058\",\"type\":\"GlyphRenderer\"},{\"attributes\":{},\"id\":\"6433\",\"type\":\"YearsTicker\"},{\"attributes\":{},\"id\":\"6038\",\"type\":\"BasicTicker\"},{\"attributes\":{},\"id\":\"6434\",\"type\":\"UnionRenderers\"},{\"attributes\":{\"formatter\":{\"id\":\"6420\",\"type\":\"BasicTickFormatter\"},\"ticker\":{\"id\":\"6038\",\"type\":\"BasicTicker\"}},\"id\":\"6037\",\"type\":\"LinearAxis\"},{\"attributes\":{\"source\":{\"id\":\"6055\",\"type\":\"ColumnDataSource\"}},\"id\":\"6059\",\"type\":\"CDSView\"},{\"attributes\":{},\"id\":\"6435\",\"type\":\"Selection\"},{\"attributes\":{\"num_minor_ticks\":5,\"tickers\":[{\"id\":\"6422\",\"type\":\"AdaptiveTicker\"},{\"id\":\"6423\",\"type\":\"AdaptiveTicker\"},{\"id\":\"6424\",\"type\":\"AdaptiveTicker\"},{\"id\":\"6425\",\"type\":\"DaysTicker\"},{\"id\":\"6426\",\"type\":\"DaysTicker\"},{\"id\":\"6427\",\"type\":\"DaysTicker\"},{\"id\":\"6428\",\"type\":\"DaysTicker\"},{\"id\":\"6429\",\"type\":\"MonthsTicker\"},{\"id\":\"6430\",\"type\":\"MonthsTicker\"},{\"id\":\"6431\",\"type\":\"MonthsTicker\"},{\"id\":\"6432\",\"type\":\"MonthsTicker\"},{\"id\":\"6433\",\"type\":\"YearsTicker\"}]},\"id\":\"6033\",\"type\":\"DatetimeTicker\"},{\"attributes\":{\"source\":{\"id\":\"6060\",\"type\":\"ColumnDataSource\"}},\"id\":\"6064\",\"type\":\"CDSView\"},{\"attributes\":{},\"id\":\"6436\",\"type\":\"UnionRenderers\"},{\"attributes\":{\"ticker\":{\"id\":\"6033\",\"type\":\"DatetimeTicker\"}},\"id\":\"6036\",\"type\":\"Grid\"},{\"attributes\":{\"fill_color\":{\"value\":\"red\"},\"line_color\":{\"value\":\"#1f77b4\"},\"size\":{\"units\":\"screen\",\"value\":6},\"x\":{\"field\":\"x\"},\"y\":{\"field\":\"y\"}},\"id\":\"6061\",\"type\":\"Circle\"},{\"attributes\":{},\"id\":\"6437\",\"type\":\"Selection\"},{\"attributes\":{},\"id\":\"6418\",\"type\":\"DatetimeTickFormatter\"},{\"attributes\":{\"callback\":null,\"end\":37,\"start\":-5},\"id\":\"6026\",\"type\":\"Range1d\"},{\"attributes\":{\"axis_label\":\"timestamp\",\"formatter\":{\"id\":\"6418\",\"type\":\"DatetimeTickFormatter\"},\"ticker\":{\"id\":\"6033\",\"type\":\"DatetimeTicker\"}},\"id\":\"6032\",\"type\":\"DatetimeAxis\"},{\"attributes\":{\"fill_alpha\":{\"value\":0.1},\"fill_color\":{\"value\":\"#1f77b4\"},\"line_alpha\":{\"value\":0.1},\"line_color\":{\"value\":\"#1f77b4\"},\"size\":{\"units\":\"screen\",\"value\":6},\"x\":{\"field\":\"x\"},\"y\":{\"field\":\"y\"}},\"id\":\"6062\",\"type\":\"Circle\"},{\"attributes\":{},\"id\":\"6030\",\"type\":\"LinearScale\"},{\"attributes\":{\"callback\":null,\"data\":{\"x\":[1546300800000.0,1546301400000.0,1546301700000.0],\"y\":[10,20,10]},\"selected\":{\"id\":\"6437\",\"type\":\"Selection\"},\"selection_policy\":{\"id\":\"6436\",\"type\":\"UnionRenderers\"}},\"id\":\"6060\",\"type\":\"ColumnDataSource\"},{\"attributes\":{},\"id\":\"6028\",\"type\":\"LinearScale\"},{\"attributes\":{\"data_source\":{\"id\":\"6060\",\"type\":\"ColumnDataSource\"},\"glyph\":{\"id\":\"6061\",\"type\":\"Circle\"},\"hover_glyph\":null,\"muted_glyph\":null,\"nonselection_glyph\":{\"id\":\"6062\",\"type\":\"Circle\"},\"selection_glyph\":null,\"view\":{\"id\":\"6064\",\"type\":\"CDSView\"}},\"id\":\"6063\",\"type\":\"GlyphRenderer\"},{\"attributes\":{\"mantissas\":[1,2,5],\"max_interval\":500.0,\"num_minor_ticks\":0},\"id\":\"6422\",\"type\":\"AdaptiveTicker\"}],\"root_ids\":[\"6021\"]},\"title\":\"Bokeh Application\",\"version\":\"1.3.1\"}};\n",
       "  var render_items = [{\"docid\":\"2da2f1b0-39d2-49ca-a6cb-62a2ee2bf7f9\",\"roots\":{\"6021\":\"14e6b9a6-578b-42e2-a91f-62603931ce15\"}}];\n",
       "  root.Bokeh.embed.embed_items_notebook(docs_json, render_items);\n",
       "\n",
       "  }\n",
       "  if (root.Bokeh !== undefined) {\n",
       "    embed_document(root);\n",
       "  } else {\n",
       "    var attempts = 0;\n",
       "    var timer = setInterval(function(root) {\n",
       "      if (root.Bokeh !== undefined) {\n",
       "        embed_document(root);\n",
       "        clearInterval(timer);\n",
       "      }\n",
       "      attempts++;\n",
       "      if (attempts > 100) {\n",
       "        console.log(\"Bokeh: ERROR: Unable to run BokehJS code because BokehJS library is missing\");\n",
       "        clearInterval(timer);\n",
       "      }\n",
       "    }, 10, root)\n",
       "  }\n",
       "})(window);"
      ],
      "application/vnd.bokehjs_exec.v0+json": ""
     },
     "metadata": {
      "application/vnd.bokehjs_exec.v0+json": {
       "id": "6021"
      }
     },
     "output_type": "display_data"
    },
    {
     "data": {
      "text/html": [
       "<div style=\"display: table;\"><div style=\"display: table-row;\"><div style=\"display: table-cell;\"><b title=\"bokeh.plotting.figure.Figure\">Figure</b>(</div><div style=\"display: table-cell;\">id&nbsp;=&nbsp;'6021', <span id=\"6572\" style=\"cursor: pointer;\">&hellip;)</span></div></div><div class=\"6571\" style=\"display: none;\"><div style=\"display: table-cell;\"></div><div style=\"display: table-cell;\">above&nbsp;=&nbsp;[],</div></div><div class=\"6571\" style=\"display: none;\"><div style=\"display: table-cell;\"></div><div style=\"display: table-cell;\">align&nbsp;=&nbsp;'start',</div></div><div class=\"6571\" style=\"display: none;\"><div style=\"display: table-cell;\"></div><div style=\"display: table-cell;\">aspect_ratio&nbsp;=&nbsp;None,</div></div><div class=\"6571\" style=\"display: none;\"><div style=\"display: table-cell;\"></div><div style=\"display: table-cell;\">aspect_scale&nbsp;=&nbsp;1,</div></div><div class=\"6571\" style=\"display: none;\"><div style=\"display: table-cell;\"></div><div style=\"display: table-cell;\">background&nbsp;=&nbsp;None,</div></div><div class=\"6571\" style=\"display: none;\"><div style=\"display: table-cell;\"></div><div style=\"display: table-cell;\">background_fill_alpha&nbsp;=&nbsp;{'value': 1.0},</div></div><div class=\"6571\" style=\"display: none;\"><div style=\"display: table-cell;\"></div><div style=\"display: table-cell;\">background_fill_color&nbsp;=&nbsp;{'value': '#ffffff'},</div></div><div class=\"6571\" style=\"display: none;\"><div style=\"display: table-cell;\"></div><div style=\"display: table-cell;\">below&nbsp;=&nbsp;[DatetimeAxis(id='6032', ...)],</div></div><div class=\"6571\" style=\"display: none;\"><div style=\"display: table-cell;\"></div><div style=\"display: table-cell;\">border_fill_alpha&nbsp;=&nbsp;{'value': 1.0},</div></div><div class=\"6571\" style=\"display: none;\"><div style=\"display: table-cell;\"></div><div style=\"display: table-cell;\">border_fill_color&nbsp;=&nbsp;{'value': '#ffffff'},</div></div><div class=\"6571\" style=\"display: none;\"><div style=\"display: table-cell;\"></div><div style=\"display: table-cell;\">center&nbsp;=&nbsp;[Grid(id='6036', ...), Grid(id='6041', ...)],</div></div><div class=\"6571\" style=\"display: none;\"><div style=\"display: table-cell;\"></div><div style=\"display: table-cell;\">css_classes&nbsp;=&nbsp;[],</div></div><div class=\"6571\" style=\"display: none;\"><div style=\"display: table-cell;\"></div><div style=\"display: table-cell;\">disabled&nbsp;=&nbsp;False,</div></div><div class=\"6571\" style=\"display: none;\"><div style=\"display: table-cell;\"></div><div style=\"display: table-cell;\">extra_x_ranges&nbsp;=&nbsp;{},</div></div><div class=\"6571\" style=\"display: none;\"><div style=\"display: table-cell;\"></div><div style=\"display: table-cell;\">extra_y_ranges&nbsp;=&nbsp;{},</div></div><div class=\"6571\" style=\"display: none;\"><div style=\"display: table-cell;\"></div><div style=\"display: table-cell;\">frame_height&nbsp;=&nbsp;None,</div></div><div class=\"6571\" style=\"display: none;\"><div style=\"display: table-cell;\"></div><div style=\"display: table-cell;\">frame_width&nbsp;=&nbsp;None,</div></div><div class=\"6571\" style=\"display: none;\"><div style=\"display: table-cell;\"></div><div style=\"display: table-cell;\">height&nbsp;=&nbsp;None,</div></div><div class=\"6571\" style=\"display: none;\"><div style=\"display: table-cell;\"></div><div style=\"display: table-cell;\">height_policy&nbsp;=&nbsp;'auto',</div></div><div class=\"6571\" style=\"display: none;\"><div style=\"display: table-cell;\"></div><div style=\"display: table-cell;\">hidpi&nbsp;=&nbsp;True,</div></div><div class=\"6571\" style=\"display: none;\"><div style=\"display: table-cell;\"></div><div style=\"display: table-cell;\">js_event_callbacks&nbsp;=&nbsp;{},</div></div><div class=\"6571\" style=\"display: none;\"><div style=\"display: table-cell;\"></div><div style=\"display: table-cell;\">js_property_callbacks&nbsp;=&nbsp;{},</div></div><div class=\"6571\" style=\"display: none;\"><div style=\"display: table-cell;\"></div><div style=\"display: table-cell;\">left&nbsp;=&nbsp;[LinearAxis(id='6037', ...)],</div></div><div class=\"6571\" style=\"display: none;\"><div style=\"display: table-cell;\"></div><div style=\"display: table-cell;\">lod_factor&nbsp;=&nbsp;10,</div></div><div class=\"6571\" style=\"display: none;\"><div style=\"display: table-cell;\"></div><div style=\"display: table-cell;\">lod_interval&nbsp;=&nbsp;300,</div></div><div class=\"6571\" style=\"display: none;\"><div style=\"display: table-cell;\"></div><div style=\"display: table-cell;\">lod_threshold&nbsp;=&nbsp;2000,</div></div><div class=\"6571\" style=\"display: none;\"><div style=\"display: table-cell;\"></div><div style=\"display: table-cell;\">lod_timeout&nbsp;=&nbsp;500,</div></div><div class=\"6571\" style=\"display: none;\"><div style=\"display: table-cell;\"></div><div style=\"display: table-cell;\">margin&nbsp;=&nbsp;(0, 0, 0, 0),</div></div><div class=\"6571\" style=\"display: none;\"><div style=\"display: table-cell;\"></div><div style=\"display: table-cell;\">match_aspect&nbsp;=&nbsp;False,</div></div><div class=\"6571\" style=\"display: none;\"><div style=\"display: table-cell;\"></div><div style=\"display: table-cell;\">max_height&nbsp;=&nbsp;None,</div></div><div class=\"6571\" style=\"display: none;\"><div style=\"display: table-cell;\"></div><div style=\"display: table-cell;\">max_width&nbsp;=&nbsp;None,</div></div><div class=\"6571\" style=\"display: none;\"><div style=\"display: table-cell;\"></div><div style=\"display: table-cell;\">min_border&nbsp;=&nbsp;5,</div></div><div class=\"6571\" style=\"display: none;\"><div style=\"display: table-cell;\"></div><div style=\"display: table-cell;\">min_border_bottom&nbsp;=&nbsp;None,</div></div><div class=\"6571\" style=\"display: none;\"><div style=\"display: table-cell;\"></div><div style=\"display: table-cell;\">min_border_left&nbsp;=&nbsp;None,</div></div><div class=\"6571\" style=\"display: none;\"><div style=\"display: table-cell;\"></div><div style=\"display: table-cell;\">min_border_right&nbsp;=&nbsp;None,</div></div><div class=\"6571\" style=\"display: none;\"><div style=\"display: table-cell;\"></div><div style=\"display: table-cell;\">min_border_top&nbsp;=&nbsp;None,</div></div><div class=\"6571\" style=\"display: none;\"><div style=\"display: table-cell;\"></div><div style=\"display: table-cell;\">min_height&nbsp;=&nbsp;None,</div></div><div class=\"6571\" style=\"display: none;\"><div style=\"display: table-cell;\"></div><div style=\"display: table-cell;\">min_width&nbsp;=&nbsp;None,</div></div><div class=\"6571\" style=\"display: none;\"><div style=\"display: table-cell;\"></div><div style=\"display: table-cell;\">name&nbsp;=&nbsp;None,</div></div><div class=\"6571\" style=\"display: none;\"><div style=\"display: table-cell;\"></div><div style=\"display: table-cell;\">outline_line_alpha&nbsp;=&nbsp;{'value': 1.0},</div></div><div class=\"6571\" style=\"display: none;\"><div style=\"display: table-cell;\"></div><div style=\"display: table-cell;\">outline_line_cap&nbsp;=&nbsp;'butt',</div></div><div class=\"6571\" style=\"display: none;\"><div style=\"display: table-cell;\"></div><div style=\"display: table-cell;\">outline_line_color&nbsp;=&nbsp;{'value': '#e5e5e5'},</div></div><div class=\"6571\" style=\"display: none;\"><div style=\"display: table-cell;\"></div><div style=\"display: table-cell;\">outline_line_dash&nbsp;=&nbsp;[],</div></div><div class=\"6571\" style=\"display: none;\"><div style=\"display: table-cell;\"></div><div style=\"display: table-cell;\">outline_line_dash_offset&nbsp;=&nbsp;0,</div></div><div class=\"6571\" style=\"display: none;\"><div style=\"display: table-cell;\"></div><div style=\"display: table-cell;\">outline_line_join&nbsp;=&nbsp;'bevel',</div></div><div class=\"6571\" style=\"display: none;\"><div style=\"display: table-cell;\"></div><div style=\"display: table-cell;\">outline_line_width&nbsp;=&nbsp;{'value': 1},</div></div><div class=\"6571\" style=\"display: none;\"><div style=\"display: table-cell;\"></div><div style=\"display: table-cell;\">output_backend&nbsp;=&nbsp;'canvas',</div></div><div class=\"6571\" style=\"display: none;\"><div style=\"display: table-cell;\"></div><div style=\"display: table-cell;\">plot_height&nbsp;=&nbsp;220,</div></div><div class=\"6571\" style=\"display: none;\"><div style=\"display: table-cell;\"></div><div style=\"display: table-cell;\">plot_width&nbsp;=&nbsp;400,</div></div><div class=\"6571\" style=\"display: none;\"><div style=\"display: table-cell;\"></div><div style=\"display: table-cell;\">renderers&nbsp;=&nbsp;[GlyphRenderer(id='6058', ...), GlyphRenderer(id='6063', ...)],</div></div><div class=\"6571\" style=\"display: none;\"><div style=\"display: table-cell;\"></div><div style=\"display: table-cell;\">reset_policy&nbsp;=&nbsp;'standard',</div></div><div class=\"6571\" style=\"display: none;\"><div style=\"display: table-cell;\"></div><div style=\"display: table-cell;\">right&nbsp;=&nbsp;[],</div></div><div class=\"6571\" style=\"display: none;\"><div style=\"display: table-cell;\"></div><div style=\"display: table-cell;\">sizing_mode&nbsp;=&nbsp;None,</div></div><div class=\"6571\" style=\"display: none;\"><div style=\"display: table-cell;\"></div><div style=\"display: table-cell;\">subscribed_events&nbsp;=&nbsp;[],</div></div><div class=\"6571\" style=\"display: none;\"><div style=\"display: table-cell;\"></div><div style=\"display: table-cell;\">tags&nbsp;=&nbsp;[],</div></div><div class=\"6571\" style=\"display: none;\"><div style=\"display: table-cell;\"></div><div style=\"display: table-cell;\">title&nbsp;=&nbsp;Title(id='6022', ...),</div></div><div class=\"6571\" style=\"display: none;\"><div style=\"display: table-cell;\"></div><div style=\"display: table-cell;\">title_location&nbsp;=&nbsp;'above',</div></div><div class=\"6571\" style=\"display: none;\"><div style=\"display: table-cell;\"></div><div style=\"display: table-cell;\">toolbar&nbsp;=&nbsp;Toolbar(id='6048', ...),</div></div><div class=\"6571\" style=\"display: none;\"><div style=\"display: table-cell;\"></div><div style=\"display: table-cell;\">toolbar_location&nbsp;=&nbsp;'right',</div></div><div class=\"6571\" style=\"display: none;\"><div style=\"display: table-cell;\"></div><div style=\"display: table-cell;\">toolbar_sticky&nbsp;=&nbsp;True,</div></div><div class=\"6571\" style=\"display: none;\"><div style=\"display: table-cell;\"></div><div style=\"display: table-cell;\">visible&nbsp;=&nbsp;True,</div></div><div class=\"6571\" style=\"display: none;\"><div style=\"display: table-cell;\"></div><div style=\"display: table-cell;\">width&nbsp;=&nbsp;None,</div></div><div class=\"6571\" style=\"display: none;\"><div style=\"display: table-cell;\"></div><div style=\"display: table-cell;\">width_policy&nbsp;=&nbsp;'auto',</div></div><div class=\"6571\" style=\"display: none;\"><div style=\"display: table-cell;\"></div><div style=\"display: table-cell;\">x_range&nbsp;=&nbsp;Range1d(id='6024', ...),</div></div><div class=\"6571\" style=\"display: none;\"><div style=\"display: table-cell;\"></div><div style=\"display: table-cell;\">x_scale&nbsp;=&nbsp;LinearScale(id='6028', ...),</div></div><div class=\"6571\" style=\"display: none;\"><div style=\"display: table-cell;\"></div><div style=\"display: table-cell;\">y_range&nbsp;=&nbsp;Range1d(id='6026', ...),</div></div><div class=\"6571\" style=\"display: none;\"><div style=\"display: table-cell;\"></div><div style=\"display: table-cell;\">y_scale&nbsp;=&nbsp;LinearScale(id='6030', ...))</div></div></div>\n",
       "<script>\n",
       "(function() {\n",
       "  var expanded = false;\n",
       "  var ellipsis = document.getElementById(\"6572\");\n",
       "  ellipsis.addEventListener(\"click\", function() {\n",
       "    var rows = document.getElementsByClassName(\"6571\");\n",
       "    for (var i = 0; i < rows.length; i++) {\n",
       "      var el = rows[i];\n",
       "      el.style.display = expanded ? \"none\" : \"table-row\";\n",
       "    }\n",
       "    ellipsis.innerHTML = expanded ? \"&hellip;)\" : \"&lsaquo;&lsaquo;&lsaquo;\";\n",
       "    expanded = !expanded;\n",
       "  });\n",
       "})();\n",
       "</script>\n"
      ],
      "text/plain": [
       "Figure(id='6021', ...)"
      ]
     },
     "execution_count": 36,
     "metadata": {},
     "output_type": "execute_result"
    }
   ],
   "source": [
    "# Remove consecutive same values\n",
    "evenly_ts.compact().iplot(**kwargs_plot, show=True)"
   ]
  },
  {
   "cell_type": "markdown",
   "metadata": {
    "toc-hr-collapsed": false
   },
   "source": [
    "## Pandas versus Ticts"
   ]
  },
  {
   "cell_type": "code",
   "execution_count": 37,
   "metadata": {},
   "outputs": [
    {
     "data": {
      "text/html": [
       "<div>\n",
       "<style scoped>\n",
       "    .dataframe tbody tr th:only-of-type {\n",
       "        vertical-align: middle;\n",
       "    }\n",
       "\n",
       "    .dataframe tbody tr th {\n",
       "        vertical-align: top;\n",
       "    }\n",
       "\n",
       "    .dataframe thead th {\n",
       "        text-align: right;\n",
       "    }\n",
       "</style>\n",
       "<table border=\"1\" class=\"dataframe\">\n",
       "  <thead>\n",
       "    <tr style=\"text-align: right;\">\n",
       "      <th></th>\n",
       "      <th>value</th>\n",
       "    </tr>\n",
       "  </thead>\n",
       "  <tbody>\n",
       "    <tr>\n",
       "      <th>2019-01-01 00:00:00+00:00</th>\n",
       "      <td>10</td>\n",
       "    </tr>\n",
       "    <tr>\n",
       "      <th>2019-01-01 00:10:00+00:00</th>\n",
       "      <td>20</td>\n",
       "    </tr>\n",
       "    <tr>\n",
       "      <th>2019-01-01 00:15:00+00:00</th>\n",
       "      <td>10</td>\n",
       "    </tr>\n",
       "  </tbody>\n",
       "</table>\n",
       "</div>"
      ],
      "text/plain": [
       "                           value\n",
       "2019-01-01 00:00:00+00:00     10\n",
       "2019-01-01 00:10:00+00:00     20\n",
       "2019-01-01 00:15:00+00:00     10"
      ]
     },
     "execution_count": 37,
     "metadata": {},
     "output_type": "execute_result"
    }
   ],
   "source": [
    "# From ticts to pandas and the other way arround\n",
    "df = ts.to_dataframe()\n",
    "df"
   ]
  },
  {
   "cell_type": "code",
   "execution_count": 38,
   "metadata": {},
   "outputs": [
    {
     "data": {
      "text/plain": [
       "<TimeSeries>\n",
       "2019-01-01T00:00:00+00:00: 10,\n",
       "2019-01-01T00:10:00+00:00: 20,\n",
       "2019-01-01T00:15:00+00:00: 10,"
      ]
     },
     "execution_count": 38,
     "metadata": {},
     "output_type": "execute_result"
    }
   ],
   "source": [
    "df.to_ticts()"
   ]
  }
 ],
 "metadata": {
  "kernelspec": {
   "display_name": "Python 3",
   "language": "python",
   "name": "python3"
  },
  "language_info": {
   "codemirror_mode": {
    "name": "ipython",
    "version": 3
   },
   "file_extension": ".py",
   "mimetype": "text/x-python",
   "name": "python",
   "nbconvert_exporter": "python",
   "pygments_lexer": "ipython3",
   "version": "3.6.8"
  }
 },
 "nbformat": 4,
 "nbformat_minor": 2
}

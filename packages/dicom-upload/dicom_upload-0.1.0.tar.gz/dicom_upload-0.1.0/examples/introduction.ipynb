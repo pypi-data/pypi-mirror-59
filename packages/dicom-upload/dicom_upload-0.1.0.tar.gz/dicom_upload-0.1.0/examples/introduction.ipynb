{
 "cells": [
  {
   "cell_type": "markdown",
   "metadata": {},
   "source": [
    "# Introduction"
   ]
  },
  {
   "cell_type": "code",
   "execution_count": 1,
   "metadata": {},
   "outputs": [],
   "source": [
    "import dicom_upload\n",
    "from ipywidgets import Output"
   ]
  },
  {
   "cell_type": "code",
   "execution_count": 2,
   "metadata": {},
   "outputs": [],
   "source": [
    "# Upload to the examples subdirectory.\n",
    "upload_url = 'http://localhost:8888/api/contents/examples/'\n",
    "token = 'c13dac305e39982bb3236b508fda269b2b79daeaafd07d80'\n",
    "\n",
    "uploader = dicom_upload.Uploader(upload_url=upload_url,\n",
    "                          token=token,\n",
    "                          button_style='primary', \n",
    "                          layout={'border': 'solid blue 1px'})"
   ]
  },
  {
   "cell_type": "code",
   "execution_count": 3,
   "metadata": {},
   "outputs": [],
   "source": [
    "out = Output()\n",
    "@out.capture()\n",
    "def observe_hash(change):\n",
    "    print(\"Hash of files: {}\".format(change['owner'].hash))\n",
    "\n",
    "@out.capture()\n",
    "def observe_responses(change):\n",
    "    print(\"Upload progress: {}\".format(change['owner'].responses))\n",
    "    \n",
    "@out.capture()\n",
    "def observe_finish(change):\n",
    "    print(\"Finished upload: {}\".format(change['owner'].finished))\n",
    "\n",
    "uploader.observe(observe_hash, 'hash')\n",
    "uploader.observe(observe_responses, 'responses')\n",
    "uploader.observe(observe_finish, 'finished')"
   ]
  },
  {
   "cell_type": "code",
   "execution_count": 4,
   "metadata": {},
   "outputs": [
    {
     "data": {
      "application/vnd.jupyter.widget-view+json": {
       "model_id": "be486335a3fb40d8a1c3af9326da53bd",
       "version_major": 2,
       "version_minor": 0
      },
      "text/plain": [
       "Uploader(value=None, button_style='primary', description='Upload', layout=Layout(border='solid blue 1px'), tok…"
      ]
     },
     "metadata": {},
     "output_type": "display_data"
    },
    {
     "data": {
      "application/vnd.jupyter.widget-view+json": {
       "model_id": "20eb44ff6efb40228d316f854b21445c",
       "version_major": 2,
       "version_minor": 0
      },
      "text/plain": [
       "Output()"
      ]
     },
     "metadata": {},
     "output_type": "display_data"
    }
   ],
   "source": [
    "display(uploader)\n",
    "display(out)"
   ]
  },
  {
   "cell_type": "code",
   "execution_count": 5,
   "metadata": {},
   "outputs": [],
   "source": [
    "# Select some files to upload, then run\n",
    "uploader.upload()"
   ]
  },
  {
   "cell_type": "markdown",
   "metadata": {},
   "source": [
    "### Check header was anonymized"
   ]
  },
  {
   "cell_type": "code",
   "execution_count": null,
   "metadata": {},
   "outputs": [],
   "source": [
    "import pydicom\n",
    "\n",
    "ds = pydicom.dcmread('./IM000001')\n",
    "ds"
   ]
  }
 ],
 "metadata": {
  "kernelspec": {
   "display_name": "Python 3",
   "language": "python",
   "name": "python3"
  },
  "language_info": {
   "codemirror_mode": {
    "name": "ipython",
    "version": 3
   },
   "file_extension": ".py",
   "mimetype": "text/x-python",
   "name": "python",
   "nbconvert_exporter": "python",
   "pygments_lexer": "ipython3",
   "version": "3.6.9"
  }
 },
 "nbformat": 4,
 "nbformat_minor": 2
}

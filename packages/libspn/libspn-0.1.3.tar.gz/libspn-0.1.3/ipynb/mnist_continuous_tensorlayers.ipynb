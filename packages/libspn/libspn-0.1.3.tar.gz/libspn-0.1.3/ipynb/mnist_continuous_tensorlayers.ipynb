{
 "cells": [
  {
   "cell_type": "markdown",
   "metadata": {},
   "source": [
    "# Generative learning for continuous MNIST data using randomly structured SPNs\n",
    "This notebook shows how to build a randomly structured SPN and train it with online hard EM on continuous MNIST data.\n",
    "\n",
    "### Setting up the imports and preparing the data\n",
    "We load the data from `tf.keras.datasets`. Preprocessing consists of flattening and scaling of the data."
   ]
  },
  {
   "cell_type": "code",
   "execution_count": null,
   "metadata": {},
   "outputs": [],
   "source": [
    "%matplotlib inline\n",
    "import libspn as spn\n",
    "import tensorflow as tf\n",
    "import numpy as np\n",
    "from libspn.examples.utils.dataiterator import DataIterator\n",
    "import matplotlib.pyplot as plt\n",
    "\n",
    "# Load\n",
    "(train_x, train_y), (test_x, test_y) = tf.keras.datasets.mnist.load_data()\n",
    "\n",
    "def scale(x):\n",
    "    return x / 255.\n",
    "\n",
    "def flatten(x):\n",
    "    return x.reshape(-1, np.prod(x.shape[1:]))\n",
    "\n",
    "def preprocess(x, y):\n",
    "    return scale(flatten(x)), np.expand_dims(y, axis=1)\n",
    "\n",
    "# Preprocess\n",
    "train_x, train_y = preprocess(train_x, train_y)\n",
    "test_x, test_y = preprocess(test_x, test_y)"
   ]
  },
  {
   "cell_type": "markdown",
   "metadata": {},
   "source": [
    "### Defining the hyperparameters\n",
    "Some hyperparameters for the SPN. \n",
    "- `num_subsets` is used for the `DenseSPNGenerator`. This corresponds to the number of variable subsets joined by product nodes in the SPN.\n",
    "- `num_mixtures` is used for the `DenseSPNGenerator`. This corresponds to the number of sum nodes per scope.\n",
    "- `num_decomps` is used for the `DenseSPNGenerator`. This corresponds to the number of decompositions generated at each level of products from top-down.\n",
    "- `num_vars` corresponds to the number of input variables (the number of pixels in the case of MNIST).\n",
    "- `balanced` is used for the `DenseSPNGenerator`. If true, then the generated SPN will have balanced subsets and will consequently be a balanced tree.\n",
    "- `input_dist` is the input distribution (the first product/sum layer in the SPN). `spn.DenseSPNGenerator.InputDist.RAW` corresponds to raw indicators being joined (so first layer is a product layer). `spn.DenseSPNGenerator.InputDist.MIXTURE` would correspond to a sums on top of each indicator.\n",
    "- `num_leaf_components` is the number of contineuous components in the leaf distribution\n",
    "- `inference_type` determines the kind of forward inference where `spn.InferenceType.MARGINAL` corresponds to sum nodes marginalizing their inputs. `spn.InferenceType.MPE` would correspond to having max nodes instead.\n",
    "- `num_classes`, `batch_size` and `num_epochs` should be obvious:)"
   ]
  },
  {
   "cell_type": "code",
   "execution_count": null,
   "metadata": {},
   "outputs": [],
   "source": [
    "# Number of variable subsets that a product joins\n",
    "num_subsets = 2\n",
    "# Number of sums per scope\n",
    "num_mixtures = 4\n",
    "# Number of variables\n",
    "num_vars = train_x.shape[1]\n",
    "# Number of decompositions per product layer\n",
    "num_decomps = 1\n",
    "# Generate balanced subsets -> balanced tree\n",
    "balanced = True\n",
    "# Input distribution. Raw corresponds to first layer being product that \n",
    "# takes raw indicators\n",
    "input_dist = spn.DenseSPNGenerator.InputDist.RAW\n",
    "# Number of different values at leaf (binary here, so 2)\n",
    "num_leaf_components = 2\n",
    "# Initial value for path count accumulators\n",
    "initial_accum_value = 0.1\n",
    "# Inference type (can also be spn.InferenceType.MPE) where \n",
    "# sum nodes are turned into max nodes\n",
    "inference_type = spn.InferenceType.MARGINAL\n",
    "# Using unweighted log probabilities when determining winning child during hard EM\n",
    "use_unweighted = True\n",
    "# Sample the MPE pahts\n",
    "sample_winner = True\n",
    "# Sample probabilities\n",
    "sample_prob = 0.25\n",
    "\n",
    "# Number of classes\n",
    "num_classes = 10\n",
    "batch_size = 16\n",
    "num_epochs = 10"
   ]
  },
  {
   "cell_type": "markdown",
   "metadata": {},
   "source": [
    "### Building the SPN\n",
    "Our SPN consists of Gaussian leafs, a dense SPN per class and a root node connecting the 10 class-wise sub-SPNs. We also add an indicator node to the root node to model the latent class variable. Finally, we generate `Weight` nodes for the full SPN by using `spn.generate_weights`."
   ]
  },
  {
   "cell_type": "code",
   "execution_count": null,
   "metadata": {},
   "outputs": [],
   "source": [
    "# Reset graph\n",
    "tf.reset_default_graph()\n",
    "\n",
    "# Leaf nodes\n",
    "normal_leafs = spn.NormalLeaf(\n",
    "    trainable_scale=True,\n",
    "    trainable_loc=True,\n",
    "    num_components=num_leaf_components, \n",
    "    num_vars=num_vars)\n",
    "\n",
    "x = randomize = spn.BlockRandomDecompositions(normal_leafs, num_decomps=10)\n",
    "\n",
    "num_alterations = int(np.ceil(np.log2(num_vars)))\n",
    "for i in range(num_alterations - 1):\n",
    "    layer_suffix = \"_{}\".format(i)\n",
    "    x = spn.BlockPermuteProduct(x, num_factors=2, name=\"Products\" + layer_suffix)\n",
    "    x = spn.BlockSum(x, num_sums_per_block=4, name=\"Sums\" + layer_suffix)\n",
    "\n",
    "layer_suffix = \"_{}\".format(num_alterations - 1)\n",
    "x = spn.BlockPermuteProduct(x, num_factors=2, name=\"Products\" + layer_suffix)\n",
    "x = spn.BlockSum(x, num_sums_per_block=1, name=\"ClassRoots\")\n",
    "x = spn.BlockMergeDecompositions(x, num_decomps=1)\n",
    "root = spn.BlockRootSum(x, name=\"Root\")\n",
    "\n",
    "# Add a IndicatorLeaf node to the root as a latent class variable\n",
    "class_indicators = root.generate_latent_indicators()\n",
    "\n",
    "# Generate the weights for the SPN rooted at `root`\n",
    "spn.generate_weights(root)\n",
    "\n",
    "print(\"SPN depth: {}\".format(root.get_depth()))\n",
    "print(\"Number of products layers: {}\".format(root.get_num_nodes(node_type=spn.BlockPermuteProduct)))\n",
    "print(\"Number of sums layers: {}\".format(root.get_num_nodes(node_type=spn.BlockSum)))"
   ]
  },
  {
   "cell_type": "markdown",
   "metadata": {},
   "source": [
    "### Defining the TensorFlow graph\n",
    "Now that we have defined the SPN graph we can declare the TensorFlow operations needed for training and evaluation. We use the `HardEMLearning` class to help us out. The `MPEState` class can be used to find the MPE state of any node in the graph. In this case we might be interested in generating images or finding the most likely class based on the evidence elsewhere. These correspond to finding the MPE state for `leaf_indicators` and `class_indicators` respectively."
   ]
  },
  {
   "cell_type": "code",
   "execution_count": null,
   "metadata": {},
   "outputs": [],
   "source": [
    "# Op for initializing all weights\n",
    "weight_init_op = spn.initialize_weights(root)\n",
    "# Op for getting the log probability of the root\n",
    "root_log_prob = root.get_log_value(inference_type=inference_type)\n",
    "\n",
    "# Helper for constructing EM learning ops\n",
    "em_learning = spn.HardEMLearning(\n",
    "    initial_accum_value=initial_accum_value, root=root, value_inference_type=inference_type,\n",
    "    sample_prob=sample_prob, sample_winner=sample_winner, use_unweighted=use_unweighted)\n",
    "\n",
    "# Accumulate counts and update weights\n",
    "online_em_update_op = em_learning.accumulate_and_update_weights()\n",
    "\n",
    "# Op for initializing accumulators\n",
    "init_accumulators = em_learning.reset_accumulators()\n",
    "\n",
    "# MPE state generator\n",
    "mpe_state_generator = spn.MPEState()\n",
    "# Generate MPE state ops for leaf indicator and class indicator\n",
    "normal_leaf_mpe, class_indicator_mpe = mpe_state_generator.get_state(root, normal_leafs, class_indicators)"
   ]
  },
  {
   "cell_type": "markdown",
   "metadata": {},
   "source": [
    "### Display TF Graph\n",
    "Only works with Chrome browser."
   ]
  },
  {
   "cell_type": "code",
   "execution_count": null,
   "metadata": {},
   "outputs": [],
   "source": [
    "spn.display_tf_graph()"
   ]
  },
  {
   "cell_type": "markdown",
   "metadata": {},
   "source": [
    "### Training the SPN\n",
    "Here we we train while monitoring the likelihood. Note that we train the SPN generatively, which means that it does not optimize for discriminating between digits. This is why we observe lower accuracies than when e.g. training a discriminative model such as an MLP with cross-entropy loss."
   ]
  },
  {
   "cell_type": "code",
   "execution_count": null,
   "metadata": {},
   "outputs": [],
   "source": [
    "# Set up some convenient iterators\n",
    "train_iterator = DataIterator([train_x, train_y], batch_size=batch_size)\n",
    "test_iterator = DataIterator([test_x, test_y], batch_size=batch_size)\n",
    "\n",
    "def fd(x, y):\n",
    "    return {normal_leafs: x, class_indicators: y}\n",
    "\n",
    "with tf.Session() as sess:\n",
    "    # Initialize things\n",
    "    sess.run([weight_init_op, tf.global_variables_initializer(), init_accumulators])\n",
    "    \n",
    "    # Do one run for test likelihoods\n",
    "    log_likelihoods = []\n",
    "    for batch_x, batch_y in test_iterator.iter_epoch(\"Testing\"):\n",
    "        batch_llh = sess.run(root_log_prob, fd(batch_x, batch_y))\n",
    "        log_likelihoods.extend(batch_llh)\n",
    "        test_iterator.display_progress(LLH=\"{:.2f}\".format(np.mean(batch_llh)))\n",
    "    mean_test_llh = np.mean(log_likelihoods)\n",
    "    \n",
    "    print(\"Before training test LLH = {:.2f}\".format(mean_test_llh))                              \n",
    "    for epoch in range(num_epochs):\n",
    "        \n",
    "        # Train\n",
    "        log_likelihoods = []\n",
    "        for batch_x, batch_y in train_iterator.iter_epoch(\"Training\"):\n",
    "            batch_llh, _ = sess.run(\n",
    "                [root_log_prob, online_em_update_op], fd(batch_x, batch_y))\n",
    "            log_likelihoods.extend(batch_llh)\n",
    "            train_iterator.display_progress(LLH=\"{:.2f}\".format(np.mean(batch_llh)))\n",
    "        mean_train_llh = np.mean(log_likelihoods)\n",
    "        \n",
    "        # Test\n",
    "        log_likelihoods, matches = [], []\n",
    "        for batch_x, batch_y in test_iterator.iter_epoch(\"Testing\"):\n",
    "            batch_llh, batch_class_mpe = sess.run([root_log_prob, class_indicator_mpe], fd(batch_x, -np.ones_like(batch_y, dtype=int)))\n",
    "            log_likelihoods.extend(batch_llh)\n",
    "            matches.extend(np.equal(batch_class_mpe, batch_y))\n",
    "            test_iterator.display_progress(LLH=\"{:.2f}\".format(np.mean(batch_llh)))\n",
    "        mean_test_llh = np.mean(log_likelihoods)\n",
    "        mean_test_acc = np.mean(matches)\n",
    "        \n",
    "        # Report\n",
    "        print(\"Epoch {}, train LLH = {:.2f}, test LLH = {:.2f}, test accuracy = {:.2f}\".format(\n",
    "            epoch, mean_train_llh, mean_test_llh, mean_test_acc))\n",
    "    \n",
    "    # Compute MPE state of all digits\n",
    "    per_class_mpe = sess.run(\n",
    "        normal_leaf_mpe, \n",
    "        fd(\n",
    "            -np.ones([num_classes, num_vars], dtype=int), \n",
    "            np.expand_dims(np.arange(num_classes, dtype=int), 1)\n",
    "        )\n",
    "    )\n",
    "    "
   ]
  },
  {
   "cell_type": "markdown",
   "metadata": {},
   "source": [
    "### Visualize MPE state per class\n",
    "We can visualize the MPE state computed at the end of the script above."
   ]
  },
  {
   "cell_type": "code",
   "execution_count": null,
   "metadata": {},
   "outputs": [],
   "source": [
    "for sample in per_class_mpe:\n",
    "    _, ax = plt.subplots()\n",
    "    ax.imshow(sample.reshape(28, 28).astype(float), cmap='gray')\n",
    "    plt.show()"
   ]
  }
 ],
 "metadata": {
  "kernelspec": {
   "display_name": "Python 3",
   "language": "python",
   "name": "python3"
  },
  "language_info": {
   "codemirror_mode": {
    "name": "ipython",
    "version": 3
   },
   "file_extension": ".py",
   "mimetype": "text/x-python",
   "name": "python",
   "nbconvert_exporter": "python",
   "pygments_lexer": "ipython3",
   "version": "3.5.2"
  }
 },
 "nbformat": 4,
 "nbformat_minor": 2
}

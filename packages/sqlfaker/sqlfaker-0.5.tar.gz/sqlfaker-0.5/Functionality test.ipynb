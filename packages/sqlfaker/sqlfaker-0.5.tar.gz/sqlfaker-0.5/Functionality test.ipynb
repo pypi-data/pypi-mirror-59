{
 "cells": [
  {
   "cell_type": "code",
   "execution_count": 1,
   "metadata": {
    "ExecuteTime": {
     "end_time": "2019-11-20T22:36:18.928830Z",
     "start_time": "2019-11-20T22:36:18.342962Z"
    }
   },
   "outputs": [],
   "source": [
    "from sqlfaker.database import Database\n",
    "\n",
    "my_db = Database(db_name=\"campusdb\", dbs_type=\"mysql\")\n",
    "\n",
    "my_db.add_table(table_name=\"studiengang\", n_rows=5)\n",
    "my_db.add_table(table_name=\"student\", n_rows=10)\n",
    "\n",
    "my_db.tables[\"studiengang\"].add_primary_key(column_name=\"studiengang_id\")\n",
    "my_db.tables[\"studiengang\"].add_column(column_name=\"bezeichnung\", data_type=\"varchar(50)\", data_target=\"job\")\n",
    "my_db.tables[\"studiengang\"].add_column(column_name=\"start_datum\", data_type=\"date\", data_target=\"date\")\n",
    "\n",
    "my_db.tables[\"student\"].add_primary_key(column_name=\"student_id\")\n",
    "my_db.tables[\"student\"].add_column(column_name=\"firstname\", data_type=\"varchar(50)\", data_target=\"first_name\")\n",
    "my_db.tables[\"student\"].add_column(column_name=\"lastname\", data_type=\"varchar(50)\", data_target=\"last_name\")\n",
    "my_db.tables[\"student\"].add_foreign_key(column_name=\"studiengang_id\", target_table=\"studiengang\", target_column=\"studiengang_id\")\n",
    "\n",
    "my_db.generate_data()"
   ]
  },
  {
   "cell_type": "code",
   "execution_count": 2,
   "metadata": {
    "ExecuteTime": {
     "end_time": "2019-11-20T22:36:18.941240Z",
     "start_time": "2019-11-20T22:36:18.931258Z"
    },
    "scrolled": true
   },
   "outputs": [
    {
     "name": "stdout",
     "output_type": "stream",
     "text": [
      "DROP DATABASE IF EXISTS campusdb;\n",
      "CREATE DATABASE campusdb;\n",
      "USE campusdb;\n",
      "\n",
      "CREATE TABLE `campusdb`.`studiengang` (\n",
      "\t`studiengang_id` INT PRIMARY KEY AUTO_INCREMENT NOT NULL,\n",
      "\t`bezeichnung` VARCHAR(50),\n",
      "\t`start_datum` DATE\n",
      ");\n",
      "\n",
      "CREATE TABLE `campusdb`.`student` (\n",
      "\t`student_id` INT PRIMARY KEY AUTO_INCREMENT NOT NULL,\n",
      "\t`firstname` VARCHAR(50),\n",
      "\t`lastname` VARCHAR(50),\n",
      "\t`studiengang_id` INT,\n",
      "\tFOREIGN KEY (studiengang_id) REFERENCES studiengang(studiengang_id)\n",
      ");\n",
      "\n",
      "\n"
     ]
    }
   ],
   "source": [
    "print(my_db.return_ddl())"
   ]
  },
  {
   "cell_type": "code",
   "execution_count": 3,
   "metadata": {
    "ExecuteTime": {
     "end_time": "2019-11-20T22:36:18.967236Z",
     "start_time": "2019-11-20T22:36:18.946235Z"
    }
   },
   "outputs": [
    {
     "name": "stdout",
     "output_type": "stream",
     "text": [
      "USE campusdb;\n",
      "\n",
      "INSERT INTO `campusdb`.`studiengang` (`studiengang_id`, `bezeichnung`, `start_datum`) VALUES\n",
      "\t(1, 'Pfleger', '1999-04-21'),\n",
      "\t(2, 'Binnenschiffer', '1977-10-29'),\n",
      "\t(3, 'Bankkaufmann', '1981-05-14'),\n",
      "\t(4, 'Artist', '1997-05-11'),\n",
      "\t(5, 'Winzer', '2005-11-17');\n",
      "\n",
      "INSERT INTO `campusdb`.`student` (`student_id`, `firstname`, `lastname`, `studiengang_id`) VALUES\n",
      "\t(1, 'Ingo', 'Wilmsen', 3),\n",
      "\t(2, 'Hans-Wilhelm', 'Sorgatz', 5),\n",
      "\t(3, 'Johanna', 'Jessel', 4),\n",
      "\t(4, 'Anne-Kathrin', 'Trupp', 3),\n",
      "\t(5, 'Karsten', 'Jähn', 1),\n",
      "\t(6, 'Ira', 'Häring', 2),\n",
      "\t(7, 'Wilhelm', 'Bolander', 1),\n",
      "\t(8, 'Toni', 'Albers', 3),\n",
      "\t(9, 'Elias', 'Pergande', 2),\n",
      "\t(10, 'Amelie', 'Barkholz', 5);\n",
      "\n",
      "\n"
     ]
    }
   ],
   "source": [
    "print(my_db.return_dml())"
   ]
  },
  {
   "cell_type": "code",
   "execution_count": 4,
   "metadata": {
    "ExecuteTime": {
     "end_time": "2019-11-20T22:36:19.090251Z",
     "start_time": "2019-11-20T22:36:18.972238Z"
    }
   },
   "outputs": [],
   "source": [
    "hr = Database(db_name=\"hr\", dbs_type=\"mysql\")\n",
    "\n",
    "hr.add_table(table_name=\"employee\", n_rows=10)\n",
    "\n",
    "hr.tables[\"employee\"].add_primary_key(column_name=\"emp_id\")\n",
    "hr.tables[\"employee\"].add_column(column_name=\"firstname\", data_type=\"varchar(50)\", data_target=\"first_name\")\n",
    "hr.tables[\"employee\"].add_column(column_name=\"lastname\", data_type=\"varchar(50)\", data_target=\"last_name\")\n",
    "hr.tables[\"employee\"].add_foreign_key(column_name=\"boss_id\", target_table=\"employee\", target_column=\"emp_id\")\n",
    "hr.generate_data(recursive = True)"
   ]
  },
  {
   "cell_type": "code",
   "execution_count": 6,
   "metadata": {
    "ExecuteTime": {
     "end_time": "2019-11-20T22:39:33.819027Z",
     "start_time": "2019-11-20T22:39:33.815024Z"
    }
   },
   "outputs": [
    {
     "name": "stdout",
     "output_type": "stream",
     "text": [
      "USE hr;\n",
      "\n",
      "INSERT INTO `hr`.`employee` (`emp_id`, `firstname`, `lastname`, `boss_id`) VALUES\n",
      "\t(1, 'Ahmet', 'Kambs', NULL),\n",
      "\t(2, 'Wilma', 'Trüb', 0),\n",
      "\t(3, 'Lilo', 'Köster', 1),\n",
      "\t(4, 'Kira', 'Niemeier', 2),\n",
      "\t(5, 'Wilfried', 'Atzler', 3),\n",
      "\t(6, 'Ulf', 'Zorbach', 4),\n",
      "\t(7, 'Alena', 'Hahn', 5),\n",
      "\t(8, 'Augusta', 'Schäfer', 6),\n",
      "\t(9, 'Karlfried', 'Schönland', 7),\n",
      "\t(10, 'Milan', 'Beyer', 8);\n",
      "\n",
      "\n"
     ]
    }
   ],
   "source": [
    "print(hr.return_dml())"
   ]
  }
 ],
 "metadata": {
  "kernelspec": {
   "display_name": "Python 3",
   "language": "python",
   "name": "python3"
  },
  "language_info": {
   "codemirror_mode": {
    "name": "ipython",
    "version": 3
   },
   "file_extension": ".py",
   "mimetype": "text/x-python",
   "name": "python",
   "nbconvert_exporter": "python",
   "pygments_lexer": "ipython3",
   "version": "3.6.6"
  }
 },
 "nbformat": 4,
 "nbformat_minor": 2
}
